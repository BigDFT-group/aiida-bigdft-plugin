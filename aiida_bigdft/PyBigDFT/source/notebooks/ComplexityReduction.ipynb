{
 "cells": [
  {
   "cell_type": "markdown",
   "metadata": {},
   "source": [
    "# Complexity Reduction\n",
    "In this notebook, we introduce the concept of complexity reduction, and the associated subroutines and data structures for performing this kind of analysis in PyBigDFT. To demonstrate this approach, we study a helix of amino acids taken from [here](http://www.ergoscf.org/xyz/gluala.php). In this case, we have just an XYZ file with a bunch of atoms in it, so we have no a priori information about amino acids or how to break down this system."
   ]
  },
  {
   "cell_type": "markdown",
   "metadata": {},
   "source": [
    "## Reading in the System\n",
    " We'll begin by loading this system in from the XYZ file."
   ]
  },
  {
   "cell_type": "code",
   "execution_count": 46,
   "metadata": {
    "collapsed": true,
    "jupyter": {
     "outputs_hidden": true
    }
   },
   "outputs": [],
   "source": [
    "from BigDFT import XYZ\n",
    "from BigDFT.Fragments import System, Fragment"
   ]
  },
  {
   "cell_type": "markdown",
   "metadata": {},
   "source": [
    "The data is read into a system class, which is a named collection of molecule fragments. To start, each atom will be its own fragment. "
   ]
  },
  {
   "cell_type": "code",
   "execution_count": 47,
   "metadata": {
    "collapsed": true,
    "jupyter": {
     "outputs_hidden": true
    }
   },
   "outputs": [],
   "source": [
    "sys = System()\n",
    "with XYZ.XYZReader(\"testfiles/0004.xyz\") as ifile:\n",
    "    for i, at in enumerate(ifile):\n",
    "        sys[\"ATOM:\"+str(i)] = Fragment([at])"
   ]
  },
  {
   "cell_type": "markdown",
   "metadata": {},
   "source": [
    "To help this notebook, we can use py3Dmol to visualize our structures."
   ]
  },
  {
   "cell_type": "code",
   "execution_count": 48,
   "metadata": {
    "collapsed": true,
    "jupyter": {
     "outputs_hidden": true
    }
   },
   "outputs": [],
   "source": [
    "def display_molecule(sys):\n",
    "    def gencolor():\n",
    "        import random\n",
    "        r = lambda: random.randint(0,255)\n",
    "        return '#%02X%02X%02X' % (r(),r(),r())\n",
    "    \n",
    "    import py3Dmol\n",
    "        \n",
    "    xyzview = py3Dmol.view(width=600,height=400)\n",
    "    \n",
    "    # To use py3Dmol, we need an XYZ file in string form.  First, the whole system.  \n",
    "    outstr = str(sum(len(sys[x]) for x in sys)) + \" angstroem\"\n",
    "    outstr += \"\\n\\n\"\n",
    "    for frag in sys.values():\n",
    "        for at in frag:\n",
    "            outstr += at.sym + \" \" + \" \".join([str(x) for x in at.get_position(\"angstroem\")])\n",
    "            outstr += \"\\n\"\n",
    "    xyzview.addModel(outstr)\n",
    "    xyzview.setStyle({'model': -1}, {'line':{'color': 'black'}})\n",
    "    \n",
    "    # Now each fragment (so that we can color it)\n",
    "    for frag in sys.values():\n",
    "        outstr = str(len(frag)) + \" angstroem\\n\\n\"\n",
    "        for at in frag:\n",
    "            outstr += at.sym + \" \" + \" \".join([str(x) for x in at.get_position(\"angstroem\")])\n",
    "            outstr += \"\\n\"\n",
    "        xyzview.addModel(outstr)\n",
    "        xyzview.setStyle({'model': -1}, {'sphere':{'scale':0.15, 'color': gencolor()}})\n",
    "            \n",
    "    # Now we can draw the plot\n",
    "    xyzview.zoomTo()\n",
    "    xyzview.show()"
   ]
  },
  {
   "cell_type": "code",
   "execution_count": 49,
   "metadata": {
    "collapsed": true,
    "jupyter": {
     "outputs_hidden": true
    }
   },
   "outputs": [
    {
     "data": {
      "application/3dmoljs_load.v0": "<div id=\"3dmolviewer_1568788550528864\"  style=\"position: relative; width: 600px; height: 400px\">\n        <p id=\"3dmolwarning_1568788550528864\" style=\"background-color:#ffcccc;color:black\">You appear to be running in JupyterLab (or JavaScript failed to load for some other reason).  You need to install the 3dmol extension: <br>\n        <tt>jupyter labextension install jupyterlab_3dmol</tt></p>\n        </div>\n<script>\n\nvar loadScriptAsync = function(uri){\n  return new Promise((resolve, reject) => {\n    var tag = document.createElement('script');\n    tag.src = uri;\n    tag.async = true;\n    tag.onload = () => {\n      resolve();\n    };\n  var firstScriptTag = document.getElementsByTagName('script')[0];\n  firstScriptTag.parentNode.insertBefore(tag, firstScriptTag);\n});\n};\n\nif(typeof $3Dmolpromise === 'undefined') {\n$3Dmolpromise = null;\n  $3Dmolpromise = loadScriptAsync('https://3dmol.csb.pitt.edu/build/3Dmol.js');\n}\n\nvar viewer_1568788550528864 = null;\nvar warn = document.getElementById(\"3dmolwarning_1568788550528864\");\nif(warn) {\n    warn.parentNode.removeChild(warn);\n}\n$3Dmolpromise.then(function() {\nviewer_1568788550528864 = $3Dmol.createViewer($(\"#3dmolviewer_1568788550528864\"),{backgroundColor:\"white\"});\n\tviewer_1568788550528864.addModel(\"106 angstroem\\n\\nH 2.702326636 1.809352684 -0.281507338\\nO -1.080788324 -4.446232777 -1.542012654\\nH -1.58741947 -2.662777448 -1.996615935\\nO 2.080370651 0.54406136 1.961767624\\nC 0.959290649 0.196696863 1.6277496259999997\\nH -4.173226491 -1.832603921 -1.804179662\\nO 3.972204404 -1.408296629 0.70106856\\nH 0.242977841 -3.606211767 0.662576107\\nH -3.613360859 1.929592065 -0.663387909\\nH -0.238001799 -1.945593403 -1.178704356\\nH 1.984324861 -2.328203829 1.904391324\\nH 1.852293738 -3.921602724 -0.038143446\\nH 5.854996061 0.961097144 3.993492399\\nC 5.49696044 0.225175324 3.254177903\\nN -3.245688583 -1.7361906370000002 -1.360195102\\nH -4.612177134 -3.329140227 -1.409446975\\nN 2.57190077 -0.783326131 -0.9493621499999999\\nC -2.993047092 2.8263687719999995 -0.508586544\\nC -1.212829577 -0.596972908 -1.987404429\\nC 1.651511825 -1.966759916 0.916439769\\nH 2.66931027 3.993980008 0.703756011\\nO -5.732648641 -5.59755535 -1.357450744\\nH 1.628457964 -0.736397258 -1.367043529\\nH -1.392037803 3.906538602 -1.519094475\\nH -7.691343755 -5.579748582 -0.179842884\\nO -7.336165399 -4.702178787 -0.102748862\\nH 3.742287394 0.737496569 2.290823134\\nH 2.440815079 1.252898971 -3.014167775\\nO 5.631738041 0.62447468 -0.76564302\\nH 1.878816707 1.801413274 1.676936134\\nC 4.621985645 -0.903755404 4.165946929\\nC -2.161574563 -1.761906549 -2.270721587\\nO -4.714110793 4.222201294 -1.455708442\\nO -0.031147254 -0.79307386 -1.754548698\\nC -3.040839404 -1.588902902 -0.064531883\\nC -1.987148381 2.992134694 -1.678459372\\nH 3.799291845 0.880692516 -3.790953454\\nC -6.185323924000001 -4.630005907 -0.767100653\\nH -3.15157652 -2.795796412 -4.094512468\\nH -5.237336385 5.000265838 -1.303805698\\nC 6.767304924 -0.304189027 2.588254243\\nH 4.264527121 -0.980780666 -2.00268014\\nC -5.041406092 -2.946842145 0.704641262\\nC 0.002633416 -3.871380626 -2.058491757\\nH -0.355260442 1.916654114 -2.65718323\\nN -0.879775858 1.322307378 0.543978588\\nH 1.378722194 -2.243016848 -1.872851729\\nH -2.542766466 3.108874023 -2.623599687\\nC 1.395329548 3.357637309 3.049887161\\nO 0.488726727 3.985212419 2.304750171\\nH -0.099562609 4.474360735 2.867665333\\nH 3.811205871 4.187642335 2.059833568\\nH -0.294238185 -1.276970067 0.837111303\\nC 4.364187336 2.630814986 0.630339603\\nC -1.252943626 0.807043101 3.105750249\\nH 3.033390431 1.980750298 3.025600472\\nC 2.857912174 -1.352374549 0.206830486\\nC -2.569942678 -1.99576886 -3.898582802\\nC 2.412431108 2.533728039 2.302980741\\nH -3.1038216 -1.1991394760000003 -4.209452584\\nC 3.580676155 -0.161471562 -1.724405448\\nN -1.786291324 0.591069328 -2.033200808\\nH -4.040882796 -1.353625964 1.8174001969999998\\nH -1.800737088 -2.08044335 -4.54511163\\nC -3.89936303 4.027297827 -0.421683758\\nH -4.836746619 0.391563102 0.162193523\\nC 3.076668722 0.493880901 -3.203553139\\nH -6.160140498 -0.847134332 0.177814384\\nC 1.073504377 -3.152829252 0.096625834\\nN 0.654330431 -0.982874182 1.119801349\\nC 5.319045605 1.913344551 1.584225537\\nH 3.813845872 -0.544742801 4.650457508\\nO 1.024539381 1.753616075 -0.5798168560000001\\nH 4.960083864 3.312503911 -0.000264896\\nH -2.010546281 1.457086231 3.2479212360000003\\nH -2.451865704 2.710008015 0.443850865\\nH -0.809124304 0.737672285 4.008556226\\nO -3.89553985 4.786435363 0.533970809\\nH -2.786179466 0.7571864479999999 -2.230221813\\nH 0.210462453 2.117547567 2.024662387\\nC -0.186893023 1.612158125 -0.541516673\\nN 4.744329083 0.985272694 2.326373492\\nC -0.235646954 1.136307888 1.791185524\\nO 1.392583175 3.4544289790000002 4.266523465\\nH -1.905176318 1.202730025 0.575593995\\nH -1.69645963 -0.084468233 2.948313919\\nN -5.183010526 -0.545903872 0.321570078\\nH 4.262951664 -1.607543301 3.539798146\\nH -6.180577606 -2.528665047 -1.120557388\\nH -4.367299289 -3.735878955 1.077051261\\nC -1.036922521 1.769543494 -1.8021102680000003\\nO 7.868246311 -0.05884107 3.053853781\\nC 4.421839221 0.762724694 -0.843631911\\nN 3.726108732 1.692225529 -0.215629266\\nO 0.507441784 -4.283068248 -3.090607002\\nC -5.486756474 -3.29490776 -0.74049761\\nO -1.945400394 -1.474924712 0.460889922\\nH 5.137744044 -1.403123507 4.874093316\\nH 2.568233218 -0.131074516 -3.809898344\\nO 6.502790098 2.206751478 1.625542302\\nH -5.926074594999999 -2.917715769 1.362017134\\nH -1.347580901 -5.171622276 -2.09415004\\nC 3.304072658 3.446583152 1.420040266\\nH 6.586106906 -0.909657653 1.692826432\\nC -4.319657356 -1.573012303 0.772599319\\nC 0.558546889 -2.697300228 -1.294497844\\n\");\n\tviewer_1568788550528864.setStyle({\"model\": -1},{\"line\": {\"color\": \"black\"}});\n\tviewer_1568788550528864.addModel(\"1 angstroem\\n\\nH 2.702326636 1.809352684 -0.281507338\\n\");\n\tviewer_1568788550528864.setStyle({\"model\": -1},{\"sphere\": {\"color\": \"#406D13\", \"scale\": 0.15}});\n\tviewer_1568788550528864.addModel(\"1 angstroem\\n\\nO -1.080788324 -4.446232777 -1.542012654\\n\");\n\tviewer_1568788550528864.setStyle({\"model\": -1},{\"sphere\": {\"color\": \"#912EAA\", \"scale\": 0.15}});\n\tviewer_1568788550528864.addModel(\"1 angstroem\\n\\nH -1.58741947 -2.662777448 -1.996615935\\n\");\n\tviewer_1568788550528864.setStyle({\"model\": -1},{\"sphere\": {\"color\": \"#2724A1\", \"scale\": 0.15}});\n\tviewer_1568788550528864.addModel(\"1 angstroem\\n\\nO 2.080370651 0.54406136 1.961767624\\n\");\n\tviewer_1568788550528864.setStyle({\"model\": -1},{\"sphere\": {\"color\": \"#0ABF43\", \"scale\": 0.15}});\n\tviewer_1568788550528864.addModel(\"1 angstroem\\n\\nC 0.959290649 0.196696863 1.6277496259999997\\n\");\n\tviewer_1568788550528864.setStyle({\"model\": -1},{\"sphere\": {\"color\": \"#EDB18A\", \"scale\": 0.15}});\n\tviewer_1568788550528864.addModel(\"1 angstroem\\n\\nH -4.173226491 -1.832603921 -1.804179662\\n\");\n\tviewer_1568788550528864.setStyle({\"model\": -1},{\"sphere\": {\"color\": \"#19D1D8\", \"scale\": 0.15}});\n\tviewer_1568788550528864.addModel(\"1 angstroem\\n\\nO 3.972204404 -1.408296629 0.70106856\\n\");\n\tviewer_1568788550528864.setStyle({\"model\": -1},{\"sphere\": {\"color\": \"#D28204\", \"scale\": 0.15}});\n\tviewer_1568788550528864.addModel(\"1 angstroem\\n\\nH 0.242977841 -3.606211767 0.662576107\\n\");\n\tviewer_1568788550528864.setStyle({\"model\": -1},{\"sphere\": {\"color\": \"#8B67A2\", \"scale\": 0.15}});\n\tviewer_1568788550528864.addModel(\"1 angstroem\\n\\nH -3.613360859 1.929592065 -0.663387909\\n\");\n\tviewer_1568788550528864.setStyle({\"model\": -1},{\"sphere\": {\"color\": \"#9AB4CF\", \"scale\": 0.15}});\n\tviewer_1568788550528864.addModel(\"1 angstroem\\n\\nH -0.238001799 -1.945593403 -1.178704356\\n\");\n\tviewer_1568788550528864.setStyle({\"model\": -1},{\"sphere\": {\"color\": \"#4B99C9\", \"scale\": 0.15}});\n\tviewer_1568788550528864.addModel(\"1 angstroem\\n\\nH 1.984324861 -2.328203829 1.904391324\\n\");\n\tviewer_1568788550528864.setStyle({\"model\": -1},{\"sphere\": {\"color\": \"#8D9171\", \"scale\": 0.15}});\n\tviewer_1568788550528864.addModel(\"1 angstroem\\n\\nH 1.852293738 -3.921602724 -0.038143446\\n\");\n\tviewer_1568788550528864.setStyle({\"model\": -1},{\"sphere\": {\"color\": \"#54E19B\", \"scale\": 0.15}});\n\tviewer_1568788550528864.addModel(\"1 angstroem\\n\\nH 5.854996061 0.961097144 3.993492399\\n\");\n\tviewer_1568788550528864.setStyle({\"model\": -1},{\"sphere\": {\"color\": \"#954D3B\", \"scale\": 0.15}});\n\tviewer_1568788550528864.addModel(\"1 angstroem\\n\\nC 5.49696044 0.225175324 3.254177903\\n\");\n\tviewer_1568788550528864.setStyle({\"model\": -1},{\"sphere\": {\"color\": \"#530B7B\", \"scale\": 0.15}});\n\tviewer_1568788550528864.addModel(\"1 angstroem\\n\\nN -3.245688583 -1.7361906370000002 -1.360195102\\n\");\n\tviewer_1568788550528864.setStyle({\"model\": -1},{\"sphere\": {\"color\": \"#FF3C52\", \"scale\": 0.15}});\n\tviewer_1568788550528864.addModel(\"1 angstroem\\n\\nH -4.612177134 -3.329140227 -1.409446975\\n\");\n\tviewer_1568788550528864.setStyle({\"model\": -1},{\"sphere\": {\"color\": \"#77F3A2\", \"scale\": 0.15}});\n\tviewer_1568788550528864.addModel(\"1 angstroem\\n\\nN 2.57190077 -0.783326131 -0.9493621499999999\\n\");\n\tviewer_1568788550528864.setStyle({\"model\": -1},{\"sphere\": {\"color\": \"#7706F4\", \"scale\": 0.15}});\n\tviewer_1568788550528864.addModel(\"1 angstroem\\n\\nC -2.993047092 2.8263687719999995 -0.508586544\\n\");\n\tviewer_1568788550528864.setStyle({\"model\": -1},{\"sphere\": {\"color\": \"#862BC1\", \"scale\": 0.15}});\n\tviewer_1568788550528864.addModel(\"1 angstroem\\n\\nC -1.212829577 -0.596972908 -1.987404429\\n\");\n\tviewer_1568788550528864.setStyle({\"model\": -1},{\"sphere\": {\"color\": \"#BD6618\", \"scale\": 0.15}});\n\tviewer_1568788550528864.addModel(\"1 angstroem\\n\\nC 1.651511825 -1.966759916 0.916439769\\n\");\n\tviewer_1568788550528864.setStyle({\"model\": -1},{\"sphere\": {\"color\": \"#0F13BF\", \"scale\": 0.15}});\n\tviewer_1568788550528864.addModel(\"1 angstroem\\n\\nH 2.66931027 3.993980008 0.703756011\\n\");\n\tviewer_1568788550528864.setStyle({\"model\": -1},{\"sphere\": {\"color\": \"#305678\", \"scale\": 0.15}});\n\tviewer_1568788550528864.addModel(\"1 angstroem\\n\\nO -5.732648641 -5.59755535 -1.357450744\\n\");\n\tviewer_1568788550528864.setStyle({\"model\": -1},{\"sphere\": {\"color\": \"#C919E0\", \"scale\": 0.15}});\n\tviewer_1568788550528864.addModel(\"1 angstroem\\n\\nH 1.628457964 -0.736397258 -1.367043529\\n\");\n\tviewer_1568788550528864.setStyle({\"model\": -1},{\"sphere\": {\"color\": \"#14DC72\", \"scale\": 0.15}});\n\tviewer_1568788550528864.addModel(\"1 angstroem\\n\\nH -1.392037803 3.906538602 -1.519094475\\n\");\n\tviewer_1568788550528864.setStyle({\"model\": -1},{\"sphere\": {\"color\": \"#FD1D1E\", \"scale\": 0.15}});\n\tviewer_1568788550528864.addModel(\"1 angstroem\\n\\nH -7.691343755 -5.579748582 -0.179842884\\n\");\n\tviewer_1568788550528864.setStyle({\"model\": -1},{\"sphere\": {\"color\": \"#9B5116\", \"scale\": 0.15}});\n\tviewer_1568788550528864.addModel(\"1 angstroem\\n\\nO -7.336165399 -4.702178787 -0.102748862\\n\");\n\tviewer_1568788550528864.setStyle({\"model\": -1},{\"sphere\": {\"color\": \"#8ACA77\", \"scale\": 0.15}});\n\tviewer_1568788550528864.addModel(\"1 angstroem\\n\\nH 3.742287394 0.737496569 2.290823134\\n\");\n\tviewer_1568788550528864.setStyle({\"model\": -1},{\"sphere\": {\"color\": \"#512D73\", \"scale\": 0.15}});\n\tviewer_1568788550528864.addModel(\"1 angstroem\\n\\nH 2.440815079 1.252898971 -3.014167775\\n\");\n\tviewer_1568788550528864.setStyle({\"model\": -1},{\"sphere\": {\"color\": \"#C5EB17\", \"scale\": 0.15}});\n\tviewer_1568788550528864.addModel(\"1 angstroem\\n\\nO 5.631738041 0.62447468 -0.76564302\\n\");\n\tviewer_1568788550528864.setStyle({\"model\": -1},{\"sphere\": {\"color\": \"#04C09E\", \"scale\": 0.15}});\n\tviewer_1568788550528864.addModel(\"1 angstroem\\n\\nH 1.878816707 1.801413274 1.676936134\\n\");\n\tviewer_1568788550528864.setStyle({\"model\": -1},{\"sphere\": {\"color\": \"#036D96\", \"scale\": 0.15}});\n\tviewer_1568788550528864.addModel(\"1 angstroem\\n\\nC 4.621985645 -0.903755404 4.165946929\\n\");\n\tviewer_1568788550528864.setStyle({\"model\": -1},{\"sphere\": {\"color\": \"#ED4525\", \"scale\": 0.15}});\n\tviewer_1568788550528864.addModel(\"1 angstroem\\n\\nC -2.161574563 -1.761906549 -2.270721587\\n\");\n\tviewer_1568788550528864.setStyle({\"model\": -1},{\"sphere\": {\"color\": \"#A0FC8F\", \"scale\": 0.15}});\n\tviewer_1568788550528864.addModel(\"1 angstroem\\n\\nO -4.714110793 4.222201294 -1.455708442\\n\");\n\tviewer_1568788550528864.setStyle({\"model\": -1},{\"sphere\": {\"color\": \"#75142A\", \"scale\": 0.15}});\n\tviewer_1568788550528864.addModel(\"1 angstroem\\n\\nO -0.031147254 -0.79307386 -1.754548698\\n\");\n\tviewer_1568788550528864.setStyle({\"model\": -1},{\"sphere\": {\"color\": \"#1B1AB6\", \"scale\": 0.15}});\n\tviewer_1568788550528864.addModel(\"1 angstroem\\n\\nC -3.040839404 -1.588902902 -0.064531883\\n\");\n\tviewer_1568788550528864.setStyle({\"model\": -1},{\"sphere\": {\"color\": \"#8E64A4\", \"scale\": 0.15}});\n\tviewer_1568788550528864.addModel(\"1 angstroem\\n\\nC -1.987148381 2.992134694 -1.678459372\\n\");\n\tviewer_1568788550528864.setStyle({\"model\": -1},{\"sphere\": {\"color\": \"#7DF6B0\", \"scale\": 0.15}});\n\tviewer_1568788550528864.addModel(\"1 angstroem\\n\\nH 3.799291845 0.880692516 -3.790953454\\n\");\n\tviewer_1568788550528864.setStyle({\"model\": -1},{\"sphere\": {\"color\": \"#493A04\", \"scale\": 0.15}});\n\tviewer_1568788550528864.addModel(\"1 angstroem\\n\\nC -6.185323924000001 -4.630005907 -0.767100653\\n\");\n\tviewer_1568788550528864.setStyle({\"model\": -1},{\"sphere\": {\"color\": \"#33C2A1\", \"scale\": 0.15}});\n\tviewer_1568788550528864.addModel(\"1 angstroem\\n\\nH -3.15157652 -2.795796412 -4.094512468\\n\");\n\tviewer_1568788550528864.setStyle({\"model\": -1},{\"sphere\": {\"color\": \"#517905\", \"scale\": 0.15}});\n\tviewer_1568788550528864.addModel(\"1 angstroem\\n\\nH -5.237336385 5.000265838 -1.303805698\\n\");\n\tviewer_1568788550528864.setStyle({\"model\": -1},{\"sphere\": {\"color\": \"#BF29C0\", \"scale\": 0.15}});\n\tviewer_1568788550528864.addModel(\"1 angstroem\\n\\nC 6.767304924 -0.304189027 2.588254243\\n\");\n\tviewer_1568788550528864.setStyle({\"model\": -1},{\"sphere\": {\"color\": \"#ECBE75\", \"scale\": 0.15}});\n\tviewer_1568788550528864.addModel(\"1 angstroem\\n\\nH 4.264527121 -0.980780666 -2.00268014\\n\");\n\tviewer_1568788550528864.setStyle({\"model\": -1},{\"sphere\": {\"color\": \"#DC8836\", \"scale\": 0.15}});\n\tviewer_1568788550528864.addModel(\"1 angstroem\\n\\nC -5.041406092 -2.946842145 0.704641262\\n\");\n\tviewer_1568788550528864.setStyle({\"model\": -1},{\"sphere\": {\"color\": \"#973AA1\", \"scale\": 0.15}});\n\tviewer_1568788550528864.addModel(\"1 angstroem\\n\\nC 0.002633416 -3.871380626 -2.058491757\\n\");\n\tviewer_1568788550528864.setStyle({\"model\": -1},{\"sphere\": {\"color\": \"#C3E0F1\", \"scale\": 0.15}});\n\tviewer_1568788550528864.addModel(\"1 angstroem\\n\\nH -0.355260442 1.916654114 -2.65718323\\n\");\n\tviewer_1568788550528864.setStyle({\"model\": -1},{\"sphere\": {\"color\": \"#8C2338\", \"scale\": 0.15}});\n\tviewer_1568788550528864.addModel(\"1 angstroem\\n\\nN -0.879775858 1.322307378 0.543978588\\n\");\n\tviewer_1568788550528864.setStyle({\"model\": -1},{\"sphere\": {\"color\": \"#7DB188\", \"scale\": 0.15}});\n\tviewer_1568788550528864.addModel(\"1 angstroem\\n\\nH 1.378722194 -2.243016848 -1.872851729\\n\");\n\tviewer_1568788550528864.setStyle({\"model\": -1},{\"sphere\": {\"color\": \"#E05E2C\", \"scale\": 0.15}});\n\tviewer_1568788550528864.addModel(\"1 angstroem\\n\\nH -2.542766466 3.108874023 -2.623599687\\n\");\n\tviewer_1568788550528864.setStyle({\"model\": -1},{\"sphere\": {\"color\": \"#CEF832\", \"scale\": 0.15}});\n\tviewer_1568788550528864.addModel(\"1 angstroem\\n\\nC 1.395329548 3.357637309 3.049887161\\n\");\n\tviewer_1568788550528864.setStyle({\"model\": -1},{\"sphere\": {\"color\": \"#1C3BB4\", \"scale\": 0.15}});\n\tviewer_1568788550528864.addModel(\"1 angstroem\\n\\nO 0.488726727 3.985212419 2.304750171\\n\");\n\tviewer_1568788550528864.setStyle({\"model\": -1},{\"sphere\": {\"color\": \"#D39929\", \"scale\": 0.15}});\n\tviewer_1568788550528864.addModel(\"1 angstroem\\n\\nH -0.099562609 4.474360735 2.867665333\\n\");\n\tviewer_1568788550528864.setStyle({\"model\": -1},{\"sphere\": {\"color\": \"#ADECCA\", \"scale\": 0.15}});\n\tviewer_1568788550528864.addModel(\"1 angstroem\\n\\nH 3.811205871 4.187642335 2.059833568\\n\");\n\tviewer_1568788550528864.setStyle({\"model\": -1},{\"sphere\": {\"color\": \"#DB1139\", \"scale\": 0.15}});\n\tviewer_1568788550528864.addModel(\"1 angstroem\\n\\nH -0.294238185 -1.276970067 0.837111303\\n\");\n\tviewer_1568788550528864.setStyle({\"model\": -1},{\"sphere\": {\"color\": \"#538E1D\", \"scale\": 0.15}});\n\tviewer_1568788550528864.addModel(\"1 angstroem\\n\\nC 4.364187336 2.630814986 0.630339603\\n\");\n\tviewer_1568788550528864.setStyle({\"model\": -1},{\"sphere\": {\"color\": \"#093BBD\", \"scale\": 0.15}});\n\tviewer_1568788550528864.addModel(\"1 angstroem\\n\\nC -1.252943626 0.807043101 3.105750249\\n\");\n\tviewer_1568788550528864.setStyle({\"model\": -1},{\"sphere\": {\"color\": \"#5C5560\", \"scale\": 0.15}});\n\tviewer_1568788550528864.addModel(\"1 angstroem\\n\\nH 3.033390431 1.980750298 3.025600472\\n\");\n\tviewer_1568788550528864.setStyle({\"model\": -1},{\"sphere\": {\"color\": \"#8FE9D4\", \"scale\": 0.15}});\n\tviewer_1568788550528864.addModel(\"1 angstroem\\n\\nC 2.857912174 -1.352374549 0.206830486\\n\");\n\tviewer_1568788550528864.setStyle({\"model\": -1},{\"sphere\": {\"color\": \"#177737\", \"scale\": 0.15}});\n\tviewer_1568788550528864.addModel(\"1 angstroem\\n\\nC -2.569942678 -1.99576886 -3.898582802\\n\");\n\tviewer_1568788550528864.setStyle({\"model\": -1},{\"sphere\": {\"color\": \"#E5EDE6\", \"scale\": 0.15}});\n\tviewer_1568788550528864.addModel(\"1 angstroem\\n\\nC 2.412431108 2.533728039 2.302980741\\n\");\n\tviewer_1568788550528864.setStyle({\"model\": -1},{\"sphere\": {\"color\": \"#D96EEE\", \"scale\": 0.15}});\n\tviewer_1568788550528864.addModel(\"1 angstroem\\n\\nH -3.1038216 -1.1991394760000003 -4.209452584\\n\");\n\tviewer_1568788550528864.setStyle({\"model\": -1},{\"sphere\": {\"color\": \"#268DB8\", \"scale\": 0.15}});\n\tviewer_1568788550528864.addModel(\"1 angstroem\\n\\nC 3.580676155 -0.161471562 -1.724405448\\n\");\n\tviewer_1568788550528864.setStyle({\"model\": -1},{\"sphere\": {\"color\": \"#338697\", \"scale\": 0.15}});\n\tviewer_1568788550528864.addModel(\"1 angstroem\\n\\nN -1.786291324 0.591069328 -2.033200808\\n\");\n\tviewer_1568788550528864.setStyle({\"model\": -1},{\"sphere\": {\"color\": \"#22C4D9\", \"scale\": 0.15}});\n\tviewer_1568788550528864.addModel(\"1 angstroem\\n\\nH -4.040882796 -1.353625964 1.8174001969999998\\n\");\n\tviewer_1568788550528864.setStyle({\"model\": -1},{\"sphere\": {\"color\": \"#E50CE6\", \"scale\": 0.15}});\n\tviewer_1568788550528864.addModel(\"1 angstroem\\n\\nH -1.800737088 -2.08044335 -4.54511163\\n\");\n\tviewer_1568788550528864.setStyle({\"model\": -1},{\"sphere\": {\"color\": \"#6199E6\", \"scale\": 0.15}});\n\tviewer_1568788550528864.addModel(\"1 angstroem\\n\\nC -3.89936303 4.027297827 -0.421683758\\n\");\n\tviewer_1568788550528864.setStyle({\"model\": -1},{\"sphere\": {\"color\": \"#161DBF\", \"scale\": 0.15}});\n\tviewer_1568788550528864.addModel(\"1 angstroem\\n\\nH -4.836746619 0.391563102 0.162193523\\n\");\n\tviewer_1568788550528864.setStyle({\"model\": -1},{\"sphere\": {\"color\": \"#2C8F39\", \"scale\": 0.15}});\n\tviewer_1568788550528864.addModel(\"1 angstroem\\n\\nC 3.076668722 0.493880901 -3.203553139\\n\");\n\tviewer_1568788550528864.setStyle({\"model\": -1},{\"sphere\": {\"color\": \"#C6686E\", \"scale\": 0.15}});\n\tviewer_1568788550528864.addModel(\"1 angstroem\\n\\nH -6.160140498 -0.847134332 0.177814384\\n\");\n\tviewer_1568788550528864.setStyle({\"model\": -1},{\"sphere\": {\"color\": \"#2025AC\", \"scale\": 0.15}});\n\tviewer_1568788550528864.addModel(\"1 angstroem\\n\\nC 1.073504377 -3.152829252 0.096625834\\n\");\n\tviewer_1568788550528864.setStyle({\"model\": -1},{\"sphere\": {\"color\": \"#0F9B12\", \"scale\": 0.15}});\n\tviewer_1568788550528864.addModel(\"1 angstroem\\n\\nN 0.654330431 -0.982874182 1.119801349\\n\");\n\tviewer_1568788550528864.setStyle({\"model\": -1},{\"sphere\": {\"color\": \"#CDF1C2\", \"scale\": 0.15}});\n\tviewer_1568788550528864.addModel(\"1 angstroem\\n\\nC 5.319045605 1.913344551 1.584225537\\n\");\n\tviewer_1568788550528864.setStyle({\"model\": -1},{\"sphere\": {\"color\": \"#5838B9\", \"scale\": 0.15}});\n\tviewer_1568788550528864.addModel(\"1 angstroem\\n\\nH 3.813845872 -0.544742801 4.650457508\\n\");\n\tviewer_1568788550528864.setStyle({\"model\": -1},{\"sphere\": {\"color\": \"#5A0C5F\", \"scale\": 0.15}});\n\tviewer_1568788550528864.addModel(\"1 angstroem\\n\\nO 1.024539381 1.753616075 -0.5798168560000001\\n\");\n\tviewer_1568788550528864.setStyle({\"model\": -1},{\"sphere\": {\"color\": \"#9A7816\", \"scale\": 0.15}});\n\tviewer_1568788550528864.addModel(\"1 angstroem\\n\\nH 4.960083864 3.312503911 -0.000264896\\n\");\n\tviewer_1568788550528864.setStyle({\"model\": -1},{\"sphere\": {\"color\": \"#50F1B5\", \"scale\": 0.15}});\n\tviewer_1568788550528864.addModel(\"1 angstroem\\n\\nH -2.010546281 1.457086231 3.2479212360000003\\n\");\n\tviewer_1568788550528864.setStyle({\"model\": -1},{\"sphere\": {\"color\": \"#9779ED\", \"scale\": 0.15}});\n\tviewer_1568788550528864.addModel(\"1 angstroem\\n\\nH -2.451865704 2.710008015 0.443850865\\n\");\n\tviewer_1568788550528864.setStyle({\"model\": -1},{\"sphere\": {\"color\": \"#5D7539\", \"scale\": 0.15}});\n\tviewer_1568788550528864.addModel(\"1 angstroem\\n\\nH -0.809124304 0.737672285 4.008556226\\n\");\n\tviewer_1568788550528864.setStyle({\"model\": -1},{\"sphere\": {\"color\": \"#E5FE8F\", \"scale\": 0.15}});\n\tviewer_1568788550528864.addModel(\"1 angstroem\\n\\nO -3.89553985 4.786435363 0.533970809\\n\");\n\tviewer_1568788550528864.setStyle({\"model\": -1},{\"sphere\": {\"color\": \"#CBE4FD\", \"scale\": 0.15}});\n\tviewer_1568788550528864.addModel(\"1 angstroem\\n\\nH -2.786179466 0.7571864479999999 -2.230221813\\n\");\n\tviewer_1568788550528864.setStyle({\"model\": -1},{\"sphere\": {\"color\": \"#298F0B\", \"scale\": 0.15}});\n\tviewer_1568788550528864.addModel(\"1 angstroem\\n\\nH 0.210462453 2.117547567 2.024662387\\n\");\n\tviewer_1568788550528864.setStyle({\"model\": -1},{\"sphere\": {\"color\": \"#053E2B\", \"scale\": 0.15}});\n\tviewer_1568788550528864.addModel(\"1 angstroem\\n\\nC -0.186893023 1.612158125 -0.541516673\\n\");\n\tviewer_1568788550528864.setStyle({\"model\": -1},{\"sphere\": {\"color\": \"#F5E4C9\", \"scale\": 0.15}});\n\tviewer_1568788550528864.addModel(\"1 angstroem\\n\\nN 4.744329083 0.985272694 2.326373492\\n\");\n\tviewer_1568788550528864.setStyle({\"model\": -1},{\"sphere\": {\"color\": \"#51855E\", \"scale\": 0.15}});\n\tviewer_1568788550528864.addModel(\"1 angstroem\\n\\nC -0.235646954 1.136307888 1.791185524\\n\");\n\tviewer_1568788550528864.setStyle({\"model\": -1},{\"sphere\": {\"color\": \"#C243C1\", \"scale\": 0.15}});\n\tviewer_1568788550528864.addModel(\"1 angstroem\\n\\nO 1.392583175 3.4544289790000002 4.266523465\\n\");\n\tviewer_1568788550528864.setStyle({\"model\": -1},{\"sphere\": {\"color\": \"#53CC43\", \"scale\": 0.15}});\n\tviewer_1568788550528864.addModel(\"1 angstroem\\n\\nH -1.905176318 1.202730025 0.575593995\\n\");\n\tviewer_1568788550528864.setStyle({\"model\": -1},{\"sphere\": {\"color\": \"#423710\", \"scale\": 0.15}});\n\tviewer_1568788550528864.addModel(\"1 angstroem\\n\\nH -1.69645963 -0.084468233 2.948313919\\n\");\n\tviewer_1568788550528864.setStyle({\"model\": -1},{\"sphere\": {\"color\": \"#5E68B8\", \"scale\": 0.15}});\n\tviewer_1568788550528864.addModel(\"1 angstroem\\n\\nN -5.183010526 -0.545903872 0.321570078\\n\");\n\tviewer_1568788550528864.setStyle({\"model\": -1},{\"sphere\": {\"color\": \"#686CC3\", \"scale\": 0.15}});\n\tviewer_1568788550528864.addModel(\"1 angstroem\\n\\nH 4.262951664 -1.607543301 3.539798146\\n\");\n\tviewer_1568788550528864.setStyle({\"model\": -1},{\"sphere\": {\"color\": \"#053AF9\", \"scale\": 0.15}});\n\tviewer_1568788550528864.addModel(\"1 angstroem\\n\\nH -6.180577606 -2.528665047 -1.120557388\\n\");\n\tviewer_1568788550528864.setStyle({\"model\": -1},{\"sphere\": {\"color\": \"#81E678\", \"scale\": 0.15}});\n\tviewer_1568788550528864.addModel(\"1 angstroem\\n\\nH -4.367299289 -3.735878955 1.077051261\\n\");\n\tviewer_1568788550528864.setStyle({\"model\": -1},{\"sphere\": {\"color\": \"#6A22AB\", \"scale\": 0.15}});\n\tviewer_1568788550528864.addModel(\"1 angstroem\\n\\nC -1.036922521 1.769543494 -1.8021102680000003\\n\");\n\tviewer_1568788550528864.setStyle({\"model\": -1},{\"sphere\": {\"color\": \"#2B97BF\", \"scale\": 0.15}});\n\tviewer_1568788550528864.addModel(\"1 angstroem\\n\\nO 7.868246311 -0.05884107 3.053853781\\n\");\n\tviewer_1568788550528864.setStyle({\"model\": -1},{\"sphere\": {\"color\": \"#DD323B\", \"scale\": 0.15}});\n\tviewer_1568788550528864.addModel(\"1 angstroem\\n\\nC 4.421839221 0.762724694 -0.843631911\\n\");\n\tviewer_1568788550528864.setStyle({\"model\": -1},{\"sphere\": {\"color\": \"#0CFF5F\", \"scale\": 0.15}});\n\tviewer_1568788550528864.addModel(\"1 angstroem\\n\\nN 3.726108732 1.692225529 -0.215629266\\n\");\n\tviewer_1568788550528864.setStyle({\"model\": -1},{\"sphere\": {\"color\": \"#2812B9\", \"scale\": 0.15}});\n\tviewer_1568788550528864.addModel(\"1 angstroem\\n\\nO 0.507441784 -4.283068248 -3.090607002\\n\");\n\tviewer_1568788550528864.setStyle({\"model\": -1},{\"sphere\": {\"color\": \"#A1DBF4\", \"scale\": 0.15}});\n\tviewer_1568788550528864.addModel(\"1 angstroem\\n\\nC -5.486756474 -3.29490776 -0.74049761\\n\");\n\tviewer_1568788550528864.setStyle({\"model\": -1},{\"sphere\": {\"color\": \"#FC7AAF\", \"scale\": 0.15}});\n\tviewer_1568788550528864.addModel(\"1 angstroem\\n\\nO -1.945400394 -1.474924712 0.460889922\\n\");\n\tviewer_1568788550528864.setStyle({\"model\": -1},{\"sphere\": {\"color\": \"#1E75B8\", \"scale\": 0.15}});\n\tviewer_1568788550528864.addModel(\"1 angstroem\\n\\nH 5.137744044 -1.403123507 4.874093316\\n\");\n\tviewer_1568788550528864.setStyle({\"model\": -1},{\"sphere\": {\"color\": \"#76B78F\", \"scale\": 0.15}});\n\tviewer_1568788550528864.addModel(\"1 angstroem\\n\\nH 2.568233218 -0.131074516 -3.809898344\\n\");\n\tviewer_1568788550528864.setStyle({\"model\": -1},{\"sphere\": {\"color\": \"#AED21A\", \"scale\": 0.15}});\n\tviewer_1568788550528864.addModel(\"1 angstroem\\n\\nO 6.502790098 2.206751478 1.625542302\\n\");\n\tviewer_1568788550528864.setStyle({\"model\": -1},{\"sphere\": {\"color\": \"#C3D39B\", \"scale\": 0.15}});\n\tviewer_1568788550528864.addModel(\"1 angstroem\\n\\nH -5.926074594999999 -2.917715769 1.362017134\\n\");\n\tviewer_1568788550528864.setStyle({\"model\": -1},{\"sphere\": {\"color\": \"#7152EC\", \"scale\": 0.15}});\n\tviewer_1568788550528864.addModel(\"1 angstroem\\n\\nH -1.347580901 -5.171622276 -2.09415004\\n\");\n\tviewer_1568788550528864.setStyle({\"model\": -1},{\"sphere\": {\"color\": \"#F281E4\", \"scale\": 0.15}});\n\tviewer_1568788550528864.addModel(\"1 angstroem\\n\\nC 3.304072658 3.446583152 1.420040266\\n\");\n\tviewer_1568788550528864.setStyle({\"model\": -1},{\"sphere\": {\"color\": \"#56C06D\", \"scale\": 0.15}});\n\tviewer_1568788550528864.addModel(\"1 angstroem\\n\\nH 6.586106906 -0.909657653 1.692826432\\n\");\n\tviewer_1568788550528864.setStyle({\"model\": -1},{\"sphere\": {\"color\": \"#E5A9CD\", \"scale\": 0.15}});\n\tviewer_1568788550528864.addModel(\"1 angstroem\\n\\nC -4.319657356 -1.573012303 0.772599319\\n\");\n\tviewer_1568788550528864.setStyle({\"model\": -1},{\"sphere\": {\"color\": \"#B4F829\", \"scale\": 0.15}});\n\tviewer_1568788550528864.addModel(\"1 angstroem\\n\\nC 0.558546889 -2.697300228 -1.294497844\\n\");\n\tviewer_1568788550528864.setStyle({\"model\": -1},{\"sphere\": {\"color\": \"#FBE7DC\", \"scale\": 0.15}});\n\tviewer_1568788550528864.zoomTo();\nviewer_1568788550528864.render();\n});\n</script>",
      "text/html": [
       "<div id=\"3dmolviewer_1568788550528864\"  style=\"position: relative; width: 600px; height: 400px\">\n",
       "        <p id=\"3dmolwarning_1568788550528864\" style=\"background-color:#ffcccc;color:black\">You appear to be running in JupyterLab (or JavaScript failed to load for some other reason).  You need to install the 3dmol extension: <br>\n",
       "        <tt>jupyter labextension install jupyterlab_3dmol</tt></p>\n",
       "        </div>\n",
       "<script>\n",
       "\n",
       "var loadScriptAsync = function(uri){\n",
       "  return new Promise((resolve, reject) => {\n",
       "    var tag = document.createElement('script');\n",
       "    tag.src = uri;\n",
       "    tag.async = true;\n",
       "    tag.onload = () => {\n",
       "      resolve();\n",
       "    };\n",
       "  var firstScriptTag = document.getElementsByTagName('script')[0];\n",
       "  firstScriptTag.parentNode.insertBefore(tag, firstScriptTag);\n",
       "});\n",
       "};\n",
       "\n",
       "if(typeof $3Dmolpromise === 'undefined') {\n",
       "$3Dmolpromise = null;\n",
       "  $3Dmolpromise = loadScriptAsync('https://3dmol.csb.pitt.edu/build/3Dmol.js');\n",
       "}\n",
       "\n",
       "var viewer_1568788550528864 = null;\n",
       "var warn = document.getElementById(\"3dmolwarning_1568788550528864\");\n",
       "if(warn) {\n",
       "    warn.parentNode.removeChild(warn);\n",
       "}\n",
       "$3Dmolpromise.then(function() {\n",
       "viewer_1568788550528864 = $3Dmol.createViewer($(\"#3dmolviewer_1568788550528864\"),{backgroundColor:\"white\"});\n",
       "\tviewer_1568788550528864.addModel(\"106 angstroem\\n\\nH 2.702326636 1.809352684 -0.281507338\\nO -1.080788324 -4.446232777 -1.542012654\\nH -1.58741947 -2.662777448 -1.996615935\\nO 2.080370651 0.54406136 1.961767624\\nC 0.959290649 0.196696863 1.6277496259999997\\nH -4.173226491 -1.832603921 -1.804179662\\nO 3.972204404 -1.408296629 0.70106856\\nH 0.242977841 -3.606211767 0.662576107\\nH -3.613360859 1.929592065 -0.663387909\\nH -0.238001799 -1.945593403 -1.178704356\\nH 1.984324861 -2.328203829 1.904391324\\nH 1.852293738 -3.921602724 -0.038143446\\nH 5.854996061 0.961097144 3.993492399\\nC 5.49696044 0.225175324 3.254177903\\nN -3.245688583 -1.7361906370000002 -1.360195102\\nH -4.612177134 -3.329140227 -1.409446975\\nN 2.57190077 -0.783326131 -0.9493621499999999\\nC -2.993047092 2.8263687719999995 -0.508586544\\nC -1.212829577 -0.596972908 -1.987404429\\nC 1.651511825 -1.966759916 0.916439769\\nH 2.66931027 3.993980008 0.703756011\\nO -5.732648641 -5.59755535 -1.357450744\\nH 1.628457964 -0.736397258 -1.367043529\\nH -1.392037803 3.906538602 -1.519094475\\nH -7.691343755 -5.579748582 -0.179842884\\nO -7.336165399 -4.702178787 -0.102748862\\nH 3.742287394 0.737496569 2.290823134\\nH 2.440815079 1.252898971 -3.014167775\\nO 5.631738041 0.62447468 -0.76564302\\nH 1.878816707 1.801413274 1.676936134\\nC 4.621985645 -0.903755404 4.165946929\\nC -2.161574563 -1.761906549 -2.270721587\\nO -4.714110793 4.222201294 -1.455708442\\nO -0.031147254 -0.79307386 -1.754548698\\nC -3.040839404 -1.588902902 -0.064531883\\nC -1.987148381 2.992134694 -1.678459372\\nH 3.799291845 0.880692516 -3.790953454\\nC -6.185323924000001 -4.630005907 -0.767100653\\nH -3.15157652 -2.795796412 -4.094512468\\nH -5.237336385 5.000265838 -1.303805698\\nC 6.767304924 -0.304189027 2.588254243\\nH 4.264527121 -0.980780666 -2.00268014\\nC -5.041406092 -2.946842145 0.704641262\\nC 0.002633416 -3.871380626 -2.058491757\\nH -0.355260442 1.916654114 -2.65718323\\nN -0.879775858 1.322307378 0.543978588\\nH 1.378722194 -2.243016848 -1.872851729\\nH -2.542766466 3.108874023 -2.623599687\\nC 1.395329548 3.357637309 3.049887161\\nO 0.488726727 3.985212419 2.304750171\\nH -0.099562609 4.474360735 2.867665333\\nH 3.811205871 4.187642335 2.059833568\\nH -0.294238185 -1.276970067 0.837111303\\nC 4.364187336 2.630814986 0.630339603\\nC -1.252943626 0.807043101 3.105750249\\nH 3.033390431 1.980750298 3.025600472\\nC 2.857912174 -1.352374549 0.206830486\\nC -2.569942678 -1.99576886 -3.898582802\\nC 2.412431108 2.533728039 2.302980741\\nH -3.1038216 -1.1991394760000003 -4.209452584\\nC 3.580676155 -0.161471562 -1.724405448\\nN -1.786291324 0.591069328 -2.033200808\\nH -4.040882796 -1.353625964 1.8174001969999998\\nH -1.800737088 -2.08044335 -4.54511163\\nC -3.89936303 4.027297827 -0.421683758\\nH -4.836746619 0.391563102 0.162193523\\nC 3.076668722 0.493880901 -3.203553139\\nH -6.160140498 -0.847134332 0.177814384\\nC 1.073504377 -3.152829252 0.096625834\\nN 0.654330431 -0.982874182 1.119801349\\nC 5.319045605 1.913344551 1.584225537\\nH 3.813845872 -0.544742801 4.650457508\\nO 1.024539381 1.753616075 -0.5798168560000001\\nH 4.960083864 3.312503911 -0.000264896\\nH -2.010546281 1.457086231 3.2479212360000003\\nH -2.451865704 2.710008015 0.443850865\\nH -0.809124304 0.737672285 4.008556226\\nO -3.89553985 4.786435363 0.533970809\\nH -2.786179466 0.7571864479999999 -2.230221813\\nH 0.210462453 2.117547567 2.024662387\\nC -0.186893023 1.612158125 -0.541516673\\nN 4.744329083 0.985272694 2.326373492\\nC -0.235646954 1.136307888 1.791185524\\nO 1.392583175 3.4544289790000002 4.266523465\\nH -1.905176318 1.202730025 0.575593995\\nH -1.69645963 -0.084468233 2.948313919\\nN -5.183010526 -0.545903872 0.321570078\\nH 4.262951664 -1.607543301 3.539798146\\nH -6.180577606 -2.528665047 -1.120557388\\nH -4.367299289 -3.735878955 1.077051261\\nC -1.036922521 1.769543494 -1.8021102680000003\\nO 7.868246311 -0.05884107 3.053853781\\nC 4.421839221 0.762724694 -0.843631911\\nN 3.726108732 1.692225529 -0.215629266\\nO 0.507441784 -4.283068248 -3.090607002\\nC -5.486756474 -3.29490776 -0.74049761\\nO -1.945400394 -1.474924712 0.460889922\\nH 5.137744044 -1.403123507 4.874093316\\nH 2.568233218 -0.131074516 -3.809898344\\nO 6.502790098 2.206751478 1.625542302\\nH -5.926074594999999 -2.917715769 1.362017134\\nH -1.347580901 -5.171622276 -2.09415004\\nC 3.304072658 3.446583152 1.420040266\\nH 6.586106906 -0.909657653 1.692826432\\nC -4.319657356 -1.573012303 0.772599319\\nC 0.558546889 -2.697300228 -1.294497844\\n\");\n",
       "\tviewer_1568788550528864.setStyle({\"model\": -1},{\"line\": {\"color\": \"black\"}});\n",
       "\tviewer_1568788550528864.addModel(\"1 angstroem\\n\\nH 2.702326636 1.809352684 -0.281507338\\n\");\n",
       "\tviewer_1568788550528864.setStyle({\"model\": -1},{\"sphere\": {\"color\": \"#406D13\", \"scale\": 0.15}});\n",
       "\tviewer_1568788550528864.addModel(\"1 angstroem\\n\\nO -1.080788324 -4.446232777 -1.542012654\\n\");\n",
       "\tviewer_1568788550528864.setStyle({\"model\": -1},{\"sphere\": {\"color\": \"#912EAA\", \"scale\": 0.15}});\n",
       "\tviewer_1568788550528864.addModel(\"1 angstroem\\n\\nH -1.58741947 -2.662777448 -1.996615935\\n\");\n",
       "\tviewer_1568788550528864.setStyle({\"model\": -1},{\"sphere\": {\"color\": \"#2724A1\", \"scale\": 0.15}});\n",
       "\tviewer_1568788550528864.addModel(\"1 angstroem\\n\\nO 2.080370651 0.54406136 1.961767624\\n\");\n",
       "\tviewer_1568788550528864.setStyle({\"model\": -1},{\"sphere\": {\"color\": \"#0ABF43\", \"scale\": 0.15}});\n",
       "\tviewer_1568788550528864.addModel(\"1 angstroem\\n\\nC 0.959290649 0.196696863 1.6277496259999997\\n\");\n",
       "\tviewer_1568788550528864.setStyle({\"model\": -1},{\"sphere\": {\"color\": \"#EDB18A\", \"scale\": 0.15}});\n",
       "\tviewer_1568788550528864.addModel(\"1 angstroem\\n\\nH -4.173226491 -1.832603921 -1.804179662\\n\");\n",
       "\tviewer_1568788550528864.setStyle({\"model\": -1},{\"sphere\": {\"color\": \"#19D1D8\", \"scale\": 0.15}});\n",
       "\tviewer_1568788550528864.addModel(\"1 angstroem\\n\\nO 3.972204404 -1.408296629 0.70106856\\n\");\n",
       "\tviewer_1568788550528864.setStyle({\"model\": -1},{\"sphere\": {\"color\": \"#D28204\", \"scale\": 0.15}});\n",
       "\tviewer_1568788550528864.addModel(\"1 angstroem\\n\\nH 0.242977841 -3.606211767 0.662576107\\n\");\n",
       "\tviewer_1568788550528864.setStyle({\"model\": -1},{\"sphere\": {\"color\": \"#8B67A2\", \"scale\": 0.15}});\n",
       "\tviewer_1568788550528864.addModel(\"1 angstroem\\n\\nH -3.613360859 1.929592065 -0.663387909\\n\");\n",
       "\tviewer_1568788550528864.setStyle({\"model\": -1},{\"sphere\": {\"color\": \"#9AB4CF\", \"scale\": 0.15}});\n",
       "\tviewer_1568788550528864.addModel(\"1 angstroem\\n\\nH -0.238001799 -1.945593403 -1.178704356\\n\");\n",
       "\tviewer_1568788550528864.setStyle({\"model\": -1},{\"sphere\": {\"color\": \"#4B99C9\", \"scale\": 0.15}});\n",
       "\tviewer_1568788550528864.addModel(\"1 angstroem\\n\\nH 1.984324861 -2.328203829 1.904391324\\n\");\n",
       "\tviewer_1568788550528864.setStyle({\"model\": -1},{\"sphere\": {\"color\": \"#8D9171\", \"scale\": 0.15}});\n",
       "\tviewer_1568788550528864.addModel(\"1 angstroem\\n\\nH 1.852293738 -3.921602724 -0.038143446\\n\");\n",
       "\tviewer_1568788550528864.setStyle({\"model\": -1},{\"sphere\": {\"color\": \"#54E19B\", \"scale\": 0.15}});\n",
       "\tviewer_1568788550528864.addModel(\"1 angstroem\\n\\nH 5.854996061 0.961097144 3.993492399\\n\");\n",
       "\tviewer_1568788550528864.setStyle({\"model\": -1},{\"sphere\": {\"color\": \"#954D3B\", \"scale\": 0.15}});\n",
       "\tviewer_1568788550528864.addModel(\"1 angstroem\\n\\nC 5.49696044 0.225175324 3.254177903\\n\");\n",
       "\tviewer_1568788550528864.setStyle({\"model\": -1},{\"sphere\": {\"color\": \"#530B7B\", \"scale\": 0.15}});\n",
       "\tviewer_1568788550528864.addModel(\"1 angstroem\\n\\nN -3.245688583 -1.7361906370000002 -1.360195102\\n\");\n",
       "\tviewer_1568788550528864.setStyle({\"model\": -1},{\"sphere\": {\"color\": \"#FF3C52\", \"scale\": 0.15}});\n",
       "\tviewer_1568788550528864.addModel(\"1 angstroem\\n\\nH -4.612177134 -3.329140227 -1.409446975\\n\");\n",
       "\tviewer_1568788550528864.setStyle({\"model\": -1},{\"sphere\": {\"color\": \"#77F3A2\", \"scale\": 0.15}});\n",
       "\tviewer_1568788550528864.addModel(\"1 angstroem\\n\\nN 2.57190077 -0.783326131 -0.9493621499999999\\n\");\n",
       "\tviewer_1568788550528864.setStyle({\"model\": -1},{\"sphere\": {\"color\": \"#7706F4\", \"scale\": 0.15}});\n",
       "\tviewer_1568788550528864.addModel(\"1 angstroem\\n\\nC -2.993047092 2.8263687719999995 -0.508586544\\n\");\n",
       "\tviewer_1568788550528864.setStyle({\"model\": -1},{\"sphere\": {\"color\": \"#862BC1\", \"scale\": 0.15}});\n",
       "\tviewer_1568788550528864.addModel(\"1 angstroem\\n\\nC -1.212829577 -0.596972908 -1.987404429\\n\");\n",
       "\tviewer_1568788550528864.setStyle({\"model\": -1},{\"sphere\": {\"color\": \"#BD6618\", \"scale\": 0.15}});\n",
       "\tviewer_1568788550528864.addModel(\"1 angstroem\\n\\nC 1.651511825 -1.966759916 0.916439769\\n\");\n",
       "\tviewer_1568788550528864.setStyle({\"model\": -1},{\"sphere\": {\"color\": \"#0F13BF\", \"scale\": 0.15}});\n",
       "\tviewer_1568788550528864.addModel(\"1 angstroem\\n\\nH 2.66931027 3.993980008 0.703756011\\n\");\n",
       "\tviewer_1568788550528864.setStyle({\"model\": -1},{\"sphere\": {\"color\": \"#305678\", \"scale\": 0.15}});\n",
       "\tviewer_1568788550528864.addModel(\"1 angstroem\\n\\nO -5.732648641 -5.59755535 -1.357450744\\n\");\n",
       "\tviewer_1568788550528864.setStyle({\"model\": -1},{\"sphere\": {\"color\": \"#C919E0\", \"scale\": 0.15}});\n",
       "\tviewer_1568788550528864.addModel(\"1 angstroem\\n\\nH 1.628457964 -0.736397258 -1.367043529\\n\");\n",
       "\tviewer_1568788550528864.setStyle({\"model\": -1},{\"sphere\": {\"color\": \"#14DC72\", \"scale\": 0.15}});\n",
       "\tviewer_1568788550528864.addModel(\"1 angstroem\\n\\nH -1.392037803 3.906538602 -1.519094475\\n\");\n",
       "\tviewer_1568788550528864.setStyle({\"model\": -1},{\"sphere\": {\"color\": \"#FD1D1E\", \"scale\": 0.15}});\n",
       "\tviewer_1568788550528864.addModel(\"1 angstroem\\n\\nH -7.691343755 -5.579748582 -0.179842884\\n\");\n",
       "\tviewer_1568788550528864.setStyle({\"model\": -1},{\"sphere\": {\"color\": \"#9B5116\", \"scale\": 0.15}});\n",
       "\tviewer_1568788550528864.addModel(\"1 angstroem\\n\\nO -7.336165399 -4.702178787 -0.102748862\\n\");\n",
       "\tviewer_1568788550528864.setStyle({\"model\": -1},{\"sphere\": {\"color\": \"#8ACA77\", \"scale\": 0.15}});\n",
       "\tviewer_1568788550528864.addModel(\"1 angstroem\\n\\nH 3.742287394 0.737496569 2.290823134\\n\");\n",
       "\tviewer_1568788550528864.setStyle({\"model\": -1},{\"sphere\": {\"color\": \"#512D73\", \"scale\": 0.15}});\n",
       "\tviewer_1568788550528864.addModel(\"1 angstroem\\n\\nH 2.440815079 1.252898971 -3.014167775\\n\");\n",
       "\tviewer_1568788550528864.setStyle({\"model\": -1},{\"sphere\": {\"color\": \"#C5EB17\", \"scale\": 0.15}});\n",
       "\tviewer_1568788550528864.addModel(\"1 angstroem\\n\\nO 5.631738041 0.62447468 -0.76564302\\n\");\n",
       "\tviewer_1568788550528864.setStyle({\"model\": -1},{\"sphere\": {\"color\": \"#04C09E\", \"scale\": 0.15}});\n",
       "\tviewer_1568788550528864.addModel(\"1 angstroem\\n\\nH 1.878816707 1.801413274 1.676936134\\n\");\n",
       "\tviewer_1568788550528864.setStyle({\"model\": -1},{\"sphere\": {\"color\": \"#036D96\", \"scale\": 0.15}});\n",
       "\tviewer_1568788550528864.addModel(\"1 angstroem\\n\\nC 4.621985645 -0.903755404 4.165946929\\n\");\n",
       "\tviewer_1568788550528864.setStyle({\"model\": -1},{\"sphere\": {\"color\": \"#ED4525\", \"scale\": 0.15}});\n",
       "\tviewer_1568788550528864.addModel(\"1 angstroem\\n\\nC -2.161574563 -1.761906549 -2.270721587\\n\");\n",
       "\tviewer_1568788550528864.setStyle({\"model\": -1},{\"sphere\": {\"color\": \"#A0FC8F\", \"scale\": 0.15}});\n",
       "\tviewer_1568788550528864.addModel(\"1 angstroem\\n\\nO -4.714110793 4.222201294 -1.455708442\\n\");\n",
       "\tviewer_1568788550528864.setStyle({\"model\": -1},{\"sphere\": {\"color\": \"#75142A\", \"scale\": 0.15}});\n",
       "\tviewer_1568788550528864.addModel(\"1 angstroem\\n\\nO -0.031147254 -0.79307386 -1.754548698\\n\");\n",
       "\tviewer_1568788550528864.setStyle({\"model\": -1},{\"sphere\": {\"color\": \"#1B1AB6\", \"scale\": 0.15}});\n",
       "\tviewer_1568788550528864.addModel(\"1 angstroem\\n\\nC -3.040839404 -1.588902902 -0.064531883\\n\");\n",
       "\tviewer_1568788550528864.setStyle({\"model\": -1},{\"sphere\": {\"color\": \"#8E64A4\", \"scale\": 0.15}});\n",
       "\tviewer_1568788550528864.addModel(\"1 angstroem\\n\\nC -1.987148381 2.992134694 -1.678459372\\n\");\n",
       "\tviewer_1568788550528864.setStyle({\"model\": -1},{\"sphere\": {\"color\": \"#7DF6B0\", \"scale\": 0.15}});\n",
       "\tviewer_1568788550528864.addModel(\"1 angstroem\\n\\nH 3.799291845 0.880692516 -3.790953454\\n\");\n",
       "\tviewer_1568788550528864.setStyle({\"model\": -1},{\"sphere\": {\"color\": \"#493A04\", \"scale\": 0.15}});\n",
       "\tviewer_1568788550528864.addModel(\"1 angstroem\\n\\nC -6.185323924000001 -4.630005907 -0.767100653\\n\");\n",
       "\tviewer_1568788550528864.setStyle({\"model\": -1},{\"sphere\": {\"color\": \"#33C2A1\", \"scale\": 0.15}});\n",
       "\tviewer_1568788550528864.addModel(\"1 angstroem\\n\\nH -3.15157652 -2.795796412 -4.094512468\\n\");\n",
       "\tviewer_1568788550528864.setStyle({\"model\": -1},{\"sphere\": {\"color\": \"#517905\", \"scale\": 0.15}});\n",
       "\tviewer_1568788550528864.addModel(\"1 angstroem\\n\\nH -5.237336385 5.000265838 -1.303805698\\n\");\n",
       "\tviewer_1568788550528864.setStyle({\"model\": -1},{\"sphere\": {\"color\": \"#BF29C0\", \"scale\": 0.15}});\n",
       "\tviewer_1568788550528864.addModel(\"1 angstroem\\n\\nC 6.767304924 -0.304189027 2.588254243\\n\");\n",
       "\tviewer_1568788550528864.setStyle({\"model\": -1},{\"sphere\": {\"color\": \"#ECBE75\", \"scale\": 0.15}});\n",
       "\tviewer_1568788550528864.addModel(\"1 angstroem\\n\\nH 4.264527121 -0.980780666 -2.00268014\\n\");\n",
       "\tviewer_1568788550528864.setStyle({\"model\": -1},{\"sphere\": {\"color\": \"#DC8836\", \"scale\": 0.15}});\n",
       "\tviewer_1568788550528864.addModel(\"1 angstroem\\n\\nC -5.041406092 -2.946842145 0.704641262\\n\");\n",
       "\tviewer_1568788550528864.setStyle({\"model\": -1},{\"sphere\": {\"color\": \"#973AA1\", \"scale\": 0.15}});\n",
       "\tviewer_1568788550528864.addModel(\"1 angstroem\\n\\nC 0.002633416 -3.871380626 -2.058491757\\n\");\n",
       "\tviewer_1568788550528864.setStyle({\"model\": -1},{\"sphere\": {\"color\": \"#C3E0F1\", \"scale\": 0.15}});\n",
       "\tviewer_1568788550528864.addModel(\"1 angstroem\\n\\nH -0.355260442 1.916654114 -2.65718323\\n\");\n",
       "\tviewer_1568788550528864.setStyle({\"model\": -1},{\"sphere\": {\"color\": \"#8C2338\", \"scale\": 0.15}});\n",
       "\tviewer_1568788550528864.addModel(\"1 angstroem\\n\\nN -0.879775858 1.322307378 0.543978588\\n\");\n",
       "\tviewer_1568788550528864.setStyle({\"model\": -1},{\"sphere\": {\"color\": \"#7DB188\", \"scale\": 0.15}});\n",
       "\tviewer_1568788550528864.addModel(\"1 angstroem\\n\\nH 1.378722194 -2.243016848 -1.872851729\\n\");\n",
       "\tviewer_1568788550528864.setStyle({\"model\": -1},{\"sphere\": {\"color\": \"#E05E2C\", \"scale\": 0.15}});\n",
       "\tviewer_1568788550528864.addModel(\"1 angstroem\\n\\nH -2.542766466 3.108874023 -2.623599687\\n\");\n",
       "\tviewer_1568788550528864.setStyle({\"model\": -1},{\"sphere\": {\"color\": \"#CEF832\", \"scale\": 0.15}});\n",
       "\tviewer_1568788550528864.addModel(\"1 angstroem\\n\\nC 1.395329548 3.357637309 3.049887161\\n\");\n",
       "\tviewer_1568788550528864.setStyle({\"model\": -1},{\"sphere\": {\"color\": \"#1C3BB4\", \"scale\": 0.15}});\n",
       "\tviewer_1568788550528864.addModel(\"1 angstroem\\n\\nO 0.488726727 3.985212419 2.304750171\\n\");\n",
       "\tviewer_1568788550528864.setStyle({\"model\": -1},{\"sphere\": {\"color\": \"#D39929\", \"scale\": 0.15}});\n",
       "\tviewer_1568788550528864.addModel(\"1 angstroem\\n\\nH -0.099562609 4.474360735 2.867665333\\n\");\n",
       "\tviewer_1568788550528864.setStyle({\"model\": -1},{\"sphere\": {\"color\": \"#ADECCA\", \"scale\": 0.15}});\n",
       "\tviewer_1568788550528864.addModel(\"1 angstroem\\n\\nH 3.811205871 4.187642335 2.059833568\\n\");\n",
       "\tviewer_1568788550528864.setStyle({\"model\": -1},{\"sphere\": {\"color\": \"#DB1139\", \"scale\": 0.15}});\n",
       "\tviewer_1568788550528864.addModel(\"1 angstroem\\n\\nH -0.294238185 -1.276970067 0.837111303\\n\");\n",
       "\tviewer_1568788550528864.setStyle({\"model\": -1},{\"sphere\": {\"color\": \"#538E1D\", \"scale\": 0.15}});\n",
       "\tviewer_1568788550528864.addModel(\"1 angstroem\\n\\nC 4.364187336 2.630814986 0.630339603\\n\");\n",
       "\tviewer_1568788550528864.setStyle({\"model\": -1},{\"sphere\": {\"color\": \"#093BBD\", \"scale\": 0.15}});\n",
       "\tviewer_1568788550528864.addModel(\"1 angstroem\\n\\nC -1.252943626 0.807043101 3.105750249\\n\");\n",
       "\tviewer_1568788550528864.setStyle({\"model\": -1},{\"sphere\": {\"color\": \"#5C5560\", \"scale\": 0.15}});\n",
       "\tviewer_1568788550528864.addModel(\"1 angstroem\\n\\nH 3.033390431 1.980750298 3.025600472\\n\");\n",
       "\tviewer_1568788550528864.setStyle({\"model\": -1},{\"sphere\": {\"color\": \"#8FE9D4\", \"scale\": 0.15}});\n",
       "\tviewer_1568788550528864.addModel(\"1 angstroem\\n\\nC 2.857912174 -1.352374549 0.206830486\\n\");\n",
       "\tviewer_1568788550528864.setStyle({\"model\": -1},{\"sphere\": {\"color\": \"#177737\", \"scale\": 0.15}});\n",
       "\tviewer_1568788550528864.addModel(\"1 angstroem\\n\\nC -2.569942678 -1.99576886 -3.898582802\\n\");\n",
       "\tviewer_1568788550528864.setStyle({\"model\": -1},{\"sphere\": {\"color\": \"#E5EDE6\", \"scale\": 0.15}});\n",
       "\tviewer_1568788550528864.addModel(\"1 angstroem\\n\\nC 2.412431108 2.533728039 2.302980741\\n\");\n",
       "\tviewer_1568788550528864.setStyle({\"model\": -1},{\"sphere\": {\"color\": \"#D96EEE\", \"scale\": 0.15}});\n",
       "\tviewer_1568788550528864.addModel(\"1 angstroem\\n\\nH -3.1038216 -1.1991394760000003 -4.209452584\\n\");\n",
       "\tviewer_1568788550528864.setStyle({\"model\": -1},{\"sphere\": {\"color\": \"#268DB8\", \"scale\": 0.15}});\n",
       "\tviewer_1568788550528864.addModel(\"1 angstroem\\n\\nC 3.580676155 -0.161471562 -1.724405448\\n\");\n",
       "\tviewer_1568788550528864.setStyle({\"model\": -1},{\"sphere\": {\"color\": \"#338697\", \"scale\": 0.15}});\n",
       "\tviewer_1568788550528864.addModel(\"1 angstroem\\n\\nN -1.786291324 0.591069328 -2.033200808\\n\");\n",
       "\tviewer_1568788550528864.setStyle({\"model\": -1},{\"sphere\": {\"color\": \"#22C4D9\", \"scale\": 0.15}});\n",
       "\tviewer_1568788550528864.addModel(\"1 angstroem\\n\\nH -4.040882796 -1.353625964 1.8174001969999998\\n\");\n",
       "\tviewer_1568788550528864.setStyle({\"model\": -1},{\"sphere\": {\"color\": \"#E50CE6\", \"scale\": 0.15}});\n",
       "\tviewer_1568788550528864.addModel(\"1 angstroem\\n\\nH -1.800737088 -2.08044335 -4.54511163\\n\");\n",
       "\tviewer_1568788550528864.setStyle({\"model\": -1},{\"sphere\": {\"color\": \"#6199E6\", \"scale\": 0.15}});\n",
       "\tviewer_1568788550528864.addModel(\"1 angstroem\\n\\nC -3.89936303 4.027297827 -0.421683758\\n\");\n",
       "\tviewer_1568788550528864.setStyle({\"model\": -1},{\"sphere\": {\"color\": \"#161DBF\", \"scale\": 0.15}});\n",
       "\tviewer_1568788550528864.addModel(\"1 angstroem\\n\\nH -4.836746619 0.391563102 0.162193523\\n\");\n",
       "\tviewer_1568788550528864.setStyle({\"model\": -1},{\"sphere\": {\"color\": \"#2C8F39\", \"scale\": 0.15}});\n",
       "\tviewer_1568788550528864.addModel(\"1 angstroem\\n\\nC 3.076668722 0.493880901 -3.203553139\\n\");\n",
       "\tviewer_1568788550528864.setStyle({\"model\": -1},{\"sphere\": {\"color\": \"#C6686E\", \"scale\": 0.15}});\n",
       "\tviewer_1568788550528864.addModel(\"1 angstroem\\n\\nH -6.160140498 -0.847134332 0.177814384\\n\");\n",
       "\tviewer_1568788550528864.setStyle({\"model\": -1},{\"sphere\": {\"color\": \"#2025AC\", \"scale\": 0.15}});\n",
       "\tviewer_1568788550528864.addModel(\"1 angstroem\\n\\nC 1.073504377 -3.152829252 0.096625834\\n\");\n",
       "\tviewer_1568788550528864.setStyle({\"model\": -1},{\"sphere\": {\"color\": \"#0F9B12\", \"scale\": 0.15}});\n",
       "\tviewer_1568788550528864.addModel(\"1 angstroem\\n\\nN 0.654330431 -0.982874182 1.119801349\\n\");\n",
       "\tviewer_1568788550528864.setStyle({\"model\": -1},{\"sphere\": {\"color\": \"#CDF1C2\", \"scale\": 0.15}});\n",
       "\tviewer_1568788550528864.addModel(\"1 angstroem\\n\\nC 5.319045605 1.913344551 1.584225537\\n\");\n",
       "\tviewer_1568788550528864.setStyle({\"model\": -1},{\"sphere\": {\"color\": \"#5838B9\", \"scale\": 0.15}});\n",
       "\tviewer_1568788550528864.addModel(\"1 angstroem\\n\\nH 3.813845872 -0.544742801 4.650457508\\n\");\n",
       "\tviewer_1568788550528864.setStyle({\"model\": -1},{\"sphere\": {\"color\": \"#5A0C5F\", \"scale\": 0.15}});\n",
       "\tviewer_1568788550528864.addModel(\"1 angstroem\\n\\nO 1.024539381 1.753616075 -0.5798168560000001\\n\");\n",
       "\tviewer_1568788550528864.setStyle({\"model\": -1},{\"sphere\": {\"color\": \"#9A7816\", \"scale\": 0.15}});\n",
       "\tviewer_1568788550528864.addModel(\"1 angstroem\\n\\nH 4.960083864 3.312503911 -0.000264896\\n\");\n",
       "\tviewer_1568788550528864.setStyle({\"model\": -1},{\"sphere\": {\"color\": \"#50F1B5\", \"scale\": 0.15}});\n",
       "\tviewer_1568788550528864.addModel(\"1 angstroem\\n\\nH -2.010546281 1.457086231 3.2479212360000003\\n\");\n",
       "\tviewer_1568788550528864.setStyle({\"model\": -1},{\"sphere\": {\"color\": \"#9779ED\", \"scale\": 0.15}});\n",
       "\tviewer_1568788550528864.addModel(\"1 angstroem\\n\\nH -2.451865704 2.710008015 0.443850865\\n\");\n",
       "\tviewer_1568788550528864.setStyle({\"model\": -1},{\"sphere\": {\"color\": \"#5D7539\", \"scale\": 0.15}});\n",
       "\tviewer_1568788550528864.addModel(\"1 angstroem\\n\\nH -0.809124304 0.737672285 4.008556226\\n\");\n",
       "\tviewer_1568788550528864.setStyle({\"model\": -1},{\"sphere\": {\"color\": \"#E5FE8F\", \"scale\": 0.15}});\n",
       "\tviewer_1568788550528864.addModel(\"1 angstroem\\n\\nO -3.89553985 4.786435363 0.533970809\\n\");\n",
       "\tviewer_1568788550528864.setStyle({\"model\": -1},{\"sphere\": {\"color\": \"#CBE4FD\", \"scale\": 0.15}});\n",
       "\tviewer_1568788550528864.addModel(\"1 angstroem\\n\\nH -2.786179466 0.7571864479999999 -2.230221813\\n\");\n",
       "\tviewer_1568788550528864.setStyle({\"model\": -1},{\"sphere\": {\"color\": \"#298F0B\", \"scale\": 0.15}});\n",
       "\tviewer_1568788550528864.addModel(\"1 angstroem\\n\\nH 0.210462453 2.117547567 2.024662387\\n\");\n",
       "\tviewer_1568788550528864.setStyle({\"model\": -1},{\"sphere\": {\"color\": \"#053E2B\", \"scale\": 0.15}});\n",
       "\tviewer_1568788550528864.addModel(\"1 angstroem\\n\\nC -0.186893023 1.612158125 -0.541516673\\n\");\n",
       "\tviewer_1568788550528864.setStyle({\"model\": -1},{\"sphere\": {\"color\": \"#F5E4C9\", \"scale\": 0.15}});\n",
       "\tviewer_1568788550528864.addModel(\"1 angstroem\\n\\nN 4.744329083 0.985272694 2.326373492\\n\");\n",
       "\tviewer_1568788550528864.setStyle({\"model\": -1},{\"sphere\": {\"color\": \"#51855E\", \"scale\": 0.15}});\n",
       "\tviewer_1568788550528864.addModel(\"1 angstroem\\n\\nC -0.235646954 1.136307888 1.791185524\\n\");\n",
       "\tviewer_1568788550528864.setStyle({\"model\": -1},{\"sphere\": {\"color\": \"#C243C1\", \"scale\": 0.15}});\n",
       "\tviewer_1568788550528864.addModel(\"1 angstroem\\n\\nO 1.392583175 3.4544289790000002 4.266523465\\n\");\n",
       "\tviewer_1568788550528864.setStyle({\"model\": -1},{\"sphere\": {\"color\": \"#53CC43\", \"scale\": 0.15}});\n",
       "\tviewer_1568788550528864.addModel(\"1 angstroem\\n\\nH -1.905176318 1.202730025 0.575593995\\n\");\n",
       "\tviewer_1568788550528864.setStyle({\"model\": -1},{\"sphere\": {\"color\": \"#423710\", \"scale\": 0.15}});\n",
       "\tviewer_1568788550528864.addModel(\"1 angstroem\\n\\nH -1.69645963 -0.084468233 2.948313919\\n\");\n",
       "\tviewer_1568788550528864.setStyle({\"model\": -1},{\"sphere\": {\"color\": \"#5E68B8\", \"scale\": 0.15}});\n",
       "\tviewer_1568788550528864.addModel(\"1 angstroem\\n\\nN -5.183010526 -0.545903872 0.321570078\\n\");\n",
       "\tviewer_1568788550528864.setStyle({\"model\": -1},{\"sphere\": {\"color\": \"#686CC3\", \"scale\": 0.15}});\n",
       "\tviewer_1568788550528864.addModel(\"1 angstroem\\n\\nH 4.262951664 -1.607543301 3.539798146\\n\");\n",
       "\tviewer_1568788550528864.setStyle({\"model\": -1},{\"sphere\": {\"color\": \"#053AF9\", \"scale\": 0.15}});\n",
       "\tviewer_1568788550528864.addModel(\"1 angstroem\\n\\nH -6.180577606 -2.528665047 -1.120557388\\n\");\n",
       "\tviewer_1568788550528864.setStyle({\"model\": -1},{\"sphere\": {\"color\": \"#81E678\", \"scale\": 0.15}});\n",
       "\tviewer_1568788550528864.addModel(\"1 angstroem\\n\\nH -4.367299289 -3.735878955 1.077051261\\n\");\n",
       "\tviewer_1568788550528864.setStyle({\"model\": -1},{\"sphere\": {\"color\": \"#6A22AB\", \"scale\": 0.15}});\n",
       "\tviewer_1568788550528864.addModel(\"1 angstroem\\n\\nC -1.036922521 1.769543494 -1.8021102680000003\\n\");\n",
       "\tviewer_1568788550528864.setStyle({\"model\": -1},{\"sphere\": {\"color\": \"#2B97BF\", \"scale\": 0.15}});\n",
       "\tviewer_1568788550528864.addModel(\"1 angstroem\\n\\nO 7.868246311 -0.05884107 3.053853781\\n\");\n",
       "\tviewer_1568788550528864.setStyle({\"model\": -1},{\"sphere\": {\"color\": \"#DD323B\", \"scale\": 0.15}});\n",
       "\tviewer_1568788550528864.addModel(\"1 angstroem\\n\\nC 4.421839221 0.762724694 -0.843631911\\n\");\n",
       "\tviewer_1568788550528864.setStyle({\"model\": -1},{\"sphere\": {\"color\": \"#0CFF5F\", \"scale\": 0.15}});\n",
       "\tviewer_1568788550528864.addModel(\"1 angstroem\\n\\nN 3.726108732 1.692225529 -0.215629266\\n\");\n",
       "\tviewer_1568788550528864.setStyle({\"model\": -1},{\"sphere\": {\"color\": \"#2812B9\", \"scale\": 0.15}});\n",
       "\tviewer_1568788550528864.addModel(\"1 angstroem\\n\\nO 0.507441784 -4.283068248 -3.090607002\\n\");\n",
       "\tviewer_1568788550528864.setStyle({\"model\": -1},{\"sphere\": {\"color\": \"#A1DBF4\", \"scale\": 0.15}});\n",
       "\tviewer_1568788550528864.addModel(\"1 angstroem\\n\\nC -5.486756474 -3.29490776 -0.74049761\\n\");\n",
       "\tviewer_1568788550528864.setStyle({\"model\": -1},{\"sphere\": {\"color\": \"#FC7AAF\", \"scale\": 0.15}});\n",
       "\tviewer_1568788550528864.addModel(\"1 angstroem\\n\\nO -1.945400394 -1.474924712 0.460889922\\n\");\n",
       "\tviewer_1568788550528864.setStyle({\"model\": -1},{\"sphere\": {\"color\": \"#1E75B8\", \"scale\": 0.15}});\n",
       "\tviewer_1568788550528864.addModel(\"1 angstroem\\n\\nH 5.137744044 -1.403123507 4.874093316\\n\");\n",
       "\tviewer_1568788550528864.setStyle({\"model\": -1},{\"sphere\": {\"color\": \"#76B78F\", \"scale\": 0.15}});\n",
       "\tviewer_1568788550528864.addModel(\"1 angstroem\\n\\nH 2.568233218 -0.131074516 -3.809898344\\n\");\n",
       "\tviewer_1568788550528864.setStyle({\"model\": -1},{\"sphere\": {\"color\": \"#AED21A\", \"scale\": 0.15}});\n",
       "\tviewer_1568788550528864.addModel(\"1 angstroem\\n\\nO 6.502790098 2.206751478 1.625542302\\n\");\n",
       "\tviewer_1568788550528864.setStyle({\"model\": -1},{\"sphere\": {\"color\": \"#C3D39B\", \"scale\": 0.15}});\n",
       "\tviewer_1568788550528864.addModel(\"1 angstroem\\n\\nH -5.926074594999999 -2.917715769 1.362017134\\n\");\n",
       "\tviewer_1568788550528864.setStyle({\"model\": -1},{\"sphere\": {\"color\": \"#7152EC\", \"scale\": 0.15}});\n",
       "\tviewer_1568788550528864.addModel(\"1 angstroem\\n\\nH -1.347580901 -5.171622276 -2.09415004\\n\");\n",
       "\tviewer_1568788550528864.setStyle({\"model\": -1},{\"sphere\": {\"color\": \"#F281E4\", \"scale\": 0.15}});\n",
       "\tviewer_1568788550528864.addModel(\"1 angstroem\\n\\nC 3.304072658 3.446583152 1.420040266\\n\");\n",
       "\tviewer_1568788550528864.setStyle({\"model\": -1},{\"sphere\": {\"color\": \"#56C06D\", \"scale\": 0.15}});\n",
       "\tviewer_1568788550528864.addModel(\"1 angstroem\\n\\nH 6.586106906 -0.909657653 1.692826432\\n\");\n",
       "\tviewer_1568788550528864.setStyle({\"model\": -1},{\"sphere\": {\"color\": \"#E5A9CD\", \"scale\": 0.15}});\n",
       "\tviewer_1568788550528864.addModel(\"1 angstroem\\n\\nC -4.319657356 -1.573012303 0.772599319\\n\");\n",
       "\tviewer_1568788550528864.setStyle({\"model\": -1},{\"sphere\": {\"color\": \"#B4F829\", \"scale\": 0.15}});\n",
       "\tviewer_1568788550528864.addModel(\"1 angstroem\\n\\nC 0.558546889 -2.697300228 -1.294497844\\n\");\n",
       "\tviewer_1568788550528864.setStyle({\"model\": -1},{\"sphere\": {\"color\": \"#FBE7DC\", \"scale\": 0.15}});\n",
       "\tviewer_1568788550528864.zoomTo();\n",
       "viewer_1568788550528864.render();\n",
       "});\n",
       "</script>"
      ]
     },
     "metadata": {},
     "output_type": "display_data"
    }
   ],
   "source": [
    "display_molecule(sys)"
   ]
  },
  {
   "cell_type": "markdown",
   "metadata": {},
   "source": [
    "## Calculations on this System\n",
    "The next step of a complexity reduction analysis is to perform a linear scaling calculation on this molecule."
   ]
  },
  {
   "cell_type": "code",
   "execution_count": 50,
   "metadata": {
    "collapsed": true,
    "jupyter": {
     "outputs_hidden": true
    }
   },
   "outputs": [],
   "source": [
    "from BigDFT.Inputfiles import Inputfile\n",
    "from BigDFT.Calculators import SystemCalculator"
   ]
  },
  {
   "cell_type": "markdown",
   "metadata": {},
   "source": [
    "We here setup the input file. The key aspects are the use of the linear scaling mode, and the option to write the support function matrices to file."
   ]
  },
  {
   "cell_type": "code",
   "execution_count": 51,
   "metadata": {
    "collapsed": true,
    "jupyter": {
     "outputs_hidden": true
    }
   },
   "outputs": [],
   "source": [
    "inp = Inputfile()\n",
    "inp.set_xc(\"PBE\")\n",
    "inp.set_hgrid(0.65) # this is an overly coarse grid, be careful about this in practice.\n",
    "inp.write_support_function_matrices()\n",
    "inp[\"import\"] = \"linear\""
   ]
  },
  {
   "cell_type": "markdown",
   "metadata": {},
   "source": [
    "A system calculator for running."
   ]
  },
  {
   "cell_type": "code",
   "execution_count": 52,
   "metadata": {
    "collapsed": true,
    "jupyter": {
     "outputs_hidden": true
    }
   },
   "outputs": [
    {
     "name": "stdout",
     "output_type": "stream",
     "text": [
      "Initialize a Calculator with OMP_NUM_THREADS=2 and command mpirun -machinefile /var/lib/oar/1884062 /home/wdawson/share/binaries/flake8-nopoly/install/bin/bigdft\n"
     ]
    }
   ],
   "source": [
    "code = SystemCalculator()\n",
    "code.update_global_options(skip=True)"
   ]
  },
  {
   "cell_type": "markdown",
   "metadata": {},
   "source": [
    "And now the calculation can be performed. This calculation takes some time to run."
   ]
  },
  {
   "cell_type": "code",
   "execution_count": 53,
   "metadata": {
    "collapsed": true,
    "jupyter": {
     "outputs_hidden": true
    }
   },
   "outputs": [
    {
     "name": "stdout",
     "output_type": "stream",
     "text": [
      "Creating the yaml input file \"./GluAla.yaml\"\n",
      "Executing command:  mpirun -machinefile /var/lib/oar/1884062 /home/wdawson/share/binaries/flake8-nopoly/install/bin/bigdft -n GluAla -s Yes\n"
     ]
    }
   ],
   "source": [
    "log = code.run(input=inp, posinp=sys.get_posinp(), name=\"GluAla\")"
   ]
  },
  {
   "cell_type": "markdown",
   "metadata": {},
   "source": [
    "## Complexity Reduction 1: Breaking Down the System into Fragments\n",
    "We now move to the actual complexity reduction analysis. The first analysis we will perform will take this molecule, and break it down into chemically meaningful fragments. For this, we will need the BigDFT post processing tool."
   ]
  },
  {
   "cell_type": "code",
   "execution_count": 54,
   "metadata": {
    "collapsed": true,
    "jupyter": {
     "outputs_hidden": true
    }
   },
   "outputs": [],
   "source": [
    "from BigDFT.PostProcessing import BigDFTool"
   ]
  },
  {
   "cell_type": "code",
   "execution_count": 55,
   "metadata": {
    "collapsed": true,
    "jupyter": {
     "outputs_hidden": true
    }
   },
   "outputs": [],
   "source": [
    "btool = BigDFTool()"
   ]
  },
  {
   "cell_type": "markdown",
   "metadata": {},
   "source": [
    "When we first loaded in our system, we put it into a system class, where every atom was its own named fragment. Using the BigDFTool's purity analysis technique, we can evaluate how good of a fragmentation this is."
   ]
  },
  {
   "cell_type": "code",
   "execution_count": 56,
   "metadata": {
    "collapsed": true,
    "jupyter": {
     "outputs_hidden": true
    }
   },
   "outputs": [],
   "source": [
    "pv = btool.run_compute_purity(sys, log)"
   ]
  },
  {
   "cell_type": "markdown",
   "metadata": {},
   "source": [
    "And then plot those purity values."
   ]
  },
  {
   "cell_type": "code",
   "execution_count": 57,
   "metadata": {
    "collapsed": true,
    "jupyter": {
     "outputs_hidden": true
    }
   },
   "outputs": [],
   "source": [
    "from matplotlib import pyplot as plt\n",
    "from BigDFT.Fragments import plot_fragment_information"
   ]
  },
  {
   "cell_type": "code",
   "execution_count": 58,
   "metadata": {
    "collapsed": true,
    "jupyter": {
     "outputs_hidden": true
    }
   },
   "outputs": [
    {
     "data": {
      "text/plain": [
       "<matplotlib.lines.Line2D at 0x7f018c75fda0>"
      ]
     },
     "execution_count": 58,
     "metadata": {},
     "output_type": "execute_result"
    },
    {
     "data": {
      "image/png": "[encoded data removed]",
      "text/plain": [
       "<Figure size 1152x288 with 1 Axes>"
      ]
     },
     "metadata": {
      "needs_background": "light"
     },
     "output_type": "display_data"
    }
   ],
   "source": [
    "fig, axs = plt.subplots(1,1,figsize=(16,4))\n",
    "plot_fragment_information(axs, pv)\n",
    "axs.axhline(-0.05, linestyle='--')"
   ]
  },
  {
   "cell_type": "markdown",
   "metadata": {},
   "source": [
    "In general, we consider a value above -0.05 to be a good starting point. Obviously, the current fragmentation is not a good way to partition this system. To fix this, we will use the bigdft tool to perform an automatic fragmentation of the system. "
   ]
  },
  {
   "cell_type": "code",
   "execution_count": 59,
   "metadata": {
    "collapsed": true,
    "jupyter": {
     "outputs_hidden": true
    }
   },
   "outputs": [],
   "source": [
    "resys = btool.auto_fragment(system=sys, cutoff=0.05, log=log, criteria=\"bondorder\")"
   ]
  },
  {
   "cell_type": "markdown",
   "metadata": {},
   "source": [
    "We can now plot these new values."
   ]
  },
  {
   "cell_type": "code",
   "execution_count": 60,
   "metadata": {
    "collapsed": true,
    "jupyter": {
     "outputs_hidden": true
    }
   },
   "outputs": [
    {
     "data": {
      "text/plain": [
       "<matplotlib.lines.Line2D at 0x7f018c005470>"
      ]
     },
     "execution_count": 60,
     "metadata": {},
     "output_type": "execute_result"
    },
    {
     "data": {
      "image/png": "[encoded data removed]",
      "text/plain": [
       "<Figure size 432x288 with 1 Axes>"
      ]
     },
     "metadata": {
      "needs_background": "light"
     },
     "output_type": "display_data"
    }
   ],
   "source": [
    "fig, axs = plt.subplots(1,1,figsize=(6,4))\n",
    "pv = btool.run_compute_purity(resys, log)\n",
    "plot_fragment_information(axs, pv)\n",
    "axs.axhline(-0.05, linestyle='--')"
   ]
  },
  {
   "cell_type": "markdown",
   "metadata": {},
   "source": [
    "We see that the auto fragmentation tool has partitioned this system into just a few fragments. Let's take a look at these fragments."
   ]
  },
  {
   "cell_type": "code",
   "execution_count": 61,
   "metadata": {
    "collapsed": true,
    "jupyter": {
     "outputs_hidden": true
    }
   },
   "outputs": [
    {
     "data": {
      "application/3dmoljs_load.v0": "<div id=\"3dmolviewer_15687885570423644\"  style=\"position: relative; width: 600px; height: 400px\">\n        <p id=\"3dmolwarning_15687885570423644\" style=\"background-color:#ffcccc;color:black\">You appear to be running in JupyterLab (or JavaScript failed to load for some other reason).  You need to install the 3dmol extension: <br>\n        <tt>jupyter labextension install jupyterlab_3dmol</tt></p>\n        </div>\n<script>\n\nvar loadScriptAsync = function(uri){\n  return new Promise((resolve, reject) => {\n    var tag = document.createElement('script');\n    tag.src = uri;\n    tag.async = true;\n    tag.onload = () => {\n      resolve();\n    };\n  var firstScriptTag = document.getElementsByTagName('script')[0];\n  firstScriptTag.parentNode.insertBefore(tag, firstScriptTag);\n});\n};\n\nif(typeof $3Dmolpromise === 'undefined') {\n$3Dmolpromise = null;\n  $3Dmolpromise = loadScriptAsync('https://3dmol.csb.pitt.edu/build/3Dmol.js');\n}\n\nvar viewer_15687885570423644 = null;\nvar warn = document.getElementById(\"3dmolwarning_15687885570423644\");\nif(warn) {\n    warn.parentNode.removeChild(warn);\n}\n$3Dmolpromise.then(function() {\nviewer_15687885570423644 = $3Dmol.createViewer($(\"#3dmolviewer_15687885570423644\"),{backgroundColor:\"white\"});\n\tviewer_15687885570423644.addModel(\"106 angstroem\\n\\nH -4.040882796 -1.353625964 1.8174001969999998\\nC -4.319657356 -1.573012303 0.772599319\\nH -4.836746619 0.391563102 0.162193523\\nH -6.160140498 -0.847134332 0.177814384\\nN -5.183010526 -0.545903872 0.321570078\\nH -4.612177134 -3.329140227 -1.409446975\\nH -6.180577606 -2.528665047 -1.120557388\\nC -5.486756474 -3.29490776 -0.74049761\\nH -4.367299289 -3.735878955 1.077051261\\nH -5.926074594999999 -2.917715769 1.362017134\\nC -5.041406092 -2.946842145 0.704641262\\nC -6.185323924000001 -4.630005907 -0.767100653\\nO -5.732648641 -5.59755535 -1.357450744\\nH -7.691343755 -5.579748582 -0.179842884\\nO -7.336165399 -4.702178787 -0.102748862\\nH -2.451865704 2.710008015 0.443850865\\nH -3.613360859 1.929592065 -0.663387909\\nC -2.993047092 2.8263687719999995 -0.508586544\\nH -0.355260442 1.916654114 -2.65718323\\nC -1.036922521 1.769543494 -1.8021102680000003\\nH -1.392037803 3.906538602 -1.519094475\\nH -2.542766466 3.108874023 -2.623599687\\nC -1.987148381 2.992134694 -1.678459372\\nC -3.89936303 4.027297827 -0.421683758\\nO -3.89553985 4.786435363 0.533970809\\nH -5.237336385 5.000265838 -1.303805698\\nO -4.714110793 4.222201294 -1.455708442\\nH 6.586106906 -0.909657653 1.692826432\\nC 6.767304924 -0.304189027 2.588254243\\nO 7.868246311 -0.05884107 3.053853781\\nH 5.137744044 -1.403123507 4.874093316\\nH 3.813845872 -0.544742801 4.650457508\\nH 4.262951664 -1.607543301 3.539798146\\nC 4.621985645 -0.903755404 4.165946929\\nH 5.854996061 0.961097144 3.993492399\\nC 5.49696044 0.225175324 3.254177903\\nH 3.742287394 0.737496569 2.290823134\\nN 4.744329083 0.985272694 2.326373492\\nC 5.319045605 1.913344551 1.584225537\\nO 6.502790098 2.206751478 1.625542302\\nH 4.960083864 3.312503911 -0.000264896\\nC 4.364187336 2.630814986 0.630339603\\nH 2.702326636 1.809352684 -0.281507338\\nN 3.726108732 1.692225529 -0.215629266\\nC 4.421839221 0.762724694 -0.843631911\\nO 5.631738041 0.62447468 -0.76564302\\nH -2.786179466 0.7571864479999999 -2.230221813\\nN -1.786291324 0.591069328 -2.033200808\\nC -1.212829577 -0.596972908 -1.987404429\\nO -0.031147254 -0.79307386 -1.754548698\\nH -1.58741947 -2.662777448 -1.996615935\\nC -2.161574563 -1.761906549 -2.270721587\\nH -1.800737088 -2.08044335 -4.54511163\\nH -3.15157652 -2.795796412 -4.094512468\\nH -3.1038216 -1.1991394760000003 -4.209452584\\nC -2.569942678 -1.99576886 -3.898582802\\nH -4.173226491 -1.832603921 -1.804179662\\nN -3.245688583 -1.7361906370000002 -1.360195102\\nC -3.040839404 -1.588902902 -0.064531883\\nO -1.945400394 -1.474924712 0.460889922\\nH -0.294238185 -1.276970067 0.837111303\\nN 0.654330431 -0.982874182 1.119801349\\nC 0.959290649 0.196696863 1.6277496259999997\\nO 2.080370651 0.54406136 1.961767624\\nH 0.210462453 2.117547567 2.024662387\\nC -0.235646954 1.136307888 1.791185524\\nH -0.809124304 0.737672285 4.008556226\\nH -2.010546281 1.457086231 3.2479212360000003\\nH -1.69645963 -0.084468233 2.948313919\\nC -1.252943626 0.807043101 3.105750249\\nH -1.905176318 1.202730025 0.575593995\\nN -0.879775858 1.322307378 0.543978588\\nC -0.186893023 1.612158125 -0.541516673\\nO 1.024539381 1.753616075 -0.5798168560000001\\nH 3.799291845 0.880692516 -3.790953454\\nH 2.568233218 -0.131074516 -3.809898344\\nH 2.440815079 1.252898971 -3.014167775\\nC 3.076668722 0.493880901 -3.203553139\\nH 4.264527121 -0.980780666 -2.00268014\\nC 3.580676155 -0.161471562 -1.724405448\\nH 1.628457964 -0.736397258 -1.367043529\\nN 2.57190077 -0.783326131 -0.9493621499999999\\nC 2.857912174 -1.352374549 0.206830486\\nO 3.972204404 -1.408296629 0.70106856\\nH -0.238001799 -1.945593403 -1.178704356\\nH 1.378722194 -2.243016848 -1.872851729\\nC 0.558546889 -2.697300228 -1.294497844\\nH 1.984324861 -2.328203829 1.904391324\\nC 1.651511825 -1.966759916 0.916439769\\nH 1.852293738 -3.921602724 -0.038143446\\nH 0.242977841 -3.606211767 0.662576107\\nC 1.073504377 -3.152829252 0.096625834\\nC 0.002633416 -3.871380626 -2.058491757\\nO 0.507441784 -4.283068248 -3.090607002\\nH -1.347580901 -5.171622276 -2.09415004\\nO -1.080788324 -4.446232777 -1.542012654\\nH -0.099562609 4.474360735 2.867665333\\nO 0.488726727 3.985212419 2.304750171\\nH 3.811205871 4.187642335 2.059833568\\nH 2.66931027 3.993980008 0.703756011\\nC 3.304072658 3.446583152 1.420040266\\nH 1.878816707 1.801413274 1.676936134\\nH 3.033390431 1.980750298 3.025600472\\nC 2.412431108 2.533728039 2.302980741\\nC 1.395329548 3.357637309 3.049887161\\nO 1.392583175 3.4544289790000002 4.266523465\\n\");\n\tviewer_15687885570423644.setStyle({\"model\": -1},{\"line\": {\"color\": \"black\"}});\n\tviewer_15687885570423644.addModel(\"15 angstroem\\n\\nH -4.040882796 -1.353625964 1.8174001969999998\\nC -4.319657356 -1.573012303 0.772599319\\nH -4.836746619 0.391563102 0.162193523\\nH -6.160140498 -0.847134332 0.177814384\\nN -5.183010526 -0.545903872 0.321570078\\nH -4.612177134 -3.329140227 -1.409446975\\nH -6.180577606 -2.528665047 -1.120557388\\nC -5.486756474 -3.29490776 -0.74049761\\nH -4.367299289 -3.735878955 1.077051261\\nH -5.926074594999999 -2.917715769 1.362017134\\nC -5.041406092 -2.946842145 0.704641262\\nC -6.185323924000001 -4.630005907 -0.767100653\\nO -5.732648641 -5.59755535 -1.357450744\\nH -7.691343755 -5.579748582 -0.179842884\\nO -7.336165399 -4.702178787 -0.102748862\\n\");\n\tviewer_15687885570423644.setStyle({\"model\": -1},{\"sphere\": {\"color\": \"#1A30DB\", \"scale\": 0.15}});\n\tviewer_15687885570423644.addModel(\"12 angstroem\\n\\nH -2.451865704 2.710008015 0.443850865\\nH -3.613360859 1.929592065 -0.663387909\\nC -2.993047092 2.8263687719999995 -0.508586544\\nH -0.355260442 1.916654114 -2.65718323\\nC -1.036922521 1.769543494 -1.8021102680000003\\nH -1.392037803 3.906538602 -1.519094475\\nH -2.542766466 3.108874023 -2.623599687\\nC -1.987148381 2.992134694 -1.678459372\\nC -3.89936303 4.027297827 -0.421683758\\nO -3.89553985 4.786435363 0.533970809\\nH -5.237336385 5.000265838 -1.303805698\\nO -4.714110793 4.222201294 -1.455708442\\n\");\n\tviewer_15687885570423644.setStyle({\"model\": -1},{\"sphere\": {\"color\": \"#C52873\", \"scale\": 0.15}});\n\tviewer_15687885570423644.addModel(\"19 angstroem\\n\\nH 6.586106906 -0.909657653 1.692826432\\nC 6.767304924 -0.304189027 2.588254243\\nO 7.868246311 -0.05884107 3.053853781\\nH 5.137744044 -1.403123507 4.874093316\\nH 3.813845872 -0.544742801 4.650457508\\nH 4.262951664 -1.607543301 3.539798146\\nC 4.621985645 -0.903755404 4.165946929\\nH 5.854996061 0.961097144 3.993492399\\nC 5.49696044 0.225175324 3.254177903\\nH 3.742287394 0.737496569 2.290823134\\nN 4.744329083 0.985272694 2.326373492\\nC 5.319045605 1.913344551 1.584225537\\nO 6.502790098 2.206751478 1.625542302\\nH 4.960083864 3.312503911 -0.000264896\\nC 4.364187336 2.630814986 0.630339603\\nH 2.702326636 1.809352684 -0.281507338\\nN 3.726108732 1.692225529 -0.215629266\\nC 4.421839221 0.762724694 -0.843631911\\nO 5.631738041 0.62447468 -0.76564302\\n\");\n\tviewer_15687885570423644.setStyle({\"model\": -1},{\"sphere\": {\"color\": \"#CA3F2A\", \"scale\": 0.15}});\n\tviewer_15687885570423644.addModel(\"14 angstroem\\n\\nH -2.786179466 0.7571864479999999 -2.230221813\\nN -1.786291324 0.591069328 -2.033200808\\nC -1.212829577 -0.596972908 -1.987404429\\nO -0.031147254 -0.79307386 -1.754548698\\nH -1.58741947 -2.662777448 -1.996615935\\nC -2.161574563 -1.761906549 -2.270721587\\nH -1.800737088 -2.08044335 -4.54511163\\nH -3.15157652 -2.795796412 -4.094512468\\nH -3.1038216 -1.1991394760000003 -4.209452584\\nC -2.569942678 -1.99576886 -3.898582802\\nH -4.173226491 -1.832603921 -1.804179662\\nN -3.245688583 -1.7361906370000002 -1.360195102\\nC -3.040839404 -1.588902902 -0.064531883\\nO -1.945400394 -1.474924712 0.460889922\\n\");\n\tviewer_15687885570423644.setStyle({\"model\": -1},{\"sphere\": {\"color\": \"#92DA8E\", \"scale\": 0.15}});\n\tviewer_15687885570423644.addModel(\"14 angstroem\\n\\nH -0.294238185 -1.276970067 0.837111303\\nN 0.654330431 -0.982874182 1.119801349\\nC 0.959290649 0.196696863 1.6277496259999997\\nO 2.080370651 0.54406136 1.961767624\\nH 0.210462453 2.117547567 2.024662387\\nC -0.235646954 1.136307888 1.791185524\\nH -0.809124304 0.737672285 4.008556226\\nH -2.010546281 1.457086231 3.2479212360000003\\nH -1.69645963 -0.084468233 2.948313919\\nC -1.252943626 0.807043101 3.105750249\\nH -1.905176318 1.202730025 0.575593995\\nN -0.879775858 1.322307378 0.543978588\\nC -0.186893023 1.612158125 -0.541516673\\nO 1.024539381 1.753616075 -0.5798168560000001\\n\");\n\tviewer_15687885570423644.setStyle({\"model\": -1},{\"sphere\": {\"color\": \"#410533\", \"scale\": 0.15}});\n\tviewer_15687885570423644.addModel(\"22 angstroem\\n\\nH 3.799291845 0.880692516 -3.790953454\\nH 2.568233218 -0.131074516 -3.809898344\\nH 2.440815079 1.252898971 -3.014167775\\nC 3.076668722 0.493880901 -3.203553139\\nH 4.264527121 -0.980780666 -2.00268014\\nC 3.580676155 -0.161471562 -1.724405448\\nH 1.628457964 -0.736397258 -1.367043529\\nN 2.57190077 -0.783326131 -0.9493621499999999\\nC 2.857912174 -1.352374549 0.206830486\\nO 3.972204404 -1.408296629 0.70106856\\nH -0.238001799 -1.945593403 -1.178704356\\nH 1.378722194 -2.243016848 -1.872851729\\nC 0.558546889 -2.697300228 -1.294497844\\nH 1.984324861 -2.328203829 1.904391324\\nC 1.651511825 -1.966759916 0.916439769\\nH 1.852293738 -3.921602724 -0.038143446\\nH 0.242977841 -3.606211767 0.662576107\\nC 1.073504377 -3.152829252 0.096625834\\nC 0.002633416 -3.871380626 -2.058491757\\nO 0.507441784 -4.283068248 -3.090607002\\nH -1.347580901 -5.171622276 -2.09415004\\nO -1.080788324 -4.446232777 -1.542012654\\n\");\n\tviewer_15687885570423644.setStyle({\"model\": -1},{\"sphere\": {\"color\": \"#5A5712\", \"scale\": 0.15}});\n\tviewer_15687885570423644.addModel(\"10 angstroem\\n\\nH -0.099562609 4.474360735 2.867665333\\nO 0.488726727 3.985212419 2.304750171\\nH 3.811205871 4.187642335 2.059833568\\nH 2.66931027 3.993980008 0.703756011\\nC 3.304072658 3.446583152 1.420040266\\nH 1.878816707 1.801413274 1.676936134\\nH 3.033390431 1.980750298 3.025600472\\nC 2.412431108 2.533728039 2.302980741\\nC 1.395329548 3.357637309 3.049887161\\nO 1.392583175 3.4544289790000002 4.266523465\\n\");\n\tviewer_15687885570423644.setStyle({\"model\": -1},{\"sphere\": {\"color\": \"#73C9FC\", \"scale\": 0.15}});\n\tviewer_15687885570423644.zoomTo();\nviewer_15687885570423644.render();\n});\n</script>",
      "text/html": [
       "<div id=\"3dmolviewer_15687885570423644\"  style=\"position: relative; width: 600px; height: 400px\">\n",
       "        <p id=\"3dmolwarning_15687885570423644\" style=\"background-color:#ffcccc;color:black\">You appear to be running in JupyterLab (or JavaScript failed to load for some other reason).  You need to install the 3dmol extension: <br>\n",
       "        <tt>jupyter labextension install jupyterlab_3dmol</tt></p>\n",
       "        </div>\n",
       "<script>\n",
       "\n",
       "var loadScriptAsync = function(uri){\n",
       "  return new Promise((resolve, reject) => {\n",
       "    var tag = document.createElement('script');\n",
       "    tag.src = uri;\n",
       "    tag.async = true;\n",
       "    tag.onload = () => {\n",
       "      resolve();\n",
       "    };\n",
       "  var firstScriptTag = document.getElementsByTagName('script')[0];\n",
       "  firstScriptTag.parentNode.insertBefore(tag, firstScriptTag);\n",
       "});\n",
       "};\n",
       "\n",
       "if(typeof $3Dmolpromise === 'undefined') {\n",
       "$3Dmolpromise = null;\n",
       "  $3Dmolpromise = loadScriptAsync('https://3dmol.csb.pitt.edu/build/3Dmol.js');\n",
       "}\n",
       "\n",
       "var viewer_15687885570423644 = null;\n",
       "var warn = document.getElementById(\"3dmolwarning_15687885570423644\");\n",
       "if(warn) {\n",
       "    warn.parentNode.removeChild(warn);\n",
       "}\n",
       "$3Dmolpromise.then(function() {\n",
       "viewer_15687885570423644 = $3Dmol.createViewer($(\"#3dmolviewer_15687885570423644\"),{backgroundColor:\"white\"});\n",
       "\tviewer_15687885570423644.addModel(\"106 angstroem\\n\\nH -4.040882796 -1.353625964 1.8174001969999998\\nC -4.319657356 -1.573012303 0.772599319\\nH -4.836746619 0.391563102 0.162193523\\nH -6.160140498 -0.847134332 0.177814384\\nN -5.183010526 -0.545903872 0.321570078\\nH -4.612177134 -3.329140227 -1.409446975\\nH -6.180577606 -2.528665047 -1.120557388\\nC -5.486756474 -3.29490776 -0.74049761\\nH -4.367299289 -3.735878955 1.077051261\\nH -5.926074594999999 -2.917715769 1.362017134\\nC -5.041406092 -2.946842145 0.704641262\\nC -6.185323924000001 -4.630005907 -0.767100653\\nO -5.732648641 -5.59755535 -1.357450744\\nH -7.691343755 -5.579748582 -0.179842884\\nO -7.336165399 -4.702178787 -0.102748862\\nH -2.451865704 2.710008015 0.443850865\\nH -3.613360859 1.929592065 -0.663387909\\nC -2.993047092 2.8263687719999995 -0.508586544\\nH -0.355260442 1.916654114 -2.65718323\\nC -1.036922521 1.769543494 -1.8021102680000003\\nH -1.392037803 3.906538602 -1.519094475\\nH -2.542766466 3.108874023 -2.623599687\\nC -1.987148381 2.992134694 -1.678459372\\nC -3.89936303 4.027297827 -0.421683758\\nO -3.89553985 4.786435363 0.533970809\\nH -5.237336385 5.000265838 -1.303805698\\nO -4.714110793 4.222201294 -1.455708442\\nH 6.586106906 -0.909657653 1.692826432\\nC 6.767304924 -0.304189027 2.588254243\\nO 7.868246311 -0.05884107 3.053853781\\nH 5.137744044 -1.403123507 4.874093316\\nH 3.813845872 -0.544742801 4.650457508\\nH 4.262951664 -1.607543301 3.539798146\\nC 4.621985645 -0.903755404 4.165946929\\nH 5.854996061 0.961097144 3.993492399\\nC 5.49696044 0.225175324 3.254177903\\nH 3.742287394 0.737496569 2.290823134\\nN 4.744329083 0.985272694 2.326373492\\nC 5.319045605 1.913344551 1.584225537\\nO 6.502790098 2.206751478 1.625542302\\nH 4.960083864 3.312503911 -0.000264896\\nC 4.364187336 2.630814986 0.630339603\\nH 2.702326636 1.809352684 -0.281507338\\nN 3.726108732 1.692225529 -0.215629266\\nC 4.421839221 0.762724694 -0.843631911\\nO 5.631738041 0.62447468 -0.76564302\\nH -2.786179466 0.7571864479999999 -2.230221813\\nN -1.786291324 0.591069328 -2.033200808\\nC -1.212829577 -0.596972908 -1.987404429\\nO -0.031147254 -0.79307386 -1.754548698\\nH -1.58741947 -2.662777448 -1.996615935\\nC -2.161574563 -1.761906549 -2.270721587\\nH -1.800737088 -2.08044335 -4.54511163\\nH -3.15157652 -2.795796412 -4.094512468\\nH -3.1038216 -1.1991394760000003 -4.209452584\\nC -2.569942678 -1.99576886 -3.898582802\\nH -4.173226491 -1.832603921 -1.804179662\\nN -3.245688583 -1.7361906370000002 -1.360195102\\nC -3.040839404 -1.588902902 -0.064531883\\nO -1.945400394 -1.474924712 0.460889922\\nH -0.294238185 -1.276970067 0.837111303\\nN 0.654330431 -0.982874182 1.119801349\\nC 0.959290649 0.196696863 1.6277496259999997\\nO 2.080370651 0.54406136 1.961767624\\nH 0.210462453 2.117547567 2.024662387\\nC -0.235646954 1.136307888 1.791185524\\nH -0.809124304 0.737672285 4.008556226\\nH -2.010546281 1.457086231 3.2479212360000003\\nH -1.69645963 -0.084468233 2.948313919\\nC -1.252943626 0.807043101 3.105750249\\nH -1.905176318 1.202730025 0.575593995\\nN -0.879775858 1.322307378 0.543978588\\nC -0.186893023 1.612158125 -0.541516673\\nO 1.024539381 1.753616075 -0.5798168560000001\\nH 3.799291845 0.880692516 -3.790953454\\nH 2.568233218 -0.131074516 -3.809898344\\nH 2.440815079 1.252898971 -3.014167775\\nC 3.076668722 0.493880901 -3.203553139\\nH 4.264527121 -0.980780666 -2.00268014\\nC 3.580676155 -0.161471562 -1.724405448\\nH 1.628457964 -0.736397258 -1.367043529\\nN 2.57190077 -0.783326131 -0.9493621499999999\\nC 2.857912174 -1.352374549 0.206830486\\nO 3.972204404 -1.408296629 0.70106856\\nH -0.238001799 -1.945593403 -1.178704356\\nH 1.378722194 -2.243016848 -1.872851729\\nC 0.558546889 -2.697300228 -1.294497844\\nH 1.984324861 -2.328203829 1.904391324\\nC 1.651511825 -1.966759916 0.916439769\\nH 1.852293738 -3.921602724 -0.038143446\\nH 0.242977841 -3.606211767 0.662576107\\nC 1.073504377 -3.152829252 0.096625834\\nC 0.002633416 -3.871380626 -2.058491757\\nO 0.507441784 -4.283068248 -3.090607002\\nH -1.347580901 -5.171622276 -2.09415004\\nO -1.080788324 -4.446232777 -1.542012654\\nH -0.099562609 4.474360735 2.867665333\\nO 0.488726727 3.985212419 2.304750171\\nH 3.811205871 4.187642335 2.059833568\\nH 2.66931027 3.993980008 0.703756011\\nC 3.304072658 3.446583152 1.420040266\\nH 1.878816707 1.801413274 1.676936134\\nH 3.033390431 1.980750298 3.025600472\\nC 2.412431108 2.533728039 2.302980741\\nC 1.395329548 3.357637309 3.049887161\\nO 1.392583175 3.4544289790000002 4.266523465\\n\");\n",
       "\tviewer_15687885570423644.setStyle({\"model\": -1},{\"line\": {\"color\": \"black\"}});\n",
       "\tviewer_15687885570423644.addModel(\"15 angstroem\\n\\nH -4.040882796 -1.353625964 1.8174001969999998\\nC -4.319657356 -1.573012303 0.772599319\\nH -4.836746619 0.391563102 0.162193523\\nH -6.160140498 -0.847134332 0.177814384\\nN -5.183010526 -0.545903872 0.321570078\\nH -4.612177134 -3.329140227 -1.409446975\\nH -6.180577606 -2.528665047 -1.120557388\\nC -5.486756474 -3.29490776 -0.74049761\\nH -4.367299289 -3.735878955 1.077051261\\nH -5.926074594999999 -2.917715769 1.362017134\\nC -5.041406092 -2.946842145 0.704641262\\nC -6.185323924000001 -4.630005907 -0.767100653\\nO -5.732648641 -5.59755535 -1.357450744\\nH -7.691343755 -5.579748582 -0.179842884\\nO -7.336165399 -4.702178787 -0.102748862\\n\");\n",
       "\tviewer_15687885570423644.setStyle({\"model\": -1},{\"sphere\": {\"color\": \"#1A30DB\", \"scale\": 0.15}});\n",
       "\tviewer_15687885570423644.addModel(\"12 angstroem\\n\\nH -2.451865704 2.710008015 0.443850865\\nH -3.613360859 1.929592065 -0.663387909\\nC -2.993047092 2.8263687719999995 -0.508586544\\nH -0.355260442 1.916654114 -2.65718323\\nC -1.036922521 1.769543494 -1.8021102680000003\\nH -1.392037803 3.906538602 -1.519094475\\nH -2.542766466 3.108874023 -2.623599687\\nC -1.987148381 2.992134694 -1.678459372\\nC -3.89936303 4.027297827 -0.421683758\\nO -3.89553985 4.786435363 0.533970809\\nH -5.237336385 5.000265838 -1.303805698\\nO -4.714110793 4.222201294 -1.455708442\\n\");\n",
       "\tviewer_15687885570423644.setStyle({\"model\": -1},{\"sphere\": {\"color\": \"#C52873\", \"scale\": 0.15}});\n",
       "\tviewer_15687885570423644.addModel(\"19 angstroem\\n\\nH 6.586106906 -0.909657653 1.692826432\\nC 6.767304924 -0.304189027 2.588254243\\nO 7.868246311 -0.05884107 3.053853781\\nH 5.137744044 -1.403123507 4.874093316\\nH 3.813845872 -0.544742801 4.650457508\\nH 4.262951664 -1.607543301 3.539798146\\nC 4.621985645 -0.903755404 4.165946929\\nH 5.854996061 0.961097144 3.993492399\\nC 5.49696044 0.225175324 3.254177903\\nH 3.742287394 0.737496569 2.290823134\\nN 4.744329083 0.985272694 2.326373492\\nC 5.319045605 1.913344551 1.584225537\\nO 6.502790098 2.206751478 1.625542302\\nH 4.960083864 3.312503911 -0.000264896\\nC 4.364187336 2.630814986 0.630339603\\nH 2.702326636 1.809352684 -0.281507338\\nN 3.726108732 1.692225529 -0.215629266\\nC 4.421839221 0.762724694 -0.843631911\\nO 5.631738041 0.62447468 -0.76564302\\n\");\n",
       "\tviewer_15687885570423644.setStyle({\"model\": -1},{\"sphere\": {\"color\": \"#CA3F2A\", \"scale\": 0.15}});\n",
       "\tviewer_15687885570423644.addModel(\"14 angstroem\\n\\nH -2.786179466 0.7571864479999999 -2.230221813\\nN -1.786291324 0.591069328 -2.033200808\\nC -1.212829577 -0.596972908 -1.987404429\\nO -0.031147254 -0.79307386 -1.754548698\\nH -1.58741947 -2.662777448 -1.996615935\\nC -2.161574563 -1.761906549 -2.270721587\\nH -1.800737088 -2.08044335 -4.54511163\\nH -3.15157652 -2.795796412 -4.094512468\\nH -3.1038216 -1.1991394760000003 -4.209452584\\nC -2.569942678 -1.99576886 -3.898582802\\nH -4.173226491 -1.832603921 -1.804179662\\nN -3.245688583 -1.7361906370000002 -1.360195102\\nC -3.040839404 -1.588902902 -0.064531883\\nO -1.945400394 -1.474924712 0.460889922\\n\");\n",
       "\tviewer_15687885570423644.setStyle({\"model\": -1},{\"sphere\": {\"color\": \"#92DA8E\", \"scale\": 0.15}});\n",
       "\tviewer_15687885570423644.addModel(\"14 angstroem\\n\\nH -0.294238185 -1.276970067 0.837111303\\nN 0.654330431 -0.982874182 1.119801349\\nC 0.959290649 0.196696863 1.6277496259999997\\nO 2.080370651 0.54406136 1.961767624\\nH 0.210462453 2.117547567 2.024662387\\nC -0.235646954 1.136307888 1.791185524\\nH -0.809124304 0.737672285 4.008556226\\nH -2.010546281 1.457086231 3.2479212360000003\\nH -1.69645963 -0.084468233 2.948313919\\nC -1.252943626 0.807043101 3.105750249\\nH -1.905176318 1.202730025 0.575593995\\nN -0.879775858 1.322307378 0.543978588\\nC -0.186893023 1.612158125 -0.541516673\\nO 1.024539381 1.753616075 -0.5798168560000001\\n\");\n",
       "\tviewer_15687885570423644.setStyle({\"model\": -1},{\"sphere\": {\"color\": \"#410533\", \"scale\": 0.15}});\n",
       "\tviewer_15687885570423644.addModel(\"22 angstroem\\n\\nH 3.799291845 0.880692516 -3.790953454\\nH 2.568233218 -0.131074516 -3.809898344\\nH 2.440815079 1.252898971 -3.014167775\\nC 3.076668722 0.493880901 -3.203553139\\nH 4.264527121 -0.980780666 -2.00268014\\nC 3.580676155 -0.161471562 -1.724405448\\nH 1.628457964 -0.736397258 -1.367043529\\nN 2.57190077 -0.783326131 -0.9493621499999999\\nC 2.857912174 -1.352374549 0.206830486\\nO 3.972204404 -1.408296629 0.70106856\\nH -0.238001799 -1.945593403 -1.178704356\\nH 1.378722194 -2.243016848 -1.872851729\\nC 0.558546889 -2.697300228 -1.294497844\\nH 1.984324861 -2.328203829 1.904391324\\nC 1.651511825 -1.966759916 0.916439769\\nH 1.852293738 -3.921602724 -0.038143446\\nH 0.242977841 -3.606211767 0.662576107\\nC 1.073504377 -3.152829252 0.096625834\\nC 0.002633416 -3.871380626 -2.058491757\\nO 0.507441784 -4.283068248 -3.090607002\\nH -1.347580901 -5.171622276 -2.09415004\\nO -1.080788324 -4.446232777 -1.542012654\\n\");\n",
       "\tviewer_15687885570423644.setStyle({\"model\": -1},{\"sphere\": {\"color\": \"#5A5712\", \"scale\": 0.15}});\n",
       "\tviewer_15687885570423644.addModel(\"10 angstroem\\n\\nH -0.099562609 4.474360735 2.867665333\\nO 0.488726727 3.985212419 2.304750171\\nH 3.811205871 4.187642335 2.059833568\\nH 2.66931027 3.993980008 0.703756011\\nC 3.304072658 3.446583152 1.420040266\\nH 1.878816707 1.801413274 1.676936134\\nH 3.033390431 1.980750298 3.025600472\\nC 2.412431108 2.533728039 2.302980741\\nC 1.395329548 3.357637309 3.049887161\\nO 1.392583175 3.4544289790000002 4.266523465\\n\");\n",
       "\tviewer_15687885570423644.setStyle({\"model\": -1},{\"sphere\": {\"color\": \"#73C9FC\", \"scale\": 0.15}});\n",
       "\tviewer_15687885570423644.zoomTo();\n",
       "viewer_15687885570423644.render();\n",
       "});\n",
       "</script>"
      ]
     },
     "metadata": {},
     "output_type": "display_data"
    }
   ],
   "source": [
    "display_molecule(resys)"
   ]
  },
  {
   "cell_type": "markdown",
   "metadata": {},
   "source": [
    "## Complexity Reduction 2: Examining Fragment Interactions\n",
    "Next we will look at these fragments, and try to quantify their interactions. This can be done by computing the fragment bond order."
   ]
  },
  {
   "cell_type": "code",
   "execution_count": 62,
   "metadata": {
    "collapsed": true,
    "jupyter": {
     "outputs_hidden": true
    }
   },
   "outputs": [],
   "source": [
    "bond_order = btool.fragment_bond_order(resys, resys.keys(), resys.keys(), log)"
   ]
  },
  {
   "cell_type": "code",
   "execution_count": 63,
   "metadata": {
    "collapsed": true,
    "jupyter": {
     "outputs_hidden": true
    }
   },
   "outputs": [
    {
     "data": {
      "text/html": [
       "<div>\n",
       "<table border=\"1\" class=\"dataframe\">\n",
       "  <thead>\n",
       "    <tr style=\"text-align: right;\">\n",
       "      <th></th>\n",
       "      <th>Fragid</th>\n",
       "      <th>FRAG:4</th>\n",
       "      <th>FRAG:0</th>\n",
       "      <th>FRAG:6</th>\n",
       "      <th>FRAG:5</th>\n",
       "      <th>FRAG:3</th>\n",
       "      <th>FRAG:1</th>\n",
       "      <th>FRAG:2</th>\n",
       "    </tr>\n",
       "  </thead>\n",
       "  <tbody>\n",
       "    <tr>\n",
       "      <th>0</th>\n",
       "      <td>FRAG:4</td>\n",
       "      <td>80.876449</td>\n",
       "      <td>0.015174</td>\n",
       "      <td>0.000001</td>\n",
       "      <td>1.111904</td>\n",
       "      <td>0.002955</td>\n",
       "      <td>0.000661</td>\n",
       "      <td>0.000028</td>\n",
       "    </tr>\n",
       "    <tr>\n",
       "      <th>1</th>\n",
       "      <td>FRAG:0</td>\n",
       "      <td>0.011452</td>\n",
       "      <td>65.589385</td>\n",
       "      <td>0.001004</td>\n",
       "      <td>1.040658</td>\n",
       "      <td>1.072517</td>\n",
       "      <td>0.004205</td>\n",
       "      <td>0.000397</td>\n",
       "    </tr>\n",
       "    <tr>\n",
       "      <th>2</th>\n",
       "      <td>FRAG:6</td>\n",
       "      <td>0.000001</td>\n",
       "      <td>0.002143</td>\n",
       "      <td>117.869087</td>\n",
       "      <td>0.000686</td>\n",
       "      <td>0.211221</td>\n",
       "      <td>1.182292</td>\n",
       "      <td>1.167008</td>\n",
       "    </tr>\n",
       "    <tr>\n",
       "      <th>3</th>\n",
       "      <td>FRAG:5</td>\n",
       "      <td>1.266254</td>\n",
       "      <td>1.106853</td>\n",
       "      <td>0.000460</td>\n",
       "      <td>85.533846</td>\n",
       "      <td>0.141419</td>\n",
       "      <td>0.512742</td>\n",
       "      <td>0.000567</td>\n",
       "    </tr>\n",
       "    <tr>\n",
       "      <th>4</th>\n",
       "      <td>FRAG:3</td>\n",
       "      <td>0.004392</td>\n",
       "      <td>1.170115</td>\n",
       "      <td>0.129026</td>\n",
       "      <td>0.232854</td>\n",
       "      <td>85.357447</td>\n",
       "      <td>1.164364</td>\n",
       "      <td>0.494336</td>\n",
       "    </tr>\n",
       "    <tr>\n",
       "      <th>5</th>\n",
       "      <td>FRAG:1</td>\n",
       "      <td>0.000981</td>\n",
       "      <td>0.003105</td>\n",
       "      <td>1.084925</td>\n",
       "      <td>0.492695</td>\n",
       "      <td>1.140992</td>\n",
       "      <td>121.492963</td>\n",
       "      <td>0.008970</td>\n",
       "    </tr>\n",
       "    <tr>\n",
       "      <th>6</th>\n",
       "      <td>FRAG:2</td>\n",
       "      <td>0.000020</td>\n",
       "      <td>0.000610</td>\n",
       "      <td>1.159425</td>\n",
       "      <td>0.000632</td>\n",
       "      <td>0.431328</td>\n",
       "      <td>0.007821</td>\n",
       "      <td>56.710236</td>\n",
       "    </tr>\n",
       "  </tbody>\n",
       "</table>\n",
       "</div>"
      ],
      "text/plain": [
       "   Fragid     FRAG:4     FRAG:0      FRAG:6     FRAG:5     FRAG:3      FRAG:1  \\\n",
       "0  FRAG:4  80.876449   0.015174    0.000001   1.111904   0.002955    0.000661   \n",
       "1  FRAG:0   0.011452  65.589385    0.001004   1.040658   1.072517    0.004205   \n",
       "2  FRAG:6   0.000001   0.002143  117.869087   0.000686   0.211221    1.182292   \n",
       "3  FRAG:5   1.266254   1.106853    0.000460  85.533846   0.141419    0.512742   \n",
       "4  FRAG:3   0.004392   1.170115    0.129026   0.232854  85.357447    1.164364   \n",
       "5  FRAG:1   0.000981   0.003105    1.084925   0.492695   1.140992  121.492963   \n",
       "6  FRAG:2   0.000020   0.000610    1.159425   0.000632   0.431328    0.007821   \n",
       "\n",
       "      FRAG:2  \n",
       "0   0.000028  \n",
       "1   0.000397  \n",
       "2   1.167008  \n",
       "3   0.000567  \n",
       "4   0.494336  \n",
       "5   0.008970  \n",
       "6  56.710236  "
      ]
     },
     "metadata": {},
     "output_type": "display_data"
    }
   ],
   "source": [
    "from pandas import DataFrame\n",
    "\n",
    "df = []\n",
    "for fragid, vals in bond_order.items():\n",
    "    df.append([fragid] + list(vals.values()))\n",
    "display(DataFrame(df, columns=[\"Fragid\"] + list(bond_order.keys())))"
   ]
  },
  {
   "cell_type": "markdown",
   "metadata": {},
   "source": [
    "Unsurprisngly, each fragment has a strong interaction with itself. One interesting thing we see here is that each fragment has a different interaction strength with each different fragment. For some the interaction is strong, for others it is weak. We can use this information to generate qm/mm calculations. We will investigate this in regards to trying to reproduce a specific observable: the fragment dipole."
   ]
  },
  {
   "cell_type": "code",
   "execution_count": 64,
   "metadata": {
    "collapsed": true,
    "jupyter": {
     "outputs_hidden": true
    }
   },
   "outputs": [],
   "source": [
    "for fragid in resys:\n",
    "    resys.set_atom_multipoles(log)"
   ]
  },
  {
   "cell_type": "code",
   "execution_count": 65,
   "metadata": {
    "collapsed": true,
    "jupyter": {
     "outputs_hidden": true
    }
   },
   "outputs": [
    {
     "data": {
      "text/html": [
       "<div>\n",
       "<table border=\"1\" class=\"dataframe\">\n",
       "  <thead>\n",
       "    <tr style=\"text-align: right;\">\n",
       "      <th></th>\n",
       "      <th>Fragid</th>\n",
       "      <th>Dipole X</th>\n",
       "      <th>Dipole Y</th>\n",
       "      <th>Dipole Z</th>\n",
       "    </tr>\n",
       "  </thead>\n",
       "  <tbody>\n",
       "    <tr>\n",
       "      <th>0</th>\n",
       "      <td>FRAG:4</td>\n",
       "      <td>-0.243405</td>\n",
       "      <td>0.682638</td>\n",
       "      <td>0.618832</td>\n",
       "    </tr>\n",
       "    <tr>\n",
       "      <th>1</th>\n",
       "      <td>FRAG:0</td>\n",
       "      <td>0.804028</td>\n",
       "      <td>-0.736672</td>\n",
       "      <td>-1.041283</td>\n",
       "    </tr>\n",
       "    <tr>\n",
       "      <th>2</th>\n",
       "      <td>FRAG:6</td>\n",
       "      <td>-3.976115</td>\n",
       "      <td>-0.579716</td>\n",
       "      <td>0.469371</td>\n",
       "    </tr>\n",
       "    <tr>\n",
       "      <th>3</th>\n",
       "      <td>FRAG:5</td>\n",
       "      <td>-2.753171</td>\n",
       "      <td>-0.513823</td>\n",
       "      <td>-2.102887</td>\n",
       "    </tr>\n",
       "    <tr>\n",
       "      <th>4</th>\n",
       "      <td>FRAG:3</td>\n",
       "      <td>-3.362412</td>\n",
       "      <td>-0.504306</td>\n",
       "      <td>0.602730</td>\n",
       "    </tr>\n",
       "    <tr>\n",
       "      <th>5</th>\n",
       "      <td>FRAG:1</td>\n",
       "      <td>-1.660528</td>\n",
       "      <td>0.723981</td>\n",
       "      <td>0.002910</td>\n",
       "    </tr>\n",
       "    <tr>\n",
       "      <th>6</th>\n",
       "      <td>FRAG:2</td>\n",
       "      <td>0.069613</td>\n",
       "      <td>-0.179016</td>\n",
       "      <td>-0.988873</td>\n",
       "    </tr>\n",
       "  </tbody>\n",
       "</table>\n",
       "</div>"
      ],
      "text/plain": [
       "   Fragid  Dipole X  Dipole Y  Dipole Z\n",
       "0  FRAG:4 -0.243405  0.682638  0.618832\n",
       "1  FRAG:0  0.804028 -0.736672 -1.041283\n",
       "2  FRAG:6 -3.976115 -0.579716  0.469371\n",
       "3  FRAG:5 -2.753171 -0.513823 -2.102887\n",
       "4  FRAG:3 -3.362412 -0.504306  0.602730\n",
       "5  FRAG:1 -1.660528  0.723981  0.002910\n",
       "6  FRAG:2  0.069613 -0.179016 -0.988873"
      ]
     },
     "metadata": {},
     "output_type": "display_data"
    }
   ],
   "source": [
    "df = []\n",
    "mps = {}\n",
    "for fragid, frag in resys.items():\n",
    "    mps[fragid] = frag.d0()\n",
    "    df.append([fragid] + [x for x in mps[fragid]])\n",
    "display(DataFrame(df,columns=[\"Fragid\", \"Dipole X\", \"Dipole Y\", \"Dipole Z\"]))"
   ]
  },
  {
   "cell_type": "markdown",
   "metadata": {},
   "source": [
    "Let's narrow in on the fragment with the largest dipole for this study. "
   ]
  },
  {
   "cell_type": "code",
   "execution_count": 66,
   "metadata": {
    "collapsed": true,
    "jupyter": {
     "outputs_hidden": true
    }
   },
   "outputs": [],
   "source": [
    "target = max(mps, key=lambda x: [mps[x][0]**2 + mps[x][1]**2 + mps[x][2]**2])"
   ]
  },
  {
   "cell_type": "markdown",
   "metadata": {},
   "source": [
    "We will now use the generate qm/mm feature of the bigdft tool to generate different qm/mm regions for study. Note that in a study involving significant inter-fragment charge transfer, you might need to give a fragment a net background charge."
   ]
  },
  {
   "cell_type": "code",
   "execution_count": 67,
   "metadata": {
    "collapsed": true,
    "jupyter": {
     "outputs_hidden": true
    }
   },
   "outputs": [
    {
     "data": {
      "text/html": [
       "<div>\n",
       "<table border=\"1\" class=\"dataframe\">\n",
       "  <thead>\n",
       "    <tr style=\"text-align: right;\">\n",
       "      <th></th>\n",
       "      <th>Cutoff</th>\n",
       "      <th>QM Region Size</th>\n",
       "    </tr>\n",
       "  </thead>\n",
       "  <tbody>\n",
       "    <tr>\n",
       "      <th>0</th>\n",
       "      <td>100.0</td>\n",
       "      <td>19</td>\n",
       "    </tr>\n",
       "    <tr>\n",
       "      <th>1</th>\n",
       "      <td>1.0</td>\n",
       "      <td>51</td>\n",
       "    </tr>\n",
       "    <tr>\n",
       "      <th>2</th>\n",
       "      <td>0.1</td>\n",
       "      <td>65</td>\n",
       "    </tr>\n",
       "  </tbody>\n",
       "</table>\n",
       "</div>"
      ],
      "text/plain": [
       "   Cutoff  QM Region Size\n",
       "0   100.0              19\n",
       "1     1.0              51\n",
       "2     0.1              65"
      ]
     },
     "metadata": {},
     "output_type": "display_data"
    }
   ],
   "source": [
    "qmmmsys = {}\n",
    "charges = {}\n",
    "df = []\n",
    "\n",
    "cutoffs = [100, 1, 0.1]\n",
    "\n",
    "for cut in cutoffs:\n",
    "    qmmmsys[cut], mm = btool.create_qmmm_system(resys, log, target, cut)\n",
    "    size = sum([len(x) for x in qmmmsys[cut].values()])\n",
    "    df.append([cut, size])\n",
    "    \n",
    "display(DataFrame(df, columns=[\"Cutoff\", \"QM Region Size\"]))"
   ]
  },
  {
   "cell_type": "markdown",
   "metadata": {},
   "source": [
    "We can use the following subroutine to visualize this qm/mm setup. The target region is in yellow, the buffer region in blue, and the excluded atoms in black."
   ]
  },
  {
   "cell_type": "code",
   "execution_count": 68,
   "metadata": {
    "collapsed": true,
    "jupyter": {
     "outputs_hidden": true
    }
   },
   "outputs": [],
   "source": [
    "def display_qmmm(sys, target, buffer):    \n",
    "    import py3Dmol\n",
    "        \n",
    "    xyzview = py3Dmol.view(width=600,height=400)\n",
    "    \n",
    "    # To use py3Dmol, we need an XYZ file in string form.  First, the whole system.  \n",
    "    outstr = str(sum(len(sys[x]) for x in sys)) + \" angstroem\"\n",
    "    outstr += \"\\n\\n\"\n",
    "    for frag in sys.values():\n",
    "        for at in frag:\n",
    "            outstr += at.sym + \" \" + \" \".join([str(x) for x in at.get_position(\"angstroem\")])\n",
    "            outstr += \"\\n\"\n",
    "    xyzview.addModel(outstr)\n",
    "    xyzview.setStyle({'model': -1}, {'line':{'color': 'black'}})\n",
    "    \n",
    "    # Now each fragment\n",
    "    for fragid, frag in sys.items():\n",
    "        outstr = str(len(frag)) + \" angstroem\\n\\n\"\n",
    "        for at in frag:\n",
    "            outstr += at.sym + \" \" + \" \".join([str(x) for x in at.get_position(\"angstroem\")])\n",
    "            outstr += \"\\n\"\n",
    "        xyzview.addModel(outstr)\n",
    "        if fragid == target:\n",
    "            color = 'yellow'\n",
    "        elif fragid in buffer:\n",
    "            color = 'blue'\n",
    "        else:\n",
    "            color = 'black'\n",
    "        xyzview.setStyle({'model': -1}, {'sphere':{'scale':0.15, 'color': color}})\n",
    "            \n",
    "    # Now we can draw the plot\n",
    "    xyzview.zoomTo()\n",
    "    xyzview.show()"
   ]
  },
  {
   "cell_type": "code",
   "execution_count": 69,
   "metadata": {
    "collapsed": true,
    "jupyter": {
     "outputs_hidden": true
    }
   },
   "outputs": [
    {
     "data": {
      "application/3dmoljs_load.v0": "<div id=\"3dmolviewer_1568788558038259\"  style=\"position: relative; width: 600px; height: 400px\">\n        <p id=\"3dmolwarning_1568788558038259\" style=\"background-color:#ffcccc;color:black\">You appear to be running in JupyterLab (or JavaScript failed to load for some other reason).  You need to install the 3dmol extension: <br>\n        <tt>jupyter labextension install jupyterlab_3dmol</tt></p>\n        </div>\n<script>\n\nvar loadScriptAsync = function(uri){\n  return new Promise((resolve, reject) => {\n    var tag = document.createElement('script');\n    tag.src = uri;\n    tag.async = true;\n    tag.onload = () => {\n      resolve();\n    };\n  var firstScriptTag = document.getElementsByTagName('script')[0];\n  firstScriptTag.parentNode.insertBefore(tag, firstScriptTag);\n});\n};\n\nif(typeof $3Dmolpromise === 'undefined') {\n$3Dmolpromise = null;\n  $3Dmolpromise = loadScriptAsync('https://3dmol.csb.pitt.edu/build/3Dmol.js');\n}\n\nvar viewer_1568788558038259 = null;\nvar warn = document.getElementById(\"3dmolwarning_1568788558038259\");\nif(warn) {\n    warn.parentNode.removeChild(warn);\n}\n$3Dmolpromise.then(function() {\nviewer_1568788558038259 = $3Dmol.createViewer($(\"#3dmolviewer_1568788558038259\"),{backgroundColor:\"white\"});\n\tviewer_1568788558038259.addModel(\"106 angstroem\\n\\nH -4.040882796 -1.353625964 1.8174001969999998\\nC -4.319657356 -1.573012303 0.772599319\\nH -4.836746619 0.391563102 0.162193523\\nH -6.160140498 -0.847134332 0.177814384\\nN -5.183010526 -0.545903872 0.321570078\\nH -4.612177134 -3.329140227 -1.409446975\\nH -6.180577606 -2.528665047 -1.120557388\\nC -5.486756474 -3.29490776 -0.74049761\\nH -4.367299289 -3.735878955 1.077051261\\nH -5.926074594999999 -2.917715769 1.362017134\\nC -5.041406092 -2.946842145 0.704641262\\nC -6.185323924000001 -4.630005907 -0.767100653\\nO -5.732648641 -5.59755535 -1.357450744\\nH -7.691343755 -5.579748582 -0.179842884\\nO -7.336165399 -4.702178787 -0.102748862\\nH -2.451865704 2.710008015 0.443850865\\nH -3.613360859 1.929592065 -0.663387909\\nC -2.993047092 2.8263687719999995 -0.508586544\\nH -0.355260442 1.916654114 -2.65718323\\nC -1.036922521 1.769543494 -1.8021102680000003\\nH -1.392037803 3.906538602 -1.519094475\\nH -2.542766466 3.108874023 -2.623599687\\nC -1.987148381 2.992134694 -1.678459372\\nC -3.89936303 4.027297827 -0.421683758\\nO -3.89553985 4.786435363 0.533970809\\nH -5.237336385 5.000265838 -1.303805698\\nO -4.714110793 4.222201294 -1.455708442\\nH 6.586106906 -0.909657653 1.692826432\\nC 6.767304924 -0.304189027 2.588254243\\nO 7.868246311 -0.05884107 3.053853781\\nH 5.137744044 -1.403123507 4.874093316\\nH 3.813845872 -0.544742801 4.650457508\\nH 4.262951664 -1.607543301 3.539798146\\nC 4.621985645 -0.903755404 4.165946929\\nH 5.854996061 0.961097144 3.993492399\\nC 5.49696044 0.225175324 3.254177903\\nH 3.742287394 0.737496569 2.290823134\\nN 4.744329083 0.985272694 2.326373492\\nC 5.319045605 1.913344551 1.584225537\\nO 6.502790098 2.206751478 1.625542302\\nH 4.960083864 3.312503911 -0.000264896\\nC 4.364187336 2.630814986 0.630339603\\nH 2.702326636 1.809352684 -0.281507338\\nN 3.726108732 1.692225529 -0.215629266\\nC 4.421839221 0.762724694 -0.843631911\\nO 5.631738041 0.62447468 -0.76564302\\nH -2.786179466 0.7571864479999999 -2.230221813\\nN -1.786291324 0.591069328 -2.033200808\\nC -1.212829577 -0.596972908 -1.987404429\\nO -0.031147254 -0.79307386 -1.754548698\\nH -1.58741947 -2.662777448 -1.996615935\\nC -2.161574563 -1.761906549 -2.270721587\\nH -1.800737088 -2.08044335 -4.54511163\\nH -3.15157652 -2.795796412 -4.094512468\\nH -3.1038216 -1.1991394760000003 -4.209452584\\nC -2.569942678 -1.99576886 -3.898582802\\nH -4.173226491 -1.832603921 -1.804179662\\nN -3.245688583 -1.7361906370000002 -1.360195102\\nC -3.040839404 -1.588902902 -0.064531883\\nO -1.945400394 -1.474924712 0.460889922\\nH -0.294238185 -1.276970067 0.837111303\\nN 0.654330431 -0.982874182 1.119801349\\nC 0.959290649 0.196696863 1.6277496259999997\\nO 2.080370651 0.54406136 1.961767624\\nH 0.210462453 2.117547567 2.024662387\\nC -0.235646954 1.136307888 1.791185524\\nH -0.809124304 0.737672285 4.008556226\\nH -2.010546281 1.457086231 3.2479212360000003\\nH -1.69645963 -0.084468233 2.948313919\\nC -1.252943626 0.807043101 3.105750249\\nH -1.905176318 1.202730025 0.575593995\\nN -0.879775858 1.322307378 0.543978588\\nC -0.186893023 1.612158125 -0.541516673\\nO 1.024539381 1.753616075 -0.5798168560000001\\nH 3.799291845 0.880692516 -3.790953454\\nH 2.568233218 -0.131074516 -3.809898344\\nH 2.440815079 1.252898971 -3.014167775\\nC 3.076668722 0.493880901 -3.203553139\\nH 4.264527121 -0.980780666 -2.00268014\\nC 3.580676155 -0.161471562 -1.724405448\\nH 1.628457964 -0.736397258 -1.367043529\\nN 2.57190077 -0.783326131 -0.9493621499999999\\nC 2.857912174 -1.352374549 0.206830486\\nO 3.972204404 -1.408296629 0.70106856\\nH -0.238001799 -1.945593403 -1.178704356\\nH 1.378722194 -2.243016848 -1.872851729\\nC 0.558546889 -2.697300228 -1.294497844\\nH 1.984324861 -2.328203829 1.904391324\\nC 1.651511825 -1.966759916 0.916439769\\nH 1.852293738 -3.921602724 -0.038143446\\nH 0.242977841 -3.606211767 0.662576107\\nC 1.073504377 -3.152829252 0.096625834\\nC 0.002633416 -3.871380626 -2.058491757\\nO 0.507441784 -4.283068248 -3.090607002\\nH -1.347580901 -5.171622276 -2.09415004\\nO -1.080788324 -4.446232777 -1.542012654\\nH -0.099562609 4.474360735 2.867665333\\nO 0.488726727 3.985212419 2.304750171\\nH 3.811205871 4.187642335 2.059833568\\nH 2.66931027 3.993980008 0.703756011\\nC 3.304072658 3.446583152 1.420040266\\nH 1.878816707 1.801413274 1.676936134\\nH 3.033390431 1.980750298 3.025600472\\nC 2.412431108 2.533728039 2.302980741\\nC 1.395329548 3.357637309 3.049887161\\nO 1.392583175 3.4544289790000002 4.266523465\\n\");\n\tviewer_1568788558038259.setStyle({\"model\": -1},{\"line\": {\"color\": \"black\"}});\n\tviewer_1568788558038259.addModel(\"15 angstroem\\n\\nH -4.040882796 -1.353625964 1.8174001969999998\\nC -4.319657356 -1.573012303 0.772599319\\nH -4.836746619 0.391563102 0.162193523\\nH -6.160140498 -0.847134332 0.177814384\\nN -5.183010526 -0.545903872 0.321570078\\nH -4.612177134 -3.329140227 -1.409446975\\nH -6.180577606 -2.528665047 -1.120557388\\nC -5.486756474 -3.29490776 -0.74049761\\nH -4.367299289 -3.735878955 1.077051261\\nH -5.926074594999999 -2.917715769 1.362017134\\nC -5.041406092 -2.946842145 0.704641262\\nC -6.185323924000001 -4.630005907 -0.767100653\\nO -5.732648641 -5.59755535 -1.357450744\\nH -7.691343755 -5.579748582 -0.179842884\\nO -7.336165399 -4.702178787 -0.102748862\\n\");\n\tviewer_1568788558038259.setStyle({\"model\": -1},{\"sphere\": {\"color\": \"black\", \"scale\": 0.15}});\n\tviewer_1568788558038259.addModel(\"12 angstroem\\n\\nH -2.451865704 2.710008015 0.443850865\\nH -3.613360859 1.929592065 -0.663387909\\nC -2.993047092 2.8263687719999995 -0.508586544\\nH -0.355260442 1.916654114 -2.65718323\\nC -1.036922521 1.769543494 -1.8021102680000003\\nH -1.392037803 3.906538602 -1.519094475\\nH -2.542766466 3.108874023 -2.623599687\\nC -1.987148381 2.992134694 -1.678459372\\nC -3.89936303 4.027297827 -0.421683758\\nO -3.89553985 4.786435363 0.533970809\\nH -5.237336385 5.000265838 -1.303805698\\nO -4.714110793 4.222201294 -1.455708442\\n\");\n\tviewer_1568788558038259.setStyle({\"model\": -1},{\"sphere\": {\"color\": \"black\", \"scale\": 0.15}});\n\tviewer_1568788558038259.addModel(\"19 angstroem\\n\\nH 6.586106906 -0.909657653 1.692826432\\nC 6.767304924 -0.304189027 2.588254243\\nO 7.868246311 -0.05884107 3.053853781\\nH 5.137744044 -1.403123507 4.874093316\\nH 3.813845872 -0.544742801 4.650457508\\nH 4.262951664 -1.607543301 3.539798146\\nC 4.621985645 -0.903755404 4.165946929\\nH 5.854996061 0.961097144 3.993492399\\nC 5.49696044 0.225175324 3.254177903\\nH 3.742287394 0.737496569 2.290823134\\nN 4.744329083 0.985272694 2.326373492\\nC 5.319045605 1.913344551 1.584225537\\nO 6.502790098 2.206751478 1.625542302\\nH 4.960083864 3.312503911 -0.000264896\\nC 4.364187336 2.630814986 0.630339603\\nH 2.702326636 1.809352684 -0.281507338\\nN 3.726108732 1.692225529 -0.215629266\\nC 4.421839221 0.762724694 -0.843631911\\nO 5.631738041 0.62447468 -0.76564302\\n\");\n\tviewer_1568788558038259.setStyle({\"model\": -1},{\"sphere\": {\"color\": \"yellow\", \"scale\": 0.15}});\n\tviewer_1568788558038259.addModel(\"14 angstroem\\n\\nH -2.786179466 0.7571864479999999 -2.230221813\\nN -1.786291324 0.591069328 -2.033200808\\nC -1.212829577 -0.596972908 -1.987404429\\nO -0.031147254 -0.79307386 -1.754548698\\nH -1.58741947 -2.662777448 -1.996615935\\nC -2.161574563 -1.761906549 -2.270721587\\nH -1.800737088 -2.08044335 -4.54511163\\nH -3.15157652 -2.795796412 -4.094512468\\nH -3.1038216 -1.1991394760000003 -4.209452584\\nC -2.569942678 -1.99576886 -3.898582802\\nH -4.173226491 -1.832603921 -1.804179662\\nN -3.245688583 -1.7361906370000002 -1.360195102\\nC -3.040839404 -1.588902902 -0.064531883\\nO -1.945400394 -1.474924712 0.460889922\\n\");\n\tviewer_1568788558038259.setStyle({\"model\": -1},{\"sphere\": {\"color\": \"black\", \"scale\": 0.15}});\n\tviewer_1568788558038259.addModel(\"14 angstroem\\n\\nH -0.294238185 -1.276970067 0.837111303\\nN 0.654330431 -0.982874182 1.119801349\\nC 0.959290649 0.196696863 1.6277496259999997\\nO 2.080370651 0.54406136 1.961767624\\nH 0.210462453 2.117547567 2.024662387\\nC -0.235646954 1.136307888 1.791185524\\nH -0.809124304 0.737672285 4.008556226\\nH -2.010546281 1.457086231 3.2479212360000003\\nH -1.69645963 -0.084468233 2.948313919\\nC -1.252943626 0.807043101 3.105750249\\nH -1.905176318 1.202730025 0.575593995\\nN -0.879775858 1.322307378 0.543978588\\nC -0.186893023 1.612158125 -0.541516673\\nO 1.024539381 1.753616075 -0.5798168560000001\\n\");\n\tviewer_1568788558038259.setStyle({\"model\": -1},{\"sphere\": {\"color\": \"blue\", \"scale\": 0.15}});\n\tviewer_1568788558038259.addModel(\"22 angstroem\\n\\nH 3.799291845 0.880692516 -3.790953454\\nH 2.568233218 -0.131074516 -3.809898344\\nH 2.440815079 1.252898971 -3.014167775\\nC 3.076668722 0.493880901 -3.203553139\\nH 4.264527121 -0.980780666 -2.00268014\\nC 3.580676155 -0.161471562 -1.724405448\\nH 1.628457964 -0.736397258 -1.367043529\\nN 2.57190077 -0.783326131 -0.9493621499999999\\nC 2.857912174 -1.352374549 0.206830486\\nO 3.972204404 -1.408296629 0.70106856\\nH -0.238001799 -1.945593403 -1.178704356\\nH 1.378722194 -2.243016848 -1.872851729\\nC 0.558546889 -2.697300228 -1.294497844\\nH 1.984324861 -2.328203829 1.904391324\\nC 1.651511825 -1.966759916 0.916439769\\nH 1.852293738 -3.921602724 -0.038143446\\nH 0.242977841 -3.606211767 0.662576107\\nC 1.073504377 -3.152829252 0.096625834\\nC 0.002633416 -3.871380626 -2.058491757\\nO 0.507441784 -4.283068248 -3.090607002\\nH -1.347580901 -5.171622276 -2.09415004\\nO -1.080788324 -4.446232777 -1.542012654\\n\");\n\tviewer_1568788558038259.setStyle({\"model\": -1},{\"sphere\": {\"color\": \"blue\", \"scale\": 0.15}});\n\tviewer_1568788558038259.addModel(\"10 angstroem\\n\\nH -0.099562609 4.474360735 2.867665333\\nO 0.488726727 3.985212419 2.304750171\\nH 3.811205871 4.187642335 2.059833568\\nH 2.66931027 3.993980008 0.703756011\\nC 3.304072658 3.446583152 1.420040266\\nH 1.878816707 1.801413274 1.676936134\\nH 3.033390431 1.980750298 3.025600472\\nC 2.412431108 2.533728039 2.302980741\\nC 1.395329548 3.357637309 3.049887161\\nO 1.392583175 3.4544289790000002 4.266523465\\n\");\n\tviewer_1568788558038259.setStyle({\"model\": -1},{\"sphere\": {\"color\": \"blue\", \"scale\": 0.15}});\n\tviewer_1568788558038259.zoomTo();\nviewer_1568788558038259.render();\n});\n</script>",
      "text/html": [
       "<div id=\"3dmolviewer_1568788558038259\"  style=\"position: relative; width: 600px; height: 400px\">\n",
       "        <p id=\"3dmolwarning_1568788558038259\" style=\"background-color:#ffcccc;color:black\">You appear to be running in JupyterLab (or JavaScript failed to load for some other reason).  You need to install the 3dmol extension: <br>\n",
       "        <tt>jupyter labextension install jupyterlab_3dmol</tt></p>\n",
       "        </div>\n",
       "<script>\n",
       "\n",
       "var loadScriptAsync = function(uri){\n",
       "  return new Promise((resolve, reject) => {\n",
       "    var tag = document.createElement('script');\n",
       "    tag.src = uri;\n",
       "    tag.async = true;\n",
       "    tag.onload = () => {\n",
       "      resolve();\n",
       "    };\n",
       "  var firstScriptTag = document.getElementsByTagName('script')[0];\n",
       "  firstScriptTag.parentNode.insertBefore(tag, firstScriptTag);\n",
       "});\n",
       "};\n",
       "\n",
       "if(typeof $3Dmolpromise === 'undefined') {\n",
       "$3Dmolpromise = null;\n",
       "  $3Dmolpromise = loadScriptAsync('https://3dmol.csb.pitt.edu/build/3Dmol.js');\n",
       "}\n",
       "\n",
       "var viewer_1568788558038259 = null;\n",
       "var warn = document.getElementById(\"3dmolwarning_1568788558038259\");\n",
       "if(warn) {\n",
       "    warn.parentNode.removeChild(warn);\n",
       "}\n",
       "$3Dmolpromise.then(function() {\n",
       "viewer_1568788558038259 = $3Dmol.createViewer($(\"#3dmolviewer_1568788558038259\"),{backgroundColor:\"white\"});\n",
       "\tviewer_1568788558038259.addModel(\"106 angstroem\\n\\nH -4.040882796 -1.353625964 1.8174001969999998\\nC -4.319657356 -1.573012303 0.772599319\\nH -4.836746619 0.391563102 0.162193523\\nH -6.160140498 -0.847134332 0.177814384\\nN -5.183010526 -0.545903872 0.321570078\\nH -4.612177134 -3.329140227 -1.409446975\\nH -6.180577606 -2.528665047 -1.120557388\\nC -5.486756474 -3.29490776 -0.74049761\\nH -4.367299289 -3.735878955 1.077051261\\nH -5.926074594999999 -2.917715769 1.362017134\\nC -5.041406092 -2.946842145 0.704641262\\nC -6.185323924000001 -4.630005907 -0.767100653\\nO -5.732648641 -5.59755535 -1.357450744\\nH -7.691343755 -5.579748582 -0.179842884\\nO -7.336165399 -4.702178787 -0.102748862\\nH -2.451865704 2.710008015 0.443850865\\nH -3.613360859 1.929592065 -0.663387909\\nC -2.993047092 2.8263687719999995 -0.508586544\\nH -0.355260442 1.916654114 -2.65718323\\nC -1.036922521 1.769543494 -1.8021102680000003\\nH -1.392037803 3.906538602 -1.519094475\\nH -2.542766466 3.108874023 -2.623599687\\nC -1.987148381 2.992134694 -1.678459372\\nC -3.89936303 4.027297827 -0.421683758\\nO -3.89553985 4.786435363 0.533970809\\nH -5.237336385 5.000265838 -1.303805698\\nO -4.714110793 4.222201294 -1.455708442\\nH 6.586106906 -0.909657653 1.692826432\\nC 6.767304924 -0.304189027 2.588254243\\nO 7.868246311 -0.05884107 3.053853781\\nH 5.137744044 -1.403123507 4.874093316\\nH 3.813845872 -0.544742801 4.650457508\\nH 4.262951664 -1.607543301 3.539798146\\nC 4.621985645 -0.903755404 4.165946929\\nH 5.854996061 0.961097144 3.993492399\\nC 5.49696044 0.225175324 3.254177903\\nH 3.742287394 0.737496569 2.290823134\\nN 4.744329083 0.985272694 2.326373492\\nC 5.319045605 1.913344551 1.584225537\\nO 6.502790098 2.206751478 1.625542302\\nH 4.960083864 3.312503911 -0.000264896\\nC 4.364187336 2.630814986 0.630339603\\nH 2.702326636 1.809352684 -0.281507338\\nN 3.726108732 1.692225529 -0.215629266\\nC 4.421839221 0.762724694 -0.843631911\\nO 5.631738041 0.62447468 -0.76564302\\nH -2.786179466 0.7571864479999999 -2.230221813\\nN -1.786291324 0.591069328 -2.033200808\\nC -1.212829577 -0.596972908 -1.987404429\\nO -0.031147254 -0.79307386 -1.754548698\\nH -1.58741947 -2.662777448 -1.996615935\\nC -2.161574563 -1.761906549 -2.270721587\\nH -1.800737088 -2.08044335 -4.54511163\\nH -3.15157652 -2.795796412 -4.094512468\\nH -3.1038216 -1.1991394760000003 -4.209452584\\nC -2.569942678 -1.99576886 -3.898582802\\nH -4.173226491 -1.832603921 -1.804179662\\nN -3.245688583 -1.7361906370000002 -1.360195102\\nC -3.040839404 -1.588902902 -0.064531883\\nO -1.945400394 -1.474924712 0.460889922\\nH -0.294238185 -1.276970067 0.837111303\\nN 0.654330431 -0.982874182 1.119801349\\nC 0.959290649 0.196696863 1.6277496259999997\\nO 2.080370651 0.54406136 1.961767624\\nH 0.210462453 2.117547567 2.024662387\\nC -0.235646954 1.136307888 1.791185524\\nH -0.809124304 0.737672285 4.008556226\\nH -2.010546281 1.457086231 3.2479212360000003\\nH -1.69645963 -0.084468233 2.948313919\\nC -1.252943626 0.807043101 3.105750249\\nH -1.905176318 1.202730025 0.575593995\\nN -0.879775858 1.322307378 0.543978588\\nC -0.186893023 1.612158125 -0.541516673\\nO 1.024539381 1.753616075 -0.5798168560000001\\nH 3.799291845 0.880692516 -3.790953454\\nH 2.568233218 -0.131074516 -3.809898344\\nH 2.440815079 1.252898971 -3.014167775\\nC 3.076668722 0.493880901 -3.203553139\\nH 4.264527121 -0.980780666 -2.00268014\\nC 3.580676155 -0.161471562 -1.724405448\\nH 1.628457964 -0.736397258 -1.367043529\\nN 2.57190077 -0.783326131 -0.9493621499999999\\nC 2.857912174 -1.352374549 0.206830486\\nO 3.972204404 -1.408296629 0.70106856\\nH -0.238001799 -1.945593403 -1.178704356\\nH 1.378722194 -2.243016848 -1.872851729\\nC 0.558546889 -2.697300228 -1.294497844\\nH 1.984324861 -2.328203829 1.904391324\\nC 1.651511825 -1.966759916 0.916439769\\nH 1.852293738 -3.921602724 -0.038143446\\nH 0.242977841 -3.606211767 0.662576107\\nC 1.073504377 -3.152829252 0.096625834\\nC 0.002633416 -3.871380626 -2.058491757\\nO 0.507441784 -4.283068248 -3.090607002\\nH -1.347580901 -5.171622276 -2.09415004\\nO -1.080788324 -4.446232777 -1.542012654\\nH -0.099562609 4.474360735 2.867665333\\nO 0.488726727 3.985212419 2.304750171\\nH 3.811205871 4.187642335 2.059833568\\nH 2.66931027 3.993980008 0.703756011\\nC 3.304072658 3.446583152 1.420040266\\nH 1.878816707 1.801413274 1.676936134\\nH 3.033390431 1.980750298 3.025600472\\nC 2.412431108 2.533728039 2.302980741\\nC 1.395329548 3.357637309 3.049887161\\nO 1.392583175 3.4544289790000002 4.266523465\\n\");\n",
       "\tviewer_1568788558038259.setStyle({\"model\": -1},{\"line\": {\"color\": \"black\"}});\n",
       "\tviewer_1568788558038259.addModel(\"15 angstroem\\n\\nH -4.040882796 -1.353625964 1.8174001969999998\\nC -4.319657356 -1.573012303 0.772599319\\nH -4.836746619 0.391563102 0.162193523\\nH -6.160140498 -0.847134332 0.177814384\\nN -5.183010526 -0.545903872 0.321570078\\nH -4.612177134 -3.329140227 -1.409446975\\nH -6.180577606 -2.528665047 -1.120557388\\nC -5.486756474 -3.29490776 -0.74049761\\nH -4.367299289 -3.735878955 1.077051261\\nH -5.926074594999999 -2.917715769 1.362017134\\nC -5.041406092 -2.946842145 0.704641262\\nC -6.185323924000001 -4.630005907 -0.767100653\\nO -5.732648641 -5.59755535 -1.357450744\\nH -7.691343755 -5.579748582 -0.179842884\\nO -7.336165399 -4.702178787 -0.102748862\\n\");\n",
       "\tviewer_1568788558038259.setStyle({\"model\": -1},{\"sphere\": {\"color\": \"black\", \"scale\": 0.15}});\n",
       "\tviewer_1568788558038259.addModel(\"12 angstroem\\n\\nH -2.451865704 2.710008015 0.443850865\\nH -3.613360859 1.929592065 -0.663387909\\nC -2.993047092 2.8263687719999995 -0.508586544\\nH -0.355260442 1.916654114 -2.65718323\\nC -1.036922521 1.769543494 -1.8021102680000003\\nH -1.392037803 3.906538602 -1.519094475\\nH -2.542766466 3.108874023 -2.623599687\\nC -1.987148381 2.992134694 -1.678459372\\nC -3.89936303 4.027297827 -0.421683758\\nO -3.89553985 4.786435363 0.533970809\\nH -5.237336385 5.000265838 -1.303805698\\nO -4.714110793 4.222201294 -1.455708442\\n\");\n",
       "\tviewer_1568788558038259.setStyle({\"model\": -1},{\"sphere\": {\"color\": \"black\", \"scale\": 0.15}});\n",
       "\tviewer_1568788558038259.addModel(\"19 angstroem\\n\\nH 6.586106906 -0.909657653 1.692826432\\nC 6.767304924 -0.304189027 2.588254243\\nO 7.868246311 -0.05884107 3.053853781\\nH 5.137744044 -1.403123507 4.874093316\\nH 3.813845872 -0.544742801 4.650457508\\nH 4.262951664 -1.607543301 3.539798146\\nC 4.621985645 -0.903755404 4.165946929\\nH 5.854996061 0.961097144 3.993492399\\nC 5.49696044 0.225175324 3.254177903\\nH 3.742287394 0.737496569 2.290823134\\nN 4.744329083 0.985272694 2.326373492\\nC 5.319045605 1.913344551 1.584225537\\nO 6.502790098 2.206751478 1.625542302\\nH 4.960083864 3.312503911 -0.000264896\\nC 4.364187336 2.630814986 0.630339603\\nH 2.702326636 1.809352684 -0.281507338\\nN 3.726108732 1.692225529 -0.215629266\\nC 4.421839221 0.762724694 -0.843631911\\nO 5.631738041 0.62447468 -0.76564302\\n\");\n",
       "\tviewer_1568788558038259.setStyle({\"model\": -1},{\"sphere\": {\"color\": \"yellow\", \"scale\": 0.15}});\n",
       "\tviewer_1568788558038259.addModel(\"14 angstroem\\n\\nH -2.786179466 0.7571864479999999 -2.230221813\\nN -1.786291324 0.591069328 -2.033200808\\nC -1.212829577 -0.596972908 -1.987404429\\nO -0.031147254 -0.79307386 -1.754548698\\nH -1.58741947 -2.662777448 -1.996615935\\nC -2.161574563 -1.761906549 -2.270721587\\nH -1.800737088 -2.08044335 -4.54511163\\nH -3.15157652 -2.795796412 -4.094512468\\nH -3.1038216 -1.1991394760000003 -4.209452584\\nC -2.569942678 -1.99576886 -3.898582802\\nH -4.173226491 -1.832603921 -1.804179662\\nN -3.245688583 -1.7361906370000002 -1.360195102\\nC -3.040839404 -1.588902902 -0.064531883\\nO -1.945400394 -1.474924712 0.460889922\\n\");\n",
       "\tviewer_1568788558038259.setStyle({\"model\": -1},{\"sphere\": {\"color\": \"black\", \"scale\": 0.15}});\n",
       "\tviewer_1568788558038259.addModel(\"14 angstroem\\n\\nH -0.294238185 -1.276970067 0.837111303\\nN 0.654330431 -0.982874182 1.119801349\\nC 0.959290649 0.196696863 1.6277496259999997\\nO 2.080370651 0.54406136 1.961767624\\nH 0.210462453 2.117547567 2.024662387\\nC -0.235646954 1.136307888 1.791185524\\nH -0.809124304 0.737672285 4.008556226\\nH -2.010546281 1.457086231 3.2479212360000003\\nH -1.69645963 -0.084468233 2.948313919\\nC -1.252943626 0.807043101 3.105750249\\nH -1.905176318 1.202730025 0.575593995\\nN -0.879775858 1.322307378 0.543978588\\nC -0.186893023 1.612158125 -0.541516673\\nO 1.024539381 1.753616075 -0.5798168560000001\\n\");\n",
       "\tviewer_1568788558038259.setStyle({\"model\": -1},{\"sphere\": {\"color\": \"blue\", \"scale\": 0.15}});\n",
       "\tviewer_1568788558038259.addModel(\"22 angstroem\\n\\nH 3.799291845 0.880692516 -3.790953454\\nH 2.568233218 -0.131074516 -3.809898344\\nH 2.440815079 1.252898971 -3.014167775\\nC 3.076668722 0.493880901 -3.203553139\\nH 4.264527121 -0.980780666 -2.00268014\\nC 3.580676155 -0.161471562 -1.724405448\\nH 1.628457964 -0.736397258 -1.367043529\\nN 2.57190077 -0.783326131 -0.9493621499999999\\nC 2.857912174 -1.352374549 0.206830486\\nO 3.972204404 -1.408296629 0.70106856\\nH -0.238001799 -1.945593403 -1.178704356\\nH 1.378722194 -2.243016848 -1.872851729\\nC 0.558546889 -2.697300228 -1.294497844\\nH 1.984324861 -2.328203829 1.904391324\\nC 1.651511825 -1.966759916 0.916439769\\nH 1.852293738 -3.921602724 -0.038143446\\nH 0.242977841 -3.606211767 0.662576107\\nC 1.073504377 -3.152829252 0.096625834\\nC 0.002633416 -3.871380626 -2.058491757\\nO 0.507441784 -4.283068248 -3.090607002\\nH -1.347580901 -5.171622276 -2.09415004\\nO -1.080788324 -4.446232777 -1.542012654\\n\");\n",
       "\tviewer_1568788558038259.setStyle({\"model\": -1},{\"sphere\": {\"color\": \"blue\", \"scale\": 0.15}});\n",
       "\tviewer_1568788558038259.addModel(\"10 angstroem\\n\\nH -0.099562609 4.474360735 2.867665333\\nO 0.488726727 3.985212419 2.304750171\\nH 3.811205871 4.187642335 2.059833568\\nH 2.66931027 3.993980008 0.703756011\\nC 3.304072658 3.446583152 1.420040266\\nH 1.878816707 1.801413274 1.676936134\\nH 3.033390431 1.980750298 3.025600472\\nC 2.412431108 2.533728039 2.302980741\\nC 1.395329548 3.357637309 3.049887161\\nO 1.392583175 3.4544289790000002 4.266523465\\n\");\n",
       "\tviewer_1568788558038259.setStyle({\"model\": -1},{\"sphere\": {\"color\": \"blue\", \"scale\": 0.15}});\n",
       "\tviewer_1568788558038259.zoomTo();\n",
       "viewer_1568788558038259.render();\n",
       "});\n",
       "</script>"
      ]
     },
     "metadata": {},
     "output_type": "display_data"
    }
   ],
   "source": [
    "display_qmmm(resys, target, qmmmsys[0.1].keys())"
   ]
  },
  {
   "cell_type": "markdown",
   "metadata": {},
   "source": [
    "With the systems setup, we can now perform the calculations."
   ]
  },
  {
   "cell_type": "code",
   "execution_count": 70,
   "metadata": {
    "collapsed": true,
    "jupyter": {
     "outputs_hidden": true
    }
   },
   "outputs": [
    {
     "name": "stdout",
     "output_type": "stream",
     "text": [
      "Creating the yaml input file \"./GluAla-100.yaml\"\n",
      "Executing command:  mpirun -machinefile /var/lib/oar/1884062 /home/wdawson/share/binaries/flake8-nopoly/install/bin/bigdft -n GluAla-100 -s Yes\n",
      "Creating the yaml input file \"./GluAla-1.yaml\"\n",
      "Executing command:  mpirun -machinefile /var/lib/oar/1884062 /home/wdawson/share/binaries/flake8-nopoly/install/bin/bigdft -n GluAla-1 -s Yes\n",
      "Creating the yaml input file \"./GluAla-0.1.yaml\"\n",
      "Executing command:  mpirun -machinefile /var/lib/oar/1884062 /home/wdawson/share/binaries/flake8-nopoly/install/bin/bigdft -n GluAla-0.1 -s Yes\n"
     ]
    }
   ],
   "source": [
    "qmmm_logs = {}\n",
    "for cut in cutoffs[:]:\n",
    "    qmmm_logs[cut] = code.run(input=inp, posinp=qmmmsys[cut].get_posinp(),\n",
    "                              name=\"GluAla-\"+str(cut))\n",
    "    qmmmsys[cut].set_atom_multipoles(qmmm_logs[cut])"
   ]
  },
  {
   "cell_type": "markdown",
   "metadata": {},
   "source": [
    "And last we can look how the error changes as we modify the cutoff."
   ]
  },
  {
   "cell_type": "code",
   "execution_count": 71,
   "metadata": {
    "collapsed": true,
    "jupyter": {
     "outputs_hidden": true
    }
   },
   "outputs": [
    {
     "data": {
      "text/html": [
       "<div>\n",
       "<table border=\"1\" class=\"dataframe\">\n",
       "  <thead>\n",
       "    <tr style=\"text-align: right;\">\n",
       "      <th></th>\n",
       "      <th>Cutoff</th>\n",
       "      <th>Norm Error</th>\n",
       "      <th>Angle Error</th>\n",
       "    </tr>\n",
       "  </thead>\n",
       "  <tbody>\n",
       "    <tr>\n",
       "      <th>0</th>\n",
       "      <td>100.0</td>\n",
       "      <td>0.160037</td>\n",
       "      <td>6.807145</td>\n",
       "    </tr>\n",
       "    <tr>\n",
       "      <th>1</th>\n",
       "      <td>1.0</td>\n",
       "      <td>0.035854</td>\n",
       "      <td>1.973937</td>\n",
       "    </tr>\n",
       "    <tr>\n",
       "      <th>2</th>\n",
       "      <td>0.1</td>\n",
       "      <td>0.062536</td>\n",
       "      <td>3.321515</td>\n",
       "    </tr>\n",
       "  </tbody>\n",
       "</table>\n",
       "</div>"
      ],
      "text/plain": [
       "   Cutoff  Norm Error  Angle Error\n",
       "0   100.0    0.160037     6.807145\n",
       "1     1.0    0.035854     1.973937\n",
       "2     0.1    0.062536     3.321515"
      ]
     },
     "metadata": {},
     "output_type": "display_data"
    }
   ],
   "source": [
    "from numpy.linalg import norm\n",
    "from numpy import dot, arccos, pi\n",
    "df = []\n",
    "\n",
    "ref_d0 = resys[target].d0()\n",
    "    \n",
    "for cut in cutoffs[:]:\n",
    "    computed_d0 = qmmmsys[cut][target].d0()\n",
    "    error = norm(computed_d0 - ref_d0) / norm(ref_d0)\n",
    "    angle = (180/pi) * arccos(dot(computed_d0, ref_d0)/(norm(computed_d0) * norm(ref_d0)))\n",
    "    df.append([cut, error, angle])\n",
    "    \n",
    "display(DataFrame(df, columns=[\"Cutoff\", \"Norm Error\", \"Angle Error\"]))"
   ]
  },
  {
   "cell_type": "markdown",
   "metadata": {},
   "source": [
    "We see that for this particular case, the value converged very quickly."
   ]
  },
  {
   "cell_type": "code",
   "execution_count": 72,
   "metadata": {
    "collapsed": true,
    "jupyter": {
     "outputs_hidden": true
    }
   },
   "outputs": [
    {
     "data": {
      "application/3dmoljs_load.v0": "<div id=\"3dmolviewer_15687885679573176\"  style=\"position: relative; width: 600px; height: 400px\">\n        <p id=\"3dmolwarning_15687885679573176\" style=\"background-color:#ffcccc;color:black\">You appear to be running in JupyterLab (or JavaScript failed to load for some other reason).  You need to install the 3dmol extension: <br>\n        <tt>jupyter labextension install jupyterlab_3dmol</tt></p>\n        </div>\n<script>\n\nvar loadScriptAsync = function(uri){\n  return new Promise((resolve, reject) => {\n    var tag = document.createElement('script');\n    tag.src = uri;\n    tag.async = true;\n    tag.onload = () => {\n      resolve();\n    };\n  var firstScriptTag = document.getElementsByTagName('script')[0];\n  firstScriptTag.parentNode.insertBefore(tag, firstScriptTag);\n});\n};\n\nif(typeof $3Dmolpromise === 'undefined') {\n$3Dmolpromise = null;\n  $3Dmolpromise = loadScriptAsync('https://3dmol.csb.pitt.edu/build/3Dmol.js');\n}\n\nvar viewer_15687885679573176 = null;\nvar warn = document.getElementById(\"3dmolwarning_15687885679573176\");\nif(warn) {\n    warn.parentNode.removeChild(warn);\n}\n$3Dmolpromise.then(function() {\nviewer_15687885679573176 = $3Dmol.createViewer($(\"#3dmolviewer_15687885679573176\"),{backgroundColor:\"white\"});\n\tviewer_15687885679573176.addModel(\"106 angstroem\\n\\nH -4.040882796 -1.353625964 1.8174001969999998\\nC -4.319657356 -1.573012303 0.772599319\\nH -4.836746619 0.391563102 0.162193523\\nH -6.160140498 -0.847134332 0.177814384\\nN -5.183010526 -0.545903872 0.321570078\\nH -4.612177134 -3.329140227 -1.409446975\\nH -6.180577606 -2.528665047 -1.120557388\\nC -5.486756474 -3.29490776 -0.74049761\\nH -4.367299289 -3.735878955 1.077051261\\nH -5.926074594999999 -2.917715769 1.362017134\\nC -5.041406092 -2.946842145 0.704641262\\nC -6.185323924000001 -4.630005907 -0.767100653\\nO -5.732648641 -5.59755535 -1.357450744\\nH -7.691343755 -5.579748582 -0.179842884\\nO -7.336165399 -4.702178787 -0.102748862\\nH -2.451865704 2.710008015 0.443850865\\nH -3.613360859 1.929592065 -0.663387909\\nC -2.993047092 2.8263687719999995 -0.508586544\\nH -0.355260442 1.916654114 -2.65718323\\nC -1.036922521 1.769543494 -1.8021102680000003\\nH -1.392037803 3.906538602 -1.519094475\\nH -2.542766466 3.108874023 -2.623599687\\nC -1.987148381 2.992134694 -1.678459372\\nC -3.89936303 4.027297827 -0.421683758\\nO -3.89553985 4.786435363 0.533970809\\nH -5.237336385 5.000265838 -1.303805698\\nO -4.714110793 4.222201294 -1.455708442\\nH 6.586106906 -0.909657653 1.692826432\\nC 6.767304924 -0.304189027 2.588254243\\nO 7.868246311 -0.05884107 3.053853781\\nH 5.137744044 -1.403123507 4.874093316\\nH 3.813845872 -0.544742801 4.650457508\\nH 4.262951664 -1.607543301 3.539798146\\nC 4.621985645 -0.903755404 4.165946929\\nH 5.854996061 0.961097144 3.993492399\\nC 5.49696044 0.225175324 3.254177903\\nH 3.742287394 0.737496569 2.290823134\\nN 4.744329083 0.985272694 2.326373492\\nC 5.319045605 1.913344551 1.584225537\\nO 6.502790098 2.206751478 1.625542302\\nH 4.960083864 3.312503911 -0.000264896\\nC 4.364187336 2.630814986 0.630339603\\nH 2.702326636 1.809352684 -0.281507338\\nN 3.726108732 1.692225529 -0.215629266\\nC 4.421839221 0.762724694 -0.843631911\\nO 5.631738041 0.62447468 -0.76564302\\nH -2.786179466 0.7571864479999999 -2.230221813\\nN -1.786291324 0.591069328 -2.033200808\\nC -1.212829577 -0.596972908 -1.987404429\\nO -0.031147254 -0.79307386 -1.754548698\\nH -1.58741947 -2.662777448 -1.996615935\\nC -2.161574563 -1.761906549 -2.270721587\\nH -1.800737088 -2.08044335 -4.54511163\\nH -3.15157652 -2.795796412 -4.094512468\\nH -3.1038216 -1.1991394760000003 -4.209452584\\nC -2.569942678 -1.99576886 -3.898582802\\nH -4.173226491 -1.832603921 -1.804179662\\nN -3.245688583 -1.7361906370000002 -1.360195102\\nC -3.040839404 -1.588902902 -0.064531883\\nO -1.945400394 -1.474924712 0.460889922\\nH -0.294238185 -1.276970067 0.837111303\\nN 0.654330431 -0.982874182 1.119801349\\nC 0.959290649 0.196696863 1.6277496259999997\\nO 2.080370651 0.54406136 1.961767624\\nH 0.210462453 2.117547567 2.024662387\\nC -0.235646954 1.136307888 1.791185524\\nH -0.809124304 0.737672285 4.008556226\\nH -2.010546281 1.457086231 3.2479212360000003\\nH -1.69645963 -0.084468233 2.948313919\\nC -1.252943626 0.807043101 3.105750249\\nH -1.905176318 1.202730025 0.575593995\\nN -0.879775858 1.322307378 0.543978588\\nC -0.186893023 1.612158125 -0.541516673\\nO 1.024539381 1.753616075 -0.5798168560000001\\nH 3.799291845 0.880692516 -3.790953454\\nH 2.568233218 -0.131074516 -3.809898344\\nH 2.440815079 1.252898971 -3.014167775\\nC 3.076668722 0.493880901 -3.203553139\\nH 4.264527121 -0.980780666 -2.00268014\\nC 3.580676155 -0.161471562 -1.724405448\\nH 1.628457964 -0.736397258 -1.367043529\\nN 2.57190077 -0.783326131 -0.9493621499999999\\nC 2.857912174 -1.352374549 0.206830486\\nO 3.972204404 -1.408296629 0.70106856\\nH -0.238001799 -1.945593403 -1.178704356\\nH 1.378722194 -2.243016848 -1.872851729\\nC 0.558546889 -2.697300228 -1.294497844\\nH 1.984324861 -2.328203829 1.904391324\\nC 1.651511825 -1.966759916 0.916439769\\nH 1.852293738 -3.921602724 -0.038143446\\nH 0.242977841 -3.606211767 0.662576107\\nC 1.073504377 -3.152829252 0.096625834\\nC 0.002633416 -3.871380626 -2.058491757\\nO 0.507441784 -4.283068248 -3.090607002\\nH -1.347580901 -5.171622276 -2.09415004\\nO -1.080788324 -4.446232777 -1.542012654\\nH -0.099562609 4.474360735 2.867665333\\nO 0.488726727 3.985212419 2.304750171\\nH 3.811205871 4.187642335 2.059833568\\nH 2.66931027 3.993980008 0.703756011\\nC 3.304072658 3.446583152 1.420040266\\nH 1.878816707 1.801413274 1.676936134\\nH 3.033390431 1.980750298 3.025600472\\nC 2.412431108 2.533728039 2.302980741\\nC 1.395329548 3.357637309 3.049887161\\nO 1.392583175 3.4544289790000002 4.266523465\\n\");\n\tviewer_15687885679573176.setStyle({\"model\": -1},{\"line\": {\"color\": \"black\"}});\n\tviewer_15687885679573176.addModel(\"15 angstroem\\n\\nH -4.040882796 -1.353625964 1.8174001969999998\\nC -4.319657356 -1.573012303 0.772599319\\nH -4.836746619 0.391563102 0.162193523\\nH -6.160140498 -0.847134332 0.177814384\\nN -5.183010526 -0.545903872 0.321570078\\nH -4.612177134 -3.329140227 -1.409446975\\nH -6.180577606 -2.528665047 -1.120557388\\nC -5.486756474 -3.29490776 -0.74049761\\nH -4.367299289 -3.735878955 1.077051261\\nH -5.926074594999999 -2.917715769 1.362017134\\nC -5.041406092 -2.946842145 0.704641262\\nC -6.185323924000001 -4.630005907 -0.767100653\\nO -5.732648641 -5.59755535 -1.357450744\\nH -7.691343755 -5.579748582 -0.179842884\\nO -7.336165399 -4.702178787 -0.102748862\\n\");\n\tviewer_15687885679573176.setStyle({\"model\": -1},{\"sphere\": {\"color\": \"black\", \"scale\": 0.15}});\n\tviewer_15687885679573176.addModel(\"12 angstroem\\n\\nH -2.451865704 2.710008015 0.443850865\\nH -3.613360859 1.929592065 -0.663387909\\nC -2.993047092 2.8263687719999995 -0.508586544\\nH -0.355260442 1.916654114 -2.65718323\\nC -1.036922521 1.769543494 -1.8021102680000003\\nH -1.392037803 3.906538602 -1.519094475\\nH -2.542766466 3.108874023 -2.623599687\\nC -1.987148381 2.992134694 -1.678459372\\nC -3.89936303 4.027297827 -0.421683758\\nO -3.89553985 4.786435363 0.533970809\\nH -5.237336385 5.000265838 -1.303805698\\nO -4.714110793 4.222201294 -1.455708442\\n\");\n\tviewer_15687885679573176.setStyle({\"model\": -1},{\"sphere\": {\"color\": \"black\", \"scale\": 0.15}});\n\tviewer_15687885679573176.addModel(\"19 angstroem\\n\\nH 6.586106906 -0.909657653 1.692826432\\nC 6.767304924 -0.304189027 2.588254243\\nO 7.868246311 -0.05884107 3.053853781\\nH 5.137744044 -1.403123507 4.874093316\\nH 3.813845872 -0.544742801 4.650457508\\nH 4.262951664 -1.607543301 3.539798146\\nC 4.621985645 -0.903755404 4.165946929\\nH 5.854996061 0.961097144 3.993492399\\nC 5.49696044 0.225175324 3.254177903\\nH 3.742287394 0.737496569 2.290823134\\nN 4.744329083 0.985272694 2.326373492\\nC 5.319045605 1.913344551 1.584225537\\nO 6.502790098 2.206751478 1.625542302\\nH 4.960083864 3.312503911 -0.000264896\\nC 4.364187336 2.630814986 0.630339603\\nH 2.702326636 1.809352684 -0.281507338\\nN 3.726108732 1.692225529 -0.215629266\\nC 4.421839221 0.762724694 -0.843631911\\nO 5.631738041 0.62447468 -0.76564302\\n\");\n\tviewer_15687885679573176.setStyle({\"model\": -1},{\"sphere\": {\"color\": \"yellow\", \"scale\": 0.15}});\n\tviewer_15687885679573176.addModel(\"14 angstroem\\n\\nH -2.786179466 0.7571864479999999 -2.230221813\\nN -1.786291324 0.591069328 -2.033200808\\nC -1.212829577 -0.596972908 -1.987404429\\nO -0.031147254 -0.79307386 -1.754548698\\nH -1.58741947 -2.662777448 -1.996615935\\nC -2.161574563 -1.761906549 -2.270721587\\nH -1.800737088 -2.08044335 -4.54511163\\nH -3.15157652 -2.795796412 -4.094512468\\nH -3.1038216 -1.1991394760000003 -4.209452584\\nC -2.569942678 -1.99576886 -3.898582802\\nH -4.173226491 -1.832603921 -1.804179662\\nN -3.245688583 -1.7361906370000002 -1.360195102\\nC -3.040839404 -1.588902902 -0.064531883\\nO -1.945400394 -1.474924712 0.460889922\\n\");\n\tviewer_15687885679573176.setStyle({\"model\": -1},{\"sphere\": {\"color\": \"black\", \"scale\": 0.15}});\n\tviewer_15687885679573176.addModel(\"14 angstroem\\n\\nH -0.294238185 -1.276970067 0.837111303\\nN 0.654330431 -0.982874182 1.119801349\\nC 0.959290649 0.196696863 1.6277496259999997\\nO 2.080370651 0.54406136 1.961767624\\nH 0.210462453 2.117547567 2.024662387\\nC -0.235646954 1.136307888 1.791185524\\nH -0.809124304 0.737672285 4.008556226\\nH -2.010546281 1.457086231 3.2479212360000003\\nH -1.69645963 -0.084468233 2.948313919\\nC -1.252943626 0.807043101 3.105750249\\nH -1.905176318 1.202730025 0.575593995\\nN -0.879775858 1.322307378 0.543978588\\nC -0.186893023 1.612158125 -0.541516673\\nO 1.024539381 1.753616075 -0.5798168560000001\\n\");\n\tviewer_15687885679573176.setStyle({\"model\": -1},{\"sphere\": {\"color\": \"black\", \"scale\": 0.15}});\n\tviewer_15687885679573176.addModel(\"22 angstroem\\n\\nH 3.799291845 0.880692516 -3.790953454\\nH 2.568233218 -0.131074516 -3.809898344\\nH 2.440815079 1.252898971 -3.014167775\\nC 3.076668722 0.493880901 -3.203553139\\nH 4.264527121 -0.980780666 -2.00268014\\nC 3.580676155 -0.161471562 -1.724405448\\nH 1.628457964 -0.736397258 -1.367043529\\nN 2.57190077 -0.783326131 -0.9493621499999999\\nC 2.857912174 -1.352374549 0.206830486\\nO 3.972204404 -1.408296629 0.70106856\\nH -0.238001799 -1.945593403 -1.178704356\\nH 1.378722194 -2.243016848 -1.872851729\\nC 0.558546889 -2.697300228 -1.294497844\\nH 1.984324861 -2.328203829 1.904391324\\nC 1.651511825 -1.966759916 0.916439769\\nH 1.852293738 -3.921602724 -0.038143446\\nH 0.242977841 -3.606211767 0.662576107\\nC 1.073504377 -3.152829252 0.096625834\\nC 0.002633416 -3.871380626 -2.058491757\\nO 0.507441784 -4.283068248 -3.090607002\\nH -1.347580901 -5.171622276 -2.09415004\\nO -1.080788324 -4.446232777 -1.542012654\\n\");\n\tviewer_15687885679573176.setStyle({\"model\": -1},{\"sphere\": {\"color\": \"blue\", \"scale\": 0.15}});\n\tviewer_15687885679573176.addModel(\"10 angstroem\\n\\nH -0.099562609 4.474360735 2.867665333\\nO 0.488726727 3.985212419 2.304750171\\nH 3.811205871 4.187642335 2.059833568\\nH 2.66931027 3.993980008 0.703756011\\nC 3.304072658 3.446583152 1.420040266\\nH 1.878816707 1.801413274 1.676936134\\nH 3.033390431 1.980750298 3.025600472\\nC 2.412431108 2.533728039 2.302980741\\nC 1.395329548 3.357637309 3.049887161\\nO 1.392583175 3.4544289790000002 4.266523465\\n\");\n\tviewer_15687885679573176.setStyle({\"model\": -1},{\"sphere\": {\"color\": \"blue\", \"scale\": 0.15}});\n\tviewer_15687885679573176.zoomTo();\nviewer_15687885679573176.render();\n});\n</script>",
      "text/html": [
       "<div id=\"3dmolviewer_15687885679573176\"  style=\"position: relative; width: 600px; height: 400px\">\n",
       "        <p id=\"3dmolwarning_15687885679573176\" style=\"background-color:#ffcccc;color:black\">You appear to be running in JupyterLab (or JavaScript failed to load for some other reason).  You need to install the 3dmol extension: <br>\n",
       "        <tt>jupyter labextension install jupyterlab_3dmol</tt></p>\n",
       "        </div>\n",
       "<script>\n",
       "\n",
       "var loadScriptAsync = function(uri){\n",
       "  return new Promise((resolve, reject) => {\n",
       "    var tag = document.createElement('script');\n",
       "    tag.src = uri;\n",
       "    tag.async = true;\n",
       "    tag.onload = () => {\n",
       "      resolve();\n",
       "    };\n",
       "  var firstScriptTag = document.getElementsByTagName('script')[0];\n",
       "  firstScriptTag.parentNode.insertBefore(tag, firstScriptTag);\n",
       "});\n",
       "};\n",
       "\n",
       "if(typeof $3Dmolpromise === 'undefined') {\n",
       "$3Dmolpromise = null;\n",
       "  $3Dmolpromise = loadScriptAsync('https://3dmol.csb.pitt.edu/build/3Dmol.js');\n",
       "}\n",
       "\n",
       "var viewer_15687885679573176 = null;\n",
       "var warn = document.getElementById(\"3dmolwarning_15687885679573176\");\n",
       "if(warn) {\n",
       "    warn.parentNode.removeChild(warn);\n",
       "}\n",
       "$3Dmolpromise.then(function() {\n",
       "viewer_15687885679573176 = $3Dmol.createViewer($(\"#3dmolviewer_15687885679573176\"),{backgroundColor:\"white\"});\n",
       "\tviewer_15687885679573176.addModel(\"106 angstroem\\n\\nH -4.040882796 -1.353625964 1.8174001969999998\\nC -4.319657356 -1.573012303 0.772599319\\nH -4.836746619 0.391563102 0.162193523\\nH -6.160140498 -0.847134332 0.177814384\\nN -5.183010526 -0.545903872 0.321570078\\nH -4.612177134 -3.329140227 -1.409446975\\nH -6.180577606 -2.528665047 -1.120557388\\nC -5.486756474 -3.29490776 -0.74049761\\nH -4.367299289 -3.735878955 1.077051261\\nH -5.926074594999999 -2.917715769 1.362017134\\nC -5.041406092 -2.946842145 0.704641262\\nC -6.185323924000001 -4.630005907 -0.767100653\\nO -5.732648641 -5.59755535 -1.357450744\\nH -7.691343755 -5.579748582 -0.179842884\\nO -7.336165399 -4.702178787 -0.102748862\\nH -2.451865704 2.710008015 0.443850865\\nH -3.613360859 1.929592065 -0.663387909\\nC -2.993047092 2.8263687719999995 -0.508586544\\nH -0.355260442 1.916654114 -2.65718323\\nC -1.036922521 1.769543494 -1.8021102680000003\\nH -1.392037803 3.906538602 -1.519094475\\nH -2.542766466 3.108874023 -2.623599687\\nC -1.987148381 2.992134694 -1.678459372\\nC -3.89936303 4.027297827 -0.421683758\\nO -3.89553985 4.786435363 0.533970809\\nH -5.237336385 5.000265838 -1.303805698\\nO -4.714110793 4.222201294 -1.455708442\\nH 6.586106906 -0.909657653 1.692826432\\nC 6.767304924 -0.304189027 2.588254243\\nO 7.868246311 -0.05884107 3.053853781\\nH 5.137744044 -1.403123507 4.874093316\\nH 3.813845872 -0.544742801 4.650457508\\nH 4.262951664 -1.607543301 3.539798146\\nC 4.621985645 -0.903755404 4.165946929\\nH 5.854996061 0.961097144 3.993492399\\nC 5.49696044 0.225175324 3.254177903\\nH 3.742287394 0.737496569 2.290823134\\nN 4.744329083 0.985272694 2.326373492\\nC 5.319045605 1.913344551 1.584225537\\nO 6.502790098 2.206751478 1.625542302\\nH 4.960083864 3.312503911 -0.000264896\\nC 4.364187336 2.630814986 0.630339603\\nH 2.702326636 1.809352684 -0.281507338\\nN 3.726108732 1.692225529 -0.215629266\\nC 4.421839221 0.762724694 -0.843631911\\nO 5.631738041 0.62447468 -0.76564302\\nH -2.786179466 0.7571864479999999 -2.230221813\\nN -1.786291324 0.591069328 -2.033200808\\nC -1.212829577 -0.596972908 -1.987404429\\nO -0.031147254 -0.79307386 -1.754548698\\nH -1.58741947 -2.662777448 -1.996615935\\nC -2.161574563 -1.761906549 -2.270721587\\nH -1.800737088 -2.08044335 -4.54511163\\nH -3.15157652 -2.795796412 -4.094512468\\nH -3.1038216 -1.1991394760000003 -4.209452584\\nC -2.569942678 -1.99576886 -3.898582802\\nH -4.173226491 -1.832603921 -1.804179662\\nN -3.245688583 -1.7361906370000002 -1.360195102\\nC -3.040839404 -1.588902902 -0.064531883\\nO -1.945400394 -1.474924712 0.460889922\\nH -0.294238185 -1.276970067 0.837111303\\nN 0.654330431 -0.982874182 1.119801349\\nC 0.959290649 0.196696863 1.6277496259999997\\nO 2.080370651 0.54406136 1.961767624\\nH 0.210462453 2.117547567 2.024662387\\nC -0.235646954 1.136307888 1.791185524\\nH -0.809124304 0.737672285 4.008556226\\nH -2.010546281 1.457086231 3.2479212360000003\\nH -1.69645963 -0.084468233 2.948313919\\nC -1.252943626 0.807043101 3.105750249\\nH -1.905176318 1.202730025 0.575593995\\nN -0.879775858 1.322307378 0.543978588\\nC -0.186893023 1.612158125 -0.541516673\\nO 1.024539381 1.753616075 -0.5798168560000001\\nH 3.799291845 0.880692516 -3.790953454\\nH 2.568233218 -0.131074516 -3.809898344\\nH 2.440815079 1.252898971 -3.014167775\\nC 3.076668722 0.493880901 -3.203553139\\nH 4.264527121 -0.980780666 -2.00268014\\nC 3.580676155 -0.161471562 -1.724405448\\nH 1.628457964 -0.736397258 -1.367043529\\nN 2.57190077 -0.783326131 -0.9493621499999999\\nC 2.857912174 -1.352374549 0.206830486\\nO 3.972204404 -1.408296629 0.70106856\\nH -0.238001799 -1.945593403 -1.178704356\\nH 1.378722194 -2.243016848 -1.872851729\\nC 0.558546889 -2.697300228 -1.294497844\\nH 1.984324861 -2.328203829 1.904391324\\nC 1.651511825 -1.966759916 0.916439769\\nH 1.852293738 -3.921602724 -0.038143446\\nH 0.242977841 -3.606211767 0.662576107\\nC 1.073504377 -3.152829252 0.096625834\\nC 0.002633416 -3.871380626 -2.058491757\\nO 0.507441784 -4.283068248 -3.090607002\\nH -1.347580901 -5.171622276 -2.09415004\\nO -1.080788324 -4.446232777 -1.542012654\\nH -0.099562609 4.474360735 2.867665333\\nO 0.488726727 3.985212419 2.304750171\\nH 3.811205871 4.187642335 2.059833568\\nH 2.66931027 3.993980008 0.703756011\\nC 3.304072658 3.446583152 1.420040266\\nH 1.878816707 1.801413274 1.676936134\\nH 3.033390431 1.980750298 3.025600472\\nC 2.412431108 2.533728039 2.302980741\\nC 1.395329548 3.357637309 3.049887161\\nO 1.392583175 3.4544289790000002 4.266523465\\n\");\n",
       "\tviewer_15687885679573176.setStyle({\"model\": -1},{\"line\": {\"color\": \"black\"}});\n",
       "\tviewer_15687885679573176.addModel(\"15 angstroem\\n\\nH -4.040882796 -1.353625964 1.8174001969999998\\nC -4.319657356 -1.573012303 0.772599319\\nH -4.836746619 0.391563102 0.162193523\\nH -6.160140498 -0.847134332 0.177814384\\nN -5.183010526 -0.545903872 0.321570078\\nH -4.612177134 -3.329140227 -1.409446975\\nH -6.180577606 -2.528665047 -1.120557388\\nC -5.486756474 -3.29490776 -0.74049761\\nH -4.367299289 -3.735878955 1.077051261\\nH -5.926074594999999 -2.917715769 1.362017134\\nC -5.041406092 -2.946842145 0.704641262\\nC -6.185323924000001 -4.630005907 -0.767100653\\nO -5.732648641 -5.59755535 -1.357450744\\nH -7.691343755 -5.579748582 -0.179842884\\nO -7.336165399 -4.702178787 -0.102748862\\n\");\n",
       "\tviewer_15687885679573176.setStyle({\"model\": -1},{\"sphere\": {\"color\": \"black\", \"scale\": 0.15}});\n",
       "\tviewer_15687885679573176.addModel(\"12 angstroem\\n\\nH -2.451865704 2.710008015 0.443850865\\nH -3.613360859 1.929592065 -0.663387909\\nC -2.993047092 2.8263687719999995 -0.508586544\\nH -0.355260442 1.916654114 -2.65718323\\nC -1.036922521 1.769543494 -1.8021102680000003\\nH -1.392037803 3.906538602 -1.519094475\\nH -2.542766466 3.108874023 -2.623599687\\nC -1.987148381 2.992134694 -1.678459372\\nC -3.89936303 4.027297827 -0.421683758\\nO -3.89553985 4.786435363 0.533970809\\nH -5.237336385 5.000265838 -1.303805698\\nO -4.714110793 4.222201294 -1.455708442\\n\");\n",
       "\tviewer_15687885679573176.setStyle({\"model\": -1},{\"sphere\": {\"color\": \"black\", \"scale\": 0.15}});\n",
       "\tviewer_15687885679573176.addModel(\"19 angstroem\\n\\nH 6.586106906 -0.909657653 1.692826432\\nC 6.767304924 -0.304189027 2.588254243\\nO 7.868246311 -0.05884107 3.053853781\\nH 5.137744044 -1.403123507 4.874093316\\nH 3.813845872 -0.544742801 4.650457508\\nH 4.262951664 -1.607543301 3.539798146\\nC 4.621985645 -0.903755404 4.165946929\\nH 5.854996061 0.961097144 3.993492399\\nC 5.49696044 0.225175324 3.254177903\\nH 3.742287394 0.737496569 2.290823134\\nN 4.744329083 0.985272694 2.326373492\\nC 5.319045605 1.913344551 1.584225537\\nO 6.502790098 2.206751478 1.625542302\\nH 4.960083864 3.312503911 -0.000264896\\nC 4.364187336 2.630814986 0.630339603\\nH 2.702326636 1.809352684 -0.281507338\\nN 3.726108732 1.692225529 -0.215629266\\nC 4.421839221 0.762724694 -0.843631911\\nO 5.631738041 0.62447468 -0.76564302\\n\");\n",
       "\tviewer_15687885679573176.setStyle({\"model\": -1},{\"sphere\": {\"color\": \"yellow\", \"scale\": 0.15}});\n",
       "\tviewer_15687885679573176.addModel(\"14 angstroem\\n\\nH -2.786179466 0.7571864479999999 -2.230221813\\nN -1.786291324 0.591069328 -2.033200808\\nC -1.212829577 -0.596972908 -1.987404429\\nO -0.031147254 -0.79307386 -1.754548698\\nH -1.58741947 -2.662777448 -1.996615935\\nC -2.161574563 -1.761906549 -2.270721587\\nH -1.800737088 -2.08044335 -4.54511163\\nH -3.15157652 -2.795796412 -4.094512468\\nH -3.1038216 -1.1991394760000003 -4.209452584\\nC -2.569942678 -1.99576886 -3.898582802\\nH -4.173226491 -1.832603921 -1.804179662\\nN -3.245688583 -1.7361906370000002 -1.360195102\\nC -3.040839404 -1.588902902 -0.064531883\\nO -1.945400394 -1.474924712 0.460889922\\n\");\n",
       "\tviewer_15687885679573176.setStyle({\"model\": -1},{\"sphere\": {\"color\": \"black\", \"scale\": 0.15}});\n",
       "\tviewer_15687885679573176.addModel(\"14 angstroem\\n\\nH -0.294238185 -1.276970067 0.837111303\\nN 0.654330431 -0.982874182 1.119801349\\nC 0.959290649 0.196696863 1.6277496259999997\\nO 2.080370651 0.54406136 1.961767624\\nH 0.210462453 2.117547567 2.024662387\\nC -0.235646954 1.136307888 1.791185524\\nH -0.809124304 0.737672285 4.008556226\\nH -2.010546281 1.457086231 3.2479212360000003\\nH -1.69645963 -0.084468233 2.948313919\\nC -1.252943626 0.807043101 3.105750249\\nH -1.905176318 1.202730025 0.575593995\\nN -0.879775858 1.322307378 0.543978588\\nC -0.186893023 1.612158125 -0.541516673\\nO 1.024539381 1.753616075 -0.5798168560000001\\n\");\n",
       "\tviewer_15687885679573176.setStyle({\"model\": -1},{\"sphere\": {\"color\": \"black\", \"scale\": 0.15}});\n",
       "\tviewer_15687885679573176.addModel(\"22 angstroem\\n\\nH 3.799291845 0.880692516 -3.790953454\\nH 2.568233218 -0.131074516 -3.809898344\\nH 2.440815079 1.252898971 -3.014167775\\nC 3.076668722 0.493880901 -3.203553139\\nH 4.264527121 -0.980780666 -2.00268014\\nC 3.580676155 -0.161471562 -1.724405448\\nH 1.628457964 -0.736397258 -1.367043529\\nN 2.57190077 -0.783326131 -0.9493621499999999\\nC 2.857912174 -1.352374549 0.206830486\\nO 3.972204404 -1.408296629 0.70106856\\nH -0.238001799 -1.945593403 -1.178704356\\nH 1.378722194 -2.243016848 -1.872851729\\nC 0.558546889 -2.697300228 -1.294497844\\nH 1.984324861 -2.328203829 1.904391324\\nC 1.651511825 -1.966759916 0.916439769\\nH 1.852293738 -3.921602724 -0.038143446\\nH 0.242977841 -3.606211767 0.662576107\\nC 1.073504377 -3.152829252 0.096625834\\nC 0.002633416 -3.871380626 -2.058491757\\nO 0.507441784 -4.283068248 -3.090607002\\nH -1.347580901 -5.171622276 -2.09415004\\nO -1.080788324 -4.446232777 -1.542012654\\n\");\n",
       "\tviewer_15687885679573176.setStyle({\"model\": -1},{\"sphere\": {\"color\": \"blue\", \"scale\": 0.15}});\n",
       "\tviewer_15687885679573176.addModel(\"10 angstroem\\n\\nH -0.099562609 4.474360735 2.867665333\\nO 0.488726727 3.985212419 2.304750171\\nH 3.811205871 4.187642335 2.059833568\\nH 2.66931027 3.993980008 0.703756011\\nC 3.304072658 3.446583152 1.420040266\\nH 1.878816707 1.801413274 1.676936134\\nH 3.033390431 1.980750298 3.025600472\\nC 2.412431108 2.533728039 2.302980741\\nC 1.395329548 3.357637309 3.049887161\\nO 1.392583175 3.4544289790000002 4.266523465\\n\");\n",
       "\tviewer_15687885679573176.setStyle({\"model\": -1},{\"sphere\": {\"color\": \"blue\", \"scale\": 0.15}});\n",
       "\tviewer_15687885679573176.zoomTo();\n",
       "viewer_15687885679573176.render();\n",
       "});\n",
       "</script>"
      ]
     },
     "metadata": {},
     "output_type": "display_data"
    }
   ],
   "source": [
    "display_qmmm(resys, target, qmmmsys[1].keys())"
   ]
  }
 ],
 "metadata": {
  "kernelspec": {
   "display_name": "Python 3",
   "language": "python",
   "name": "python3"
  },
  "language_info": {
   "codemirror_mode": {
    "name": "ipython",
    "version": 3
   },
   "file_extension": ".py",
   "mimetype": "text/x-python",
   "name": "python",
   "nbconvert_exporter": "python",
   "pygments_lexer": "ipython3",
   "version": "3.5.3"
  }
 },
 "nbformat": 4,
 "nbformat_minor": 4
}
