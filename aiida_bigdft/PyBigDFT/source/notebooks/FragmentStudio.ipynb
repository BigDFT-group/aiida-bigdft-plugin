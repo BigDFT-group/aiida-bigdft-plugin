{
 "cells": [
  {
   "cell_type": "markdown",
   "metadata": {},
   "source": [
    "# Fragment Studio\n",
    "In this notebook, we illustrate how we store the physical systems in PyBigDFT, and hwo to manipulate its individual parts.\n",
    "\n",
    "## Basic Types\n",
    "In PyBigDFT, we represent the physical system we are calculating in a three level hierarchy. First, we have atoms. Each atom has a symbol and position, but might also have any general quantity associated with it. Next we have fragments, which represent collections of atoms. Finally we have systems, which contain a collection of named fragments."
   ]
  },
  {
   "cell_type": "markdown",
   "metadata": {},
   "source": [
    "### Atoms"
   ]
  },
  {
   "cell_type": "code",
   "execution_count": 71,
   "metadata": {},
   "outputs": [],
   "source": [
    "from BigDFT import Atom as A"
   ]
  },
  {
   "cell_type": "code",
   "execution_count": 72,
   "metadata": {},
   "outputs": [],
   "source": [
    "at1 = A.Atom(r=[0.0, 0.0, 1.0], sym=\"He\")\n",
    "at2 = A.Atom(r=[0.52917721092, 0.0, 0.0], sym=\"Ne\", units=\"angstroem\")"
   ]
  },
  {
   "cell_type": "markdown",
   "metadata": {},
   "source": [
    "The most important elements of the Atom can be accessed through helper routines"
   ]
  },
  {
   "cell_type": "code",
   "execution_count": 73,
   "metadata": {},
   "outputs": [
    {
     "name": "stdout",
     "output_type": "stream",
     "text": [
      "He Ne\n",
      "[0.0, 0.0, 1.0] [1.0, 0.0, 0.0]\n",
      "[0.0, 0.0, 0.52917721092] [0.52917721092, 0.0, 0.0]\n"
     ]
    }
   ],
   "source": [
    "print(at1.sym, at2.sym)\n",
    "print(at1.get_position(), at2.get_position())\n",
    "print(at1.get_position(units=\"angstroem\"), at2.get_position(units=\"angstroem\"))"
   ]
  },
  {
   "cell_type": "markdown",
   "metadata": {},
   "source": [
    "Notice how the default position value is given in bohr. Atoms behave like python dictionaries, allowing you to supplement them with any general property."
   ]
  },
  {
   "cell_type": "code",
   "execution_count": 74,
   "metadata": {},
   "outputs": [
    {
     "name": "stdout",
     "output_type": "stream",
     "text": [
      "{'source': 'QM Calculation', 'r': [0.0, 0.0, 1.0], 'sym': 'He'}\n"
     ]
    }
   ],
   "source": [
    "at1[\"source\"] = \"QM Calculation\"\n",
    "print(dict(at1))"
   ]
  },
  {
   "cell_type": "markdown",
   "metadata": {},
   "source": [
    "### Fragments\n",
    "Fragments are built from a list of atoms. "
   ]
  },
  {
   "cell_type": "code",
   "execution_count": 78,
   "metadata": {},
   "outputs": [],
   "source": [
    "from BigDFT import Fragments as F\n",
    "frag1 = F.Fragment(atomlist=[at1, at2])"
   ]
  },
  {
   "cell_type": "code",
   "execution_count": 79,
   "metadata": {},
   "outputs": [
    {
     "name": "stdout",
     "output_type": "stream",
     "text": [
      "[0.5 0.  0.5]\n",
      "[[1. 0. 0.]\n",
      " [0. 0. 0.]\n",
      " [0. 0. 1.]]\n"
     ]
    }
   ],
   "source": [
    "print(frag1.centroid)\n",
    "print(frag1.ellipsoid())"
   ]
  },
  {
   "cell_type": "markdown",
   "metadata": {},
   "source": [
    "We can also create a fragment from an XYZ file."
   ]
  },
  {
   "cell_type": "code",
   "execution_count": 80,
   "metadata": {},
   "outputs": [],
   "source": [
    "from BigDFT import XYZ as X\n",
    "frag2 = F.Fragment(xyzfile=X.XYZReader(\"testfiles/three.xyz\"))"
   ]
  },
  {
   "cell_type": "markdown",
   "metadata": {},
   "source": [
    "Fragments behave as lists. This makes it easy to iterate over them."
   ]
  },
  {
   "cell_type": "code",
   "execution_count": 81,
   "metadata": {},
   "outputs": [
    {
     "name": "stdout",
     "output_type": "stream",
     "text": [
      "He [0.0, 0.0, 1.0]\n",
      "C [21.333118220214985, 8.556679703057988, 1.780122066032072]\n",
      "C [24.02597983744632, 5.975313816902113, 4.382274882866378]\n"
     ]
    }
   ],
   "source": [
    "from copy import deepcopy\n",
    "frag3 = frag1[:1] + frag2[3:5]\n",
    "for at in frag3:\n",
    "    print(at.sym, at.get_position())"
   ]
  },
  {
   "cell_type": "code",
   "execution_count": 82,
   "metadata": {},
   "outputs": [
    {
     "name": "stdout",
     "output_type": "stream",
     "text": [
      "[-1.7532459e-07 -8.8817842e-16  0.0000000e+00]\n"
     ]
    }
   ],
   "source": [
    "print(frag2.centroid - frag2[:36].centroid)"
   ]
  },
  {
   "cell_type": "markdown",
   "metadata": {},
   "source": [
    "### System\n",
    "At the highest level of the hierarchy are systems. Systems are collections of named fragments, and they behave like dictionaries."
   ]
  },
  {
   "cell_type": "code",
   "execution_count": 83,
   "metadata": {},
   "outputs": [],
   "source": [
    "three = F.System()\n",
    "for i in range(0, len(frag2), 36):\n",
    "    three[\"frag\"+str(i)] = frag2[i:i+36]"
   ]
  },
  {
   "cell_type": "code",
   "execution_count": 84,
   "metadata": {},
   "outputs": [
    {
     "name": "stdout",
     "output_type": "stream",
     "text": [
      "[18.80597739  4.82378834 12.43917457]\n",
      "[ 6.966843    4.82378834 12.43917457]\n",
      "[30.64511125  4.82378834 12.43917457]\n",
      "[18.80597721  4.82378834 12.43917457]\n",
      "('frag0', <BigDFT.Fragments.Fragment object at 0x7f6200ef40b8>)\n"
     ]
    }
   ],
   "source": [
    "for frag in three.values():\n",
    "    print(frag.centroid)\n",
    "print(three.centroid)\n",
    "print(three.central_fragment)"
   ]
  },
  {
   "cell_type": "markdown",
   "metadata": {},
   "source": [
    "## Basic Manipulation\n",
    "Now we turn to the basic manipulation of BigDFT systems and their constituent parts on space."
   ]
  },
  {
   "cell_type": "code",
   "execution_count": 85,
   "metadata": {},
   "outputs": [
    {
     "name": "stdout",
     "output_type": "stream",
     "text": [
      "188\n",
      "6768\n"
     ]
    }
   ],
   "source": [
    "big = F.System()\n",
    "bigf = F.Fragment(xyzfile=X.XYZReader(\"testfiles/BigCase.xyz\"))\n",
    "for i in range(0, len(bigf), 36):\n",
    "    big[\"frag\"+str(i)] = bigf[i:i+36]\n",
    "print(len(big))\n",
    "print(sum([len(x) for x in big.values()]))"
   ]
  },
  {
   "cell_type": "markdown",
   "metadata": {},
   "source": [
    "Here we will calculate the distance of each fragment from the center."
   ]
  },
  {
   "cell_type": "code",
   "execution_count": 86,
   "metadata": {
    "collapsed": false,
    "jupyter": {
     "outputs_hidden": false
    }
   },
   "outputs": [],
   "source": [
    "cxyz=big.centroid"
   ]
  },
  {
   "cell_type": "code",
   "execution_count": 87,
   "metadata": {
    "collapsed": false,
    "jupyter": {
     "outputs_hidden": false
    }
   },
   "outputs": [],
   "source": [
    "import numpy as np\n",
    "dist=[]\n",
    "for frag in big.values():\n",
    "    v=frag.centroid-cxyz\n",
    "    dist.append(np.linalg.norm(v))"
   ]
  },
  {
   "cell_type": "code",
   "execution_count": 88,
   "metadata": {
    "collapsed": false,
    "jupyter": {
     "outputs_hidden": false
    }
   },
   "outputs": [
    {
     "data": {
      "text/plain": [
       "8.998864683335905"
      ]
     },
     "execution_count": 88,
     "metadata": {},
     "output_type": "execute_result"
    }
   ],
   "source": [
    "min(dist)"
   ]
  },
  {
   "cell_type": "code",
   "execution_count": 89,
   "metadata": {
    "collapsed": false,
    "jupyter": {
     "outputs_hidden": false
    }
   },
   "outputs": [],
   "source": [
    "DPP=[]\n",
    "for f in big.values():\n",
    "    DPP.append(np.array([F.distance(f,g) for g in big.values()]))"
   ]
  },
  {
   "cell_type": "code",
   "execution_count": 90,
   "metadata": {
    "collapsed": false,
    "jupyter": {
     "outputs_hidden": false
    }
   },
   "outputs": [],
   "source": [
    "thr=18.0\n",
    "NN=[]\n",
    "for i,f in enumerate(big.values()):\n",
    "    inn=0\n",
    "    for g in DPP[i]:\n",
    "        if g< thr and g !=0.0: inn+=1\n",
    "    NN.append(inn)\n",
    "import matplotlib.pyplot as plt"
   ]
  },
  {
   "cell_type": "code",
   "execution_count": 91,
   "metadata": {
    "collapsed": false,
    "jupyter": {
     "outputs_hidden": false
    }
   },
   "outputs": [
    {
     "data": {
      "image/png": "[encoded data removed]",
      "text/plain": [
       "<Figure size 432x288 with 1 Axes>"
      ]
     },
     "metadata": {
      "needs_background": "light"
     },
     "output_type": "display_data"
    }
   ],
   "source": [
    "plotNN=plt.plot(dist,NN,'o')"
   ]
  },
  {
   "cell_type": "code",
   "execution_count": 92,
   "metadata": {
    "collapsed": false,
    "jupyter": {
     "outputs_hidden": false
    }
   },
   "outputs": [],
   "source": [
    "%matplotlib inline\n",
    "plt.show()"
   ]
  },
  {
   "cell_type": "code",
   "execution_count": 93,
   "metadata": {
    "collapsed": false,
    "jupyter": {
     "outputs_hidden": false
    }
   },
   "outputs": [
    {
     "name": "stdout",
     "output_type": "stream",
     "text": [
      "found 11 9.866288996735245\n",
      "found 13 14.713532748633055\n",
      "found 21 8.998980617809769\n",
      "found 49 17.997968275700106\n",
      "found 74 17.997889406778615\n",
      "found 126 9.866111346693042\n",
      "found 181 8.998864683335905\n",
      "found 184 14.713312006948046\n"
     ]
    }
   ],
   "source": [
    "holef=[]\n",
    "for i,n in enumerate(NN):\n",
    "    if n==8 and dist[i] < 30: \n",
    "        print ('found',i,dist[i])\n",
    "        holef.append(i)"
   ]
  },
  {
   "cell_type": "code",
   "execution_count": 94,
   "metadata": {
    "collapsed": false,
    "jupyter": {
     "outputs_hidden": false
    }
   },
   "outputs": [
    {
     "name": "stdout",
     "output_type": "stream",
     "text": [
      "[ 3.95779152e-05  3.96290001e-05 -3.14265335e-05]\n"
     ]
    }
   ],
   "source": [
    "from numpy import zeros\n",
    "oxyz=zeros(3)\n",
    "for h in holef:\n",
    "    oxyz+= list(big.values())[h].centroid\n",
    "print (oxyz/len(holef)-big.centroid)"
   ]
  },
  {
   "cell_type": "code",
   "execution_count": 95,
   "metadata": {
    "collapsed": false,
    "jupyter": {
     "outputs_hidden": false
    }
   },
   "outputs": [],
   "source": [
    "frg3=list(three.values())[0]"
   ]
  },
  {
   "cell_type": "code",
   "execution_count": 96,
   "metadata": {
    "collapsed": false,
    "jupyter": {
     "outputs_hidden": false
    }
   },
   "outputs": [],
   "source": [
    "c3=frg3.centroid\n",
    "cb=oxyz/len(holef)\n",
    "shift=np.mat(cb-c3).T"
   ]
  },
  {
   "cell_type": "code",
   "execution_count": 97,
   "metadata": {
    "collapsed": false,
    "jupyter": {
     "outputs_hidden": false
    }
   },
   "outputs": [],
   "source": [
    "frg3.translate(shift)"
   ]
  },
  {
   "cell_type": "markdown",
   "metadata": {},
   "source": [
    "## System Calculations\n",
    "Finally, we show how to use the systems we have generated in actual calculations. First we setup the input file."
   ]
  },
  {
   "cell_type": "code",
   "execution_count": 98,
   "metadata": {},
   "outputs": [
    {
     "name": "stdout",
     "output_type": "stream",
     "text": [
      "Initialize a Calculator with OMP_NUM_THREADS=2 and command mpirun /home/wdawson/share/binaries/python3/install/bin/bigdft\n"
     ]
    }
   ],
   "source": [
    "from BigDFT import Calculators as C\n",
    "code = C.SystemCalculator(omp=2, mpi_run=\"mpirun\")\n",
    "code.update_global_options(skip=True)"
   ]
  },
  {
   "cell_type": "code",
   "execution_count": 99,
   "metadata": {},
   "outputs": [],
   "source": [
    "from BigDFT import Inputfiles as I\n",
    "inp = I.Inputfile()\n",
    "inp.set_xc(\"PBE\")\n",
    "inp.set_hgrid(0.4)"
   ]
  },
  {
   "cell_type": "markdown",
   "metadata": {},
   "source": [
    "Build a system."
   ]
  },
  {
   "cell_type": "code",
   "execution_count": 100,
   "metadata": {},
   "outputs": [],
   "source": [
    "f1 = F.Fragment(xyzfile=X.XYZReader(\"testfiles/three.xyz\"))[0:36]\n",
    "sys = F.System()\n",
    "sys[\"FRAG:1\"] = f1"
   ]
  },
  {
   "cell_type": "markdown",
   "metadata": {},
   "source": [
    "Now for the geometry."
   ]
  },
  {
   "cell_type": "code",
   "execution_count": 101,
   "metadata": {},
   "outputs": [],
   "source": [
    "inp[\"posinp\"]= sys.get_posinp(\"angstroem\")"
   ]
  },
  {
   "cell_type": "code",
   "execution_count": 102,
   "metadata": {},
   "outputs": [
    {
     "name": "stdout",
     "output_type": "stream",
     "text": [
      "Creating the yaml input file \"./test.yaml\"\n",
      "Executing command:  mpirun /home/wdawson/share/binaries/python3/install/bin/bigdft -n test -s Yes\n"
     ]
    }
   ],
   "source": [
    "log = code.run(name=\"test\", input=inp)"
   ]
  }
 ],
 "metadata": {
  "kernelspec": {
   "display_name": "Python 2",
   "language": "python",
   "name": "python2"
  },
  "language_info": {
   "codemirror_mode": {
    "name": "ipython",
    "version": 3
   },
   "file_extension": ".py",
   "mimetype": "text/x-python",
   "name": "python",
   "nbconvert_exporter": "python",
   "pygments_lexer": "ipython3",
   "version": "3.5.3"
  }
 },
 "nbformat": 4,
 "nbformat_minor": 4
}
