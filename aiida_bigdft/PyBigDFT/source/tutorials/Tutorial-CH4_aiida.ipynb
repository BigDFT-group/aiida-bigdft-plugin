{
 "cells": [
  {
   "cell_type": "markdown",
   "metadata": {},
   "source": [
    "# Running a wavelet computation on a $CH_4$ molecule, with AiiDa\n",
    "\n",
    "This is a copy of the CH4 tutorial, please check the CH4 tutorial first for details about computations and datasets.\n",
    "The purpose of this tutorial is to outline the integration of AiiDa with BigDFT workflows and datasets. This allows jobs to be offloaded to remote supercomputers and database storage of computed results, as well as transparent integration with PyBigDFT analysis tools.\n",
    "\n",
    "## Introduction: AiiDa installation\n",
    "\n",
    "AiiDa must be functional on your system for this tutorial. Please install the prerequisites from [here](https://aiida.readthedocs.io/projects/aiida-core/en/latest/install/prerequisites.html), follow the steps from the guide [here](https://aiida-core.readthedocs.io/en/latest/install/installation.html) to setup the latest version of AiiDA, and take some time to familiarize with this environment and verdi command line tools.\n",
    "\n",
    "This tutorial should be run from Aiida's python virtual environment. Jupyter should also be setup in a way that either \"import aiida\", \"%aiida\", or with a compatible aiida-aware kernel. Check [this page](https://aiida-core.readthedocs.io/en/latest/install/configuration.html#using-aiida-in-jupyter) for details.\n",
    "\n",
    "Once aiida is installed, you need to install the BigDFT plugin, with 'pip install aiida-bigdft', or locally, using the one available on https://github.com/aiidateam/aiida-bigdft-plugin.\n",
    "\n",
    "Once installed, you need to start the verdi daemon with PyBigDFT's path in the PYTHONPATH. If BigDFT is installed locally, this can be done by executing 'source BIGDFT_INSTALL_PATH/bin/bigdftvars.sh' before running. \n",
    "\n",
    "If BigDFT is not installed locally, you may need to execute 'export PYTHONPATH=BIGDFT_SOURCE_PATH/PyBigDFT/:BIGDFT_SOURCE_PATH/futile/src/python'\n",
    "\n",
    "Next you need to setup machines and codes you will use.\n",
    "In this tutorial we will use a 'localhost' machine, without scheduler. BigDFT needs to be installed on the machine."
   ]
  },
  {
   "cell_type": "markdown",
   "metadata": {},
   "source": [
    "### Aiida setup for the tutorial\n",
    "\n",
    "#### Computer\n",
    "`verdi computer setup`\n",
    "\n",
    "then enter\n",
    "- Computer label: localhost\n",
    "- Hostname: localhost\n",
    "- Description []: \n",
    "- Transport plugin: local\n",
    "- Scheduler plugin: direct\n",
    "- Shebang line (first line of each script, starting with #!) [#!/bin/bash]: \n",
    "- Work directory on the computer [/scratch/{username}/aiida/]: path/to/a/folder/to/store/aiida/generated/files\n",
    "- Mpirun command [mpirun -np {tot_num_mpiprocs}]: \n",
    "- Default number of CPUs per machine: number of cores of your computer (or less)\n",
    "Then, no need for a specific script, just hit escape and then :wq to exit.\n",
    "              \n",
    "Once this is done, just launch\n",
    "\n",
    "`verdi computer configure local localhost`\n",
    "\n",
    "and keep the default setting to allow usage of the computer. \n",
    "\n",
    "\n",
    "#### Code\n",
    "\n",
    "`verdi code setup`\n",
    "\n",
    "- Label: bigdft\n",
    "- Description []: bigdft on localhost\n",
    "- Default calculation input plugin: bigdft\n",
    "- Installed on target computer? [True]:    \n",
    "- Computer: localhost\n",
    "- Remote absolute path: /path/to/bigdft/install/bin/bigdft\n",
    "\n",
    "And in the \"pre execution script\" section, add \n",
    "\n",
    "`source /path/to/bigdft/install/bin/bigdftvars.sh`\n"
   ]
  },
  {
   "cell_type": "code",
   "execution_count": 1,
   "metadata": {},
   "outputs": [],
   "source": [
    "#prepare computation the same way as in normal computation:\n",
    "inp = { 'dft': { 'hgrids': 0.55, 'rmult': [3.5, 9.0]} }\n",
    "# becomes\n",
    "from BigDFT import Inputfiles as I\n",
    "inp=I.Inputfile()\n",
    "inp.set_hgrid(0.55)\n",
    "inp.set_rmult([3.5,9.0])"
   ]
  },
  {
   "cell_type": "code",
   "execution_count": 2,
   "metadata": {},
   "outputs": [],
   "source": [
    "inp.set_atomic_positions('CH4_posinp.xyz')"
   ]
  },
  {
   "cell_type": "markdown",
   "metadata": {},
   "source": [
    "A simple calculation can now be run on the selected platform using an AiidaCalculator instead of SystemCalculator.\n",
    "- code is a mandatory option, to select the code and the target computer\n",
    "- num_machines, mpiprocs_per_machine, omp (number of OpenMP threads per MPI process), walltime are optional parameters "
   ]
  },
  {
   "cell_type": "code",
   "execution_count": null,
   "metadata": {},
   "outputs": [],
   "source": [
    "%aiida\n",
    "from BigDFT import AiidaCalculator as calc\n",
    "reload(calc)\n",
    "study = calc.AiidaCalculator(code=\"bigdft@localhost\", \n",
    "                             num_machines=1, \n",
    "                             mpiprocs_per_machine=1, \n",
    "                             omp=1,\n",
    "                             walltime=3600) #Create a calculator\n",
    "ch4 = study.run(input=inp)"
   ]
  },
  {
   "cell_type": "markdown",
   "metadata": {},
   "source": [
    "*ch4* is the instance of the class Logfile which can handle easily all information coming from the output file **log.yaml**.\n",
    "Then we can display some information as:"
   ]
  },
  {
   "cell_type": "code",
   "execution_count": 4,
   "metadata": {},
   "outputs": [
    {
     "name": "stdout",
     "output_type": "stream",
     "text": [
      "- Atom types:\n",
      "  - C\n",
      "  - H\n",
      "- cell: Free BC\n",
      "- forcemax_cv: 0.0\n",
      "- symmetry: disabled\n",
      "- energy: -8.025741170832761\n",
      "- grid_spacing: 0.55\n",
      "- XC_parameter: 1\n",
      "- nat: 5\n",
      "- forcemax: 0.02215090866814\n",
      "- dipole:\n",
      "  - -0.004290608\n",
      "  - -0.004290608\n",
      "  - -0.004290608\n",
      "- spin_polarization: 1\n",
      "- system_charge: 0\n",
      "- number_of_orbitals: 4\n",
      "- rmult:\n",
      "  - 3.5\n",
      "  - 9.0\n",
      "- fermi_level: -0.341339593821\n",
      "- posinp_file: CH4_posinp.xyz\n",
      "- total_magn_moment: 0\n",
      "- gnrm_cv: 0.0001\n",
      "- No. of KS orbitals:\n",
      "  - 4\n",
      "\n"
     ]
    }
   ],
   "source": [
    "print ch4"
   ]
  },
  {
   "cell_type": "markdown",
   "metadata": {},
   "source": [
    "# Construction of the input dataset dictionaries\n",
    "As in plain BigDFT notebook, you can group computations in Datasets.\n",
    "Aiida's main feature in this case is the possibility to launch all the computations from the dataset asynchronously, creating and tracking multiple parallel jobs to execute on the target computer.\n",
    "\n",
    "metadata can be assigned to Datasets to tune runtime parameters or scheduler options for all internal computation tasks.\n",
    "\n",
    "Let us build two different dataset of inputfiles, the first one synchronous, the other asynchronous.\n",
    "We also label each of the input dictionaries by a unique name identifying the run."
   ]
  },
  {
   "cell_type": "code",
   "execution_count": 5,
   "metadata": {},
   "outputs": [],
   "source": [
    "from BigDFT import Datasets as D\n",
    "import copy\n",
    "hgrids = [ 0.55 - i*0.05 for i in range(8)]\n",
    "crmult = [ 3.5 + i*0.5 for i in range(8)]"
   ]
  },
  {
   "cell_type": "code",
   "execution_count": 6,
   "metadata": {},
   "outputs": [],
   "source": [
    "metadata={\n",
    "    #'queue_name':'my_queue', \n",
    "    #'account':'my_account', \n",
    "    #'qos':'myqos'\n",
    "}\n",
    "h_only_dataset=D.Dataset('h_only',run_dir=\".\",metadata=metadata)\n",
    "for h in hgrids:\n",
    "    inp_run=copy.deepcopy(inp)\n",
    "    inp_run['dft']['hgrids'] = h\n",
    "    label_run='h='+str(h)\n",
    "    h_only_dataset.append_run(id={'h':h} , runner=study , input=inp_run)"
   ]
  },
  {
   "cell_type": "code",
   "execution_count": 7,
   "metadata": {},
   "outputs": [],
   "source": [
    "c_only_dataset=D.Dataset('c_only',run_dir=\".\", async=True,metadata=metadata)\n",
    "for c in crmult:\n",
    "    inp_run=copy.deepcopy(inp)\n",
    "    inp_run['dft']['rmult'] = [c,9.0] #only change crmult\n",
    "    label_run='c='+str(c)\n",
    "    c_only_dataset.append_run(id={'c':c} , runner=study , input=inp_run)"
   ]
  },
  {
   "cell_type": "code",
   "execution_count": 8,
   "metadata": {},
   "outputs": [],
   "source": [
    "h_and_c_dataset=D.Dataset('h_and_c',run_dir=\".\", async=True,metadata=metadata)\n",
    "for h,c in zip(hgrids,crmult):\n",
    "    inp_run=copy.deepcopy(inp)\n",
    "    inp_run['dft']['hgrids'] = h\n",
    "    inp_run['dft']['rmult'] = [c,9.0] #only change crmult\n",
    "    h_and_c_dataset.append_run(id={'h':h,'c':c} , runner=study , input=inp_run)"
   ]
  },
  {
   "cell_type": "markdown",
   "metadata": {},
   "source": [
    "We then run the first dataset synchronously, one job at a time, which will block us a while:"
   ]
  },
  {
   "cell_type": "code",
   "execution_count": null,
   "metadata": {},
   "outputs": [],
   "source": [
    "h_only_dataset.run()\n",
    "h_only_results = h_only_dataset.results"
   ]
  },
  {
   "cell_type": "markdown",
   "metadata": {},
   "source": [
    "Launch  the second and third datasets asynchronously.\n",
    "\n",
    "- WARNING : if you are running locally, this will launch several instances of bigdft at the same time, which could use a lot of memory. \n"
   ]
  },
  {
   "cell_type": "code",
   "execution_count": null,
   "metadata": {},
   "outputs": [],
   "source": [
    "c_only_dataset.run()"
   ]
  },
  {
   "cell_type": "code",
   "execution_count": null,
   "metadata": {},
   "outputs": [],
   "source": [
    "h_and_c_dataset.run()"
   ]
  },
  {
   "cell_type": "markdown",
   "metadata": {},
   "source": [
    "As the dataset has been launched asynchronously, we now must wait for the end of execution, and gather the results (we can do other work while the dataset is running).\n",
    "The wait() call is an optional commodity which will return only when AiiDa reports that no process from the dataset is running anymore, allowing to postprocess the data.\n",
    "- Hint : use jupyter-notify to get a notification in your browser when a cell finishes : pip install jupyternotify, then uncomment next cell and the %notify magic which activates it for a given cell."
   ]
  },
  {
   "cell_type": "code",
   "execution_count": 12,
   "metadata": {},
   "outputs": [],
   "source": [
    "#%load_ext jupyternotify"
   ]
  },
  {
   "cell_type": "code",
   "execution_count": 13,
   "metadata": {},
   "outputs": [
    {
     "data": {
      "text/plain": [
       "'0 processes still running'"
      ]
     },
     "metadata": {},
     "output_type": "display_data"
    }
   ],
   "source": [
    "#%notify\n",
    "c_only_dataset.wait()\n",
    "h_and_c_dataset.wait()"
   ]
  },
  {
   "cell_type": "markdown",
   "metadata": {},
   "source": [
    "Aiida retrieves logfiles and other output files from BigDFT automatically. To load them in this notebook, get_logfiles() can be used"
   ]
  },
  {
   "cell_type": "code",
   "execution_count": null,
   "metadata": {},
   "outputs": [],
   "source": [
    "c_only_results=c_only_dataset.get_logfiles()\n",
    "h_and_c_results=h_and_c_dataset.get_logfiles()"
   ]
  },
  {
   "cell_type": "markdown",
   "metadata": {},
   "source": [
    "We now store the energies of each of the dataset runs, and identify the minimum as the minimum value from the `h_and_c` dataset:"
   ]
  },
  {
   "cell_type": "code",
   "execution_count": 15,
   "metadata": {},
   "outputs": [],
   "source": [
    "import matplotlib.pyplot as plt\n",
    "import numpy as np\n",
    "energies_h=np.array([h_only_results[c].energy for c in h_only_results])\n",
    "energies_c=np.array([c_only_results[c].energy for c in c_only_results])\n",
    "energies_hc=np.array([h_and_c_results[c].energy for c in h_and_c_results])\n",
    "#find the minimum\n",
    "emin=np.min(energies_hc)"
   ]
  },
  {
   "cell_type": "markdown",
   "metadata": {},
   "source": [
    "We plot the energy values varying the grid spacing or the extension"
   ]
  },
  {
   "cell_type": "code",
   "execution_count": 16,
   "metadata": {},
   "outputs": [
    {
     "data": {
      "text/plain": [
       "<matplotlib.legend.Legend at 0x7fe018d0d710>"
      ]
     },
     "execution_count": 16,
     "metadata": {},
     "output_type": "execute_result"
    },
    {
     "data": {
      "image/png": "[encoded data removed]",
      "text/plain": [
       "<Figure size 432x288 with 1 Axes>"
      ]
     },
     "metadata": {
      "needs_background": "light"
     },
     "output_type": "display_data"
    }
   ],
   "source": [
    "%matplotlib inline\n",
    "plt.xlabel('Grid step (Bohr)')\n",
    "plt.plot(hgrids,energies_h-emin,label='crmult=3.5')\n",
    "plt.plot(hgrids,energies_hc-emin,label='varying hgrids+crmult')\n",
    "plt.yscale('log')\n",
    "plt.legend(loc='best')"
   ]
  },
  {
   "cell_type": "code",
   "execution_count": 18,
   "metadata": {
    "scrolled": true
   },
   "outputs": [
    {
     "data": {
      "text/plain": [
       "<matplotlib.legend.Legend at 0x7fdff10bb6d0>"
      ]
     },
     "execution_count": 18,
     "metadata": {},
     "output_type": "execute_result"
    },
    {
     "data": {
      "image/png": "[encoded data removed]",
      "text/plain": [
       "<Figure size 432x288 with 1 Axes>"
      ]
     },
     "metadata": {
      "needs_background": "light"
     },
     "output_type": "display_data"
    }
   ],
   "source": [
    "plt.xlabel('Crmult value')\n",
    "plt.plot(crmult,energies_c-emin,label='hgrid=0.55')\n",
    "plt.plot(crmult,energies_hc-emin,label='varying hgrids+crmult')\n",
    "plt.yscale('log')\n",
    "plt.legend(loc='best')"
   ]
  },
  {
   "cell_type": "markdown",
   "metadata": {},
   "source": [
    "And we can the analyze results exactly as in a non-AiiDa notebook"
   ]
  },
  {
   "cell_type": "code",
   "execution_count": null,
   "metadata": {},
   "outputs": [],
   "source": []
  }
 ],
 "metadata": {
  "kernelspec": {
   "display_name": "aiida",
   "language": "python",
   "name": "aiida"
  },
  "language_info": {
   "codemirror_mode": {
    "name": "ipython",
    "version": 2
   },
   "file_extension": ".py",
   "mimetype": "text/x-python",
   "name": "python",
   "nbconvert_exporter": "python",
   "pygments_lexer": "ipython2",
   "version": "2.7.15rc1"
  }
 },
 "nbformat": 4,
 "nbformat_minor": 2
}
